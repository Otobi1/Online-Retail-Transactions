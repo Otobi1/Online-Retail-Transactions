{
  "nbformat": 4,
  "nbformat_minor": 0,
  "metadata": {
    "colab": {
      "name": "Online Retail Transactions - Customer Segmentation w/ RFM",
      "provenance": [],
      "authorship_tag": "ABX9TyPR/gI6cxEVFP6lNFnqQETb",
      "include_colab_link": true
    },
    "kernelspec": {
      "name": "python3",
      "display_name": "Python 3"
    },
    "language_info": {
      "name": "python"
    }
  },
  "cells": [
    {
      "cell_type": "markdown",
      "metadata": {
        "id": "view-in-github",
        "colab_type": "text"
      },
      "source": [
        "<a href=\"https://colab.research.google.com/github/Otobi1/Online-Retail-Transactions/blob/master/Online_Retail_Transactions_Customer_Segmentation_w_RFM.ipynb\" target=\"_parent\"><img src=\"https://colab.research.google.com/assets/colab-badge.svg\" alt=\"Open In Colab\"/></a>"
      ]
    },
    {
      "cell_type": "code",
      "metadata": {
        "id": "99c8Ot1yJbGf"
      },
      "source": [
        "# Installing lifetimes and jcopml quietly (without the install logs)\n",
        "\n",
        "!pip install lifetimes --quiet \n",
        "!pip install jcopml --quiet "
      ],
      "execution_count": 44,
      "outputs": []
    },
    {
      "cell_type": "code",
      "metadata": {
        "colab": {
          "base_uri": "https://localhost:8080/"
        },
        "id": "_LgzIgxYj2kC",
        "outputId": "b816b4df-bdc2-4863-87a6-766f7892a7aa"
      },
      "source": [
        "# Importing the necessary libraries \n",
        "\n",
        "import pandas as pd\n",
        "import numpy as np\n",
        "import csv\n",
        "import matplotlib.pyplot as plt\n",
        "from pandas.plotting import scatter_matrix\n",
        "from matplotlib.image import imread\n",
        "import seaborn as sns\n",
        "from sklearn.cluster import KMeans, SpectralClustering\n",
        "from sklearn.preprocessing import StandardScaler\n",
        "from sklearn.metrics import silhouette_samples, silhouette_score\n",
        "from sklearn.metrics.pairwise import  cosine_similarity\n",
        "import datetime as dt\n",
        "from sklearn.preprocessing import MinMaxScaler, StandardScaler\n",
        "from sklearn.cluster import KMeans, AgglomerativeClustering\n",
        "from scipy.cluster.hierarchy import linkage, dendrogram, cut_tree\n",
        "from lifetimes.utils import summary_data_from_transaction_data\n",
        "from jcopml.plot import plot_missing_value\n",
        "\n",
        "# Hopkins statistics - tells us how much data is suitable to cluster \n",
        "\n",
        "from sklearn.neighbors import NearestNeighbors\n",
        "from random import sample\n",
        "from numpy.random import uniform\n",
        "from math import isnan\n",
        "\n",
        "%matplotlib inline\n",
        "sns.set_context('notebook')\n",
        "plt.style.use('fivethirtyeight')\n",
        "from warnings import filterwarnings\n",
        "filterwarnings('ignore')\n",
        "\n",
        "print ('Libraries successfully imported!')"
      ],
      "execution_count": 1,
      "outputs": [
        {
          "output_type": "stream",
          "text": [
            "Libraries successfully imported!\n"
          ],
          "name": "stdout"
        }
      ]
    },
    {
      "cell_type": "code",
      "metadata": {
        "colab": {
          "base_uri": "https://localhost:8080/"
        },
        "id": "z28DuX10kadt",
        "outputId": "0fa9d882-12b1-497b-dca8-1352fae13eea"
      },
      "source": [
        "# Mount the drive, because the data is already on the GDrive\n",
        "\n",
        "from google.colab import drive # for more on writing and reading files through colab https://towardsdatascience.com/reading-and-writing-files-with-google-colaboratory-f0c234683946\n",
        "drive.mount(\"/drive\") "
      ],
      "execution_count": 2,
      "outputs": [
        {
          "output_type": "stream",
          "text": [
            "Drive already mounted at /drive; to attempt to forcibly remount, call drive.mount(\"/drive\", force_remount=True).\n"
          ],
          "name": "stdout"
        }
      ]
    },
    {
      "cell_type": "code",
      "metadata": {
        "id": "PmuAjunxkaUq"
      },
      "source": [
        "# Loading the dataset from the GDrive\n",
        "\n",
        "clean_final_retail_data = pd.read_csv(\"/drive/My Drive/Colab Notebooks/clean_final_retail_data.csv\")"
      ],
      "execution_count": 3,
      "outputs": []
    },
    {
      "cell_type": "code",
      "metadata": {
        "colab": {
          "base_uri": "https://localhost:8080/",
          "height": 202
        },
        "id": "2veebLfukaRV",
        "outputId": "f03f482c-4313-4b2a-e03c-83664bdcab03"
      },
      "source": [
        "# Exploring the first 5 observations in the dataset\n",
        "\n",
        "clean_final_retail_data.head()"
      ],
      "execution_count": 4,
      "outputs": [
        {
          "output_type": "execute_result",
          "data": {
            "text/html": [
              "<div>\n",
              "<style scoped>\n",
              "    .dataframe tbody tr th:only-of-type {\n",
              "        vertical-align: middle;\n",
              "    }\n",
              "\n",
              "    .dataframe tbody tr th {\n",
              "        vertical-align: top;\n",
              "    }\n",
              "\n",
              "    .dataframe thead th {\n",
              "        text-align: right;\n",
              "    }\n",
              "</style>\n",
              "<table border=\"1\" class=\"dataframe\">\n",
              "  <thead>\n",
              "    <tr style=\"text-align: right;\">\n",
              "      <th></th>\n",
              "      <th>Invoice</th>\n",
              "      <th>StockCode</th>\n",
              "      <th>Description</th>\n",
              "      <th>Quantity</th>\n",
              "      <th>InvoiceDate</th>\n",
              "      <th>Price</th>\n",
              "      <th>Customer ID</th>\n",
              "      <th>Country</th>\n",
              "    </tr>\n",
              "  </thead>\n",
              "  <tbody>\n",
              "    <tr>\n",
              "      <th>0</th>\n",
              "      <td>489434</td>\n",
              "      <td>85048</td>\n",
              "      <td>15CM CHRISTMAS GLASS BALL 20 LIGHTS</td>\n",
              "      <td>12</td>\n",
              "      <td>2009-12-01 07:45:00</td>\n",
              "      <td>6.95</td>\n",
              "      <td>13085.0</td>\n",
              "      <td>United Kingdom</td>\n",
              "    </tr>\n",
              "    <tr>\n",
              "      <th>1</th>\n",
              "      <td>489434</td>\n",
              "      <td>79323P</td>\n",
              "      <td>PINK CHERRY LIGHTS</td>\n",
              "      <td>12</td>\n",
              "      <td>2009-12-01 07:45:00</td>\n",
              "      <td>6.75</td>\n",
              "      <td>13085.0</td>\n",
              "      <td>United Kingdom</td>\n",
              "    </tr>\n",
              "    <tr>\n",
              "      <th>2</th>\n",
              "      <td>489434</td>\n",
              "      <td>79323W</td>\n",
              "      <td>WHITE CHERRY LIGHTS</td>\n",
              "      <td>12</td>\n",
              "      <td>2009-12-01 07:45:00</td>\n",
              "      <td>6.75</td>\n",
              "      <td>13085.0</td>\n",
              "      <td>United Kingdom</td>\n",
              "    </tr>\n",
              "    <tr>\n",
              "      <th>3</th>\n",
              "      <td>489434</td>\n",
              "      <td>22041</td>\n",
              "      <td>RECORD FRAME 7\" SINGLE SIZE</td>\n",
              "      <td>48</td>\n",
              "      <td>2009-12-01 07:45:00</td>\n",
              "      <td>2.10</td>\n",
              "      <td>13085.0</td>\n",
              "      <td>United Kingdom</td>\n",
              "    </tr>\n",
              "    <tr>\n",
              "      <th>4</th>\n",
              "      <td>489434</td>\n",
              "      <td>21232</td>\n",
              "      <td>STRAWBERRY CERAMIC TRINKET BOX</td>\n",
              "      <td>24</td>\n",
              "      <td>2009-12-01 07:45:00</td>\n",
              "      <td>1.25</td>\n",
              "      <td>13085.0</td>\n",
              "      <td>United Kingdom</td>\n",
              "    </tr>\n",
              "  </tbody>\n",
              "</table>\n",
              "</div>"
            ],
            "text/plain": [
              "   Invoice StockCode  ... Customer ID         Country\n",
              "0   489434     85048  ...     13085.0  United Kingdom\n",
              "1   489434    79323P  ...     13085.0  United Kingdom\n",
              "2   489434    79323W  ...     13085.0  United Kingdom\n",
              "3   489434     22041  ...     13085.0  United Kingdom\n",
              "4   489434     21232  ...     13085.0  United Kingdom\n",
              "\n",
              "[5 rows x 8 columns]"
            ]
          },
          "metadata": {
            "tags": []
          },
          "execution_count": 4
        }
      ]
    },
    {
      "cell_type": "code",
      "metadata": {
        "colab": {
          "base_uri": "https://localhost:8080/",
          "height": 355
        },
        "id": "gBrTzUVYkaJT",
        "outputId": "0da2ab6e-0fff-4f2c-a349-b892bebb6ede"
      },
      "source": [
        "# Creating a new column called total cost by multiplying the quantity and price\n",
        "\n",
        "clean_final_retail_data['TotalCost'] = clean_final_retail_data['Quantity'] * clean_final_retail_data['Price']\n",
        "\n",
        "clean_final_retail_data.head(10)"
      ],
      "execution_count": 5,
      "outputs": [
        {
          "output_type": "execute_result",
          "data": {
            "text/html": [
              "<div>\n",
              "<style scoped>\n",
              "    .dataframe tbody tr th:only-of-type {\n",
              "        vertical-align: middle;\n",
              "    }\n",
              "\n",
              "    .dataframe tbody tr th {\n",
              "        vertical-align: top;\n",
              "    }\n",
              "\n",
              "    .dataframe thead th {\n",
              "        text-align: right;\n",
              "    }\n",
              "</style>\n",
              "<table border=\"1\" class=\"dataframe\">\n",
              "  <thead>\n",
              "    <tr style=\"text-align: right;\">\n",
              "      <th></th>\n",
              "      <th>Invoice</th>\n",
              "      <th>StockCode</th>\n",
              "      <th>Description</th>\n",
              "      <th>Quantity</th>\n",
              "      <th>InvoiceDate</th>\n",
              "      <th>Price</th>\n",
              "      <th>Customer ID</th>\n",
              "      <th>Country</th>\n",
              "      <th>TotalCost</th>\n",
              "    </tr>\n",
              "  </thead>\n",
              "  <tbody>\n",
              "    <tr>\n",
              "      <th>0</th>\n",
              "      <td>489434</td>\n",
              "      <td>85048</td>\n",
              "      <td>15CM CHRISTMAS GLASS BALL 20 LIGHTS</td>\n",
              "      <td>12</td>\n",
              "      <td>2009-12-01 07:45:00</td>\n",
              "      <td>6.95</td>\n",
              "      <td>13085.0</td>\n",
              "      <td>United Kingdom</td>\n",
              "      <td>83.4</td>\n",
              "    </tr>\n",
              "    <tr>\n",
              "      <th>1</th>\n",
              "      <td>489434</td>\n",
              "      <td>79323P</td>\n",
              "      <td>PINK CHERRY LIGHTS</td>\n",
              "      <td>12</td>\n",
              "      <td>2009-12-01 07:45:00</td>\n",
              "      <td>6.75</td>\n",
              "      <td>13085.0</td>\n",
              "      <td>United Kingdom</td>\n",
              "      <td>81.0</td>\n",
              "    </tr>\n",
              "    <tr>\n",
              "      <th>2</th>\n",
              "      <td>489434</td>\n",
              "      <td>79323W</td>\n",
              "      <td>WHITE CHERRY LIGHTS</td>\n",
              "      <td>12</td>\n",
              "      <td>2009-12-01 07:45:00</td>\n",
              "      <td>6.75</td>\n",
              "      <td>13085.0</td>\n",
              "      <td>United Kingdom</td>\n",
              "      <td>81.0</td>\n",
              "    </tr>\n",
              "    <tr>\n",
              "      <th>3</th>\n",
              "      <td>489434</td>\n",
              "      <td>22041</td>\n",
              "      <td>RECORD FRAME 7\" SINGLE SIZE</td>\n",
              "      <td>48</td>\n",
              "      <td>2009-12-01 07:45:00</td>\n",
              "      <td>2.10</td>\n",
              "      <td>13085.0</td>\n",
              "      <td>United Kingdom</td>\n",
              "      <td>100.8</td>\n",
              "    </tr>\n",
              "    <tr>\n",
              "      <th>4</th>\n",
              "      <td>489434</td>\n",
              "      <td>21232</td>\n",
              "      <td>STRAWBERRY CERAMIC TRINKET BOX</td>\n",
              "      <td>24</td>\n",
              "      <td>2009-12-01 07:45:00</td>\n",
              "      <td>1.25</td>\n",
              "      <td>13085.0</td>\n",
              "      <td>United Kingdom</td>\n",
              "      <td>30.0</td>\n",
              "    </tr>\n",
              "    <tr>\n",
              "      <th>5</th>\n",
              "      <td>489434</td>\n",
              "      <td>22064</td>\n",
              "      <td>PINK DOUGHNUT TRINKET POT</td>\n",
              "      <td>24</td>\n",
              "      <td>2009-12-01 07:45:00</td>\n",
              "      <td>1.65</td>\n",
              "      <td>13085.0</td>\n",
              "      <td>United Kingdom</td>\n",
              "      <td>39.6</td>\n",
              "    </tr>\n",
              "    <tr>\n",
              "      <th>6</th>\n",
              "      <td>489434</td>\n",
              "      <td>21871</td>\n",
              "      <td>SAVE THE PLANET MUG</td>\n",
              "      <td>24</td>\n",
              "      <td>2009-12-01 07:45:00</td>\n",
              "      <td>1.25</td>\n",
              "      <td>13085.0</td>\n",
              "      <td>United Kingdom</td>\n",
              "      <td>30.0</td>\n",
              "    </tr>\n",
              "    <tr>\n",
              "      <th>7</th>\n",
              "      <td>489434</td>\n",
              "      <td>21523</td>\n",
              "      <td>FANCY FONT HOME SWEET HOME DOORMAT</td>\n",
              "      <td>10</td>\n",
              "      <td>2009-12-01 07:45:00</td>\n",
              "      <td>5.95</td>\n",
              "      <td>13085.0</td>\n",
              "      <td>United Kingdom</td>\n",
              "      <td>59.5</td>\n",
              "    </tr>\n",
              "    <tr>\n",
              "      <th>8</th>\n",
              "      <td>489435</td>\n",
              "      <td>22350</td>\n",
              "      <td>CAT BOWL</td>\n",
              "      <td>12</td>\n",
              "      <td>2009-12-01 07:46:00</td>\n",
              "      <td>2.55</td>\n",
              "      <td>13085.0</td>\n",
              "      <td>United Kingdom</td>\n",
              "      <td>30.6</td>\n",
              "    </tr>\n",
              "    <tr>\n",
              "      <th>9</th>\n",
              "      <td>489435</td>\n",
              "      <td>22349</td>\n",
              "      <td>DOG BOWL , CHASING BALL DESIGN</td>\n",
              "      <td>12</td>\n",
              "      <td>2009-12-01 07:46:00</td>\n",
              "      <td>3.75</td>\n",
              "      <td>13085.0</td>\n",
              "      <td>United Kingdom</td>\n",
              "      <td>45.0</td>\n",
              "    </tr>\n",
              "  </tbody>\n",
              "</table>\n",
              "</div>"
            ],
            "text/plain": [
              "   Invoice StockCode  ...         Country  TotalCost\n",
              "0   489434     85048  ...  United Kingdom       83.4\n",
              "1   489434    79323P  ...  United Kingdom       81.0\n",
              "2   489434    79323W  ...  United Kingdom       81.0\n",
              "3   489434     22041  ...  United Kingdom      100.8\n",
              "4   489434     21232  ...  United Kingdom       30.0\n",
              "5   489434     22064  ...  United Kingdom       39.6\n",
              "6   489434     21871  ...  United Kingdom       30.0\n",
              "7   489434     21523  ...  United Kingdom       59.5\n",
              "8   489435     22350  ...  United Kingdom       30.6\n",
              "9   489435     22349  ...  United Kingdom       45.0\n",
              "\n",
              "[10 rows x 9 columns]"
            ]
          },
          "metadata": {
            "tags": []
          },
          "execution_count": 5
        }
      ]
    },
    {
      "cell_type": "code",
      "metadata": {
        "colab": {
          "base_uri": "https://localhost:8080/",
          "height": 202
        },
        "id": "-YbQrgl2kd9Y",
        "outputId": "1737bd0a-4443-4dcb-c1e0-15f7584cbf63"
      },
      "source": [
        "# Renaming the variables/features for ease of understanding, clarity and handling\n",
        "\n",
        "features = {'Invoice' : 'Invoice', \n",
        "            'StockCode': 'StockCode', \n",
        "            'Description': 'Description', \n",
        "            'Quantity': 'Quantity', \n",
        "            'InvoiceDate': 'InvoiceDate', \n",
        "            'Price' : 'UnitPrice', \n",
        "            'Customer ID': 'CustomerID', \n",
        "            'Country': 'Country', \n",
        "            'TotalCost': 'TotalCost'}\n",
        "\n",
        "clean_final_retail_data = clean_final_retail_data.rename(columns=features)\n",
        "\n",
        "clean_final_retail_data.head()"
      ],
      "execution_count": 6,
      "outputs": [
        {
          "output_type": "execute_result",
          "data": {
            "text/html": [
              "<div>\n",
              "<style scoped>\n",
              "    .dataframe tbody tr th:only-of-type {\n",
              "        vertical-align: middle;\n",
              "    }\n",
              "\n",
              "    .dataframe tbody tr th {\n",
              "        vertical-align: top;\n",
              "    }\n",
              "\n",
              "    .dataframe thead th {\n",
              "        text-align: right;\n",
              "    }\n",
              "</style>\n",
              "<table border=\"1\" class=\"dataframe\">\n",
              "  <thead>\n",
              "    <tr style=\"text-align: right;\">\n",
              "      <th></th>\n",
              "      <th>Invoice</th>\n",
              "      <th>StockCode</th>\n",
              "      <th>Description</th>\n",
              "      <th>Quantity</th>\n",
              "      <th>InvoiceDate</th>\n",
              "      <th>UnitPrice</th>\n",
              "      <th>CustomerID</th>\n",
              "      <th>Country</th>\n",
              "      <th>TotalCost</th>\n",
              "    </tr>\n",
              "  </thead>\n",
              "  <tbody>\n",
              "    <tr>\n",
              "      <th>0</th>\n",
              "      <td>489434</td>\n",
              "      <td>85048</td>\n",
              "      <td>15CM CHRISTMAS GLASS BALL 20 LIGHTS</td>\n",
              "      <td>12</td>\n",
              "      <td>2009-12-01 07:45:00</td>\n",
              "      <td>6.95</td>\n",
              "      <td>13085.0</td>\n",
              "      <td>United Kingdom</td>\n",
              "      <td>83.4</td>\n",
              "    </tr>\n",
              "    <tr>\n",
              "      <th>1</th>\n",
              "      <td>489434</td>\n",
              "      <td>79323P</td>\n",
              "      <td>PINK CHERRY LIGHTS</td>\n",
              "      <td>12</td>\n",
              "      <td>2009-12-01 07:45:00</td>\n",
              "      <td>6.75</td>\n",
              "      <td>13085.0</td>\n",
              "      <td>United Kingdom</td>\n",
              "      <td>81.0</td>\n",
              "    </tr>\n",
              "    <tr>\n",
              "      <th>2</th>\n",
              "      <td>489434</td>\n",
              "      <td>79323W</td>\n",
              "      <td>WHITE CHERRY LIGHTS</td>\n",
              "      <td>12</td>\n",
              "      <td>2009-12-01 07:45:00</td>\n",
              "      <td>6.75</td>\n",
              "      <td>13085.0</td>\n",
              "      <td>United Kingdom</td>\n",
              "      <td>81.0</td>\n",
              "    </tr>\n",
              "    <tr>\n",
              "      <th>3</th>\n",
              "      <td>489434</td>\n",
              "      <td>22041</td>\n",
              "      <td>RECORD FRAME 7\" SINGLE SIZE</td>\n",
              "      <td>48</td>\n",
              "      <td>2009-12-01 07:45:00</td>\n",
              "      <td>2.10</td>\n",
              "      <td>13085.0</td>\n",
              "      <td>United Kingdom</td>\n",
              "      <td>100.8</td>\n",
              "    </tr>\n",
              "    <tr>\n",
              "      <th>4</th>\n",
              "      <td>489434</td>\n",
              "      <td>21232</td>\n",
              "      <td>STRAWBERRY CERAMIC TRINKET BOX</td>\n",
              "      <td>24</td>\n",
              "      <td>2009-12-01 07:45:00</td>\n",
              "      <td>1.25</td>\n",
              "      <td>13085.0</td>\n",
              "      <td>United Kingdom</td>\n",
              "      <td>30.0</td>\n",
              "    </tr>\n",
              "  </tbody>\n",
              "</table>\n",
              "</div>"
            ],
            "text/plain": [
              "   Invoice StockCode  ...         Country  TotalCost\n",
              "0   489434     85048  ...  United Kingdom       83.4\n",
              "1   489434    79323P  ...  United Kingdom       81.0\n",
              "2   489434    79323W  ...  United Kingdom       81.0\n",
              "3   489434     22041  ...  United Kingdom      100.8\n",
              "4   489434     21232  ...  United Kingdom       30.0\n",
              "\n",
              "[5 rows x 9 columns]"
            ]
          },
          "metadata": {
            "tags": []
          },
          "execution_count": 6
        }
      ]
    },
    {
      "cell_type": "code",
      "metadata": {
        "colab": {
          "base_uri": "https://localhost:8080/"
        },
        "id": "h83pvC2IkgyI",
        "outputId": "862bf79f-76bf-4448-8365-3ef740d71f90"
      },
      "source": [
        "# Checking the data types of the new dataframe\n",
        "\n",
        "clean_final_retail_data.dtypes"
      ],
      "execution_count": 7,
      "outputs": [
        {
          "output_type": "execute_result",
          "data": {
            "text/plain": [
              "Invoice          int64\n",
              "StockCode       object\n",
              "Description     object\n",
              "Quantity         int64\n",
              "InvoiceDate     object\n",
              "UnitPrice      float64\n",
              "CustomerID     float64\n",
              "Country         object\n",
              "TotalCost      float64\n",
              "dtype: object"
            ]
          },
          "metadata": {
            "tags": []
          },
          "execution_count": 7
        }
      ]
    },
    {
      "cell_type": "code",
      "metadata": {
        "colab": {
          "base_uri": "https://localhost:8080/",
          "height": 171
        },
        "id": "VY0193ABkjYk",
        "outputId": "c3389f48-e46a-46c3-cbeb-40ed83832390"
      },
      "source": [
        "# Exploring the descriptives of the non-numeric variables (categorical variables)\n",
        "\n",
        "clean_final_retail_data.describe(exclude='number')"
      ],
      "execution_count": 8,
      "outputs": [
        {
          "output_type": "execute_result",
          "data": {
            "text/html": [
              "<div>\n",
              "<style scoped>\n",
              "    .dataframe tbody tr th:only-of-type {\n",
              "        vertical-align: middle;\n",
              "    }\n",
              "\n",
              "    .dataframe tbody tr th {\n",
              "        vertical-align: top;\n",
              "    }\n",
              "\n",
              "    .dataframe thead th {\n",
              "        text-align: right;\n",
              "    }\n",
              "</style>\n",
              "<table border=\"1\" class=\"dataframe\">\n",
              "  <thead>\n",
              "    <tr style=\"text-align: right;\">\n",
              "      <th></th>\n",
              "      <th>StockCode</th>\n",
              "      <th>Description</th>\n",
              "      <th>InvoiceDate</th>\n",
              "      <th>Country</th>\n",
              "    </tr>\n",
              "  </thead>\n",
              "  <tbody>\n",
              "    <tr>\n",
              "      <th>count</th>\n",
              "      <td>805549</td>\n",
              "      <td>805549</td>\n",
              "      <td>805549</td>\n",
              "      <td>805549</td>\n",
              "    </tr>\n",
              "    <tr>\n",
              "      <th>unique</th>\n",
              "      <td>4631</td>\n",
              "      <td>5283</td>\n",
              "      <td>34585</td>\n",
              "      <td>41</td>\n",
              "    </tr>\n",
              "    <tr>\n",
              "      <th>top</th>\n",
              "      <td>85123A</td>\n",
              "      <td>WHITE HANGING HEART T-LIGHT HOLDER</td>\n",
              "      <td>2011-11-14 15:27:00</td>\n",
              "      <td>United Kingdom</td>\n",
              "    </tr>\n",
              "    <tr>\n",
              "      <th>freq</th>\n",
              "      <td>5188</td>\n",
              "      <td>5181</td>\n",
              "      <td>542</td>\n",
              "      <td>725250</td>\n",
              "    </tr>\n",
              "  </tbody>\n",
              "</table>\n",
              "</div>"
            ],
            "text/plain": [
              "       StockCode  ...         Country\n",
              "count     805549  ...          805549\n",
              "unique      4631  ...              41\n",
              "top       85123A  ...  United Kingdom\n",
              "freq        5188  ...          725250\n",
              "\n",
              "[4 rows x 4 columns]"
            ]
          },
          "metadata": {
            "tags": []
          },
          "execution_count": 8
        }
      ]
    },
    {
      "cell_type": "code",
      "metadata": {
        "id": "46N_1rKXkl3Z"
      },
      "source": [
        "## Apparently there are still some missing values in the dataset\n",
        "\n",
        "## Also some of the observations are from outside UK"
      ],
      "execution_count": null,
      "outputs": []
    },
    {
      "cell_type": "code",
      "metadata": {
        "colab": {
          "base_uri": "https://localhost:8080/",
          "height": 294
        },
        "id": "qwzcFQ1ykpoU",
        "outputId": "11b3d727-8773-4cb0-c678-b4f83e576c2c"
      },
      "source": [
        "# Checking the descriptives of the numerical variables \n",
        "\n",
        "clean_final_retail_data.describe()"
      ],
      "execution_count": 9,
      "outputs": [
        {
          "output_type": "execute_result",
          "data": {
            "text/html": [
              "<div>\n",
              "<style scoped>\n",
              "    .dataframe tbody tr th:only-of-type {\n",
              "        vertical-align: middle;\n",
              "    }\n",
              "\n",
              "    .dataframe tbody tr th {\n",
              "        vertical-align: top;\n",
              "    }\n",
              "\n",
              "    .dataframe thead th {\n",
              "        text-align: right;\n",
              "    }\n",
              "</style>\n",
              "<table border=\"1\" class=\"dataframe\">\n",
              "  <thead>\n",
              "    <tr style=\"text-align: right;\">\n",
              "      <th></th>\n",
              "      <th>Invoice</th>\n",
              "      <th>Quantity</th>\n",
              "      <th>UnitPrice</th>\n",
              "      <th>CustomerID</th>\n",
              "      <th>TotalCost</th>\n",
              "    </tr>\n",
              "  </thead>\n",
              "  <tbody>\n",
              "    <tr>\n",
              "      <th>count</th>\n",
              "      <td>805549.000000</td>\n",
              "      <td>805549.000000</td>\n",
              "      <td>805549.000000</td>\n",
              "      <td>805549.000000</td>\n",
              "      <td>805549.000000</td>\n",
              "    </tr>\n",
              "    <tr>\n",
              "      <th>mean</th>\n",
              "      <td>537410.713358</td>\n",
              "      <td>13.290522</td>\n",
              "      <td>3.206561</td>\n",
              "      <td>15331.954970</td>\n",
              "      <td>22.026505</td>\n",
              "    </tr>\n",
              "    <tr>\n",
              "      <th>std</th>\n",
              "      <td>26666.068909</td>\n",
              "      <td>143.634088</td>\n",
              "      <td>29.199173</td>\n",
              "      <td>1696.737039</td>\n",
              "      <td>224.041928</td>\n",
              "    </tr>\n",
              "    <tr>\n",
              "      <th>min</th>\n",
              "      <td>489434.000000</td>\n",
              "      <td>1.000000</td>\n",
              "      <td>0.001000</td>\n",
              "      <td>12346.000000</td>\n",
              "      <td>0.001000</td>\n",
              "    </tr>\n",
              "    <tr>\n",
              "      <th>25%</th>\n",
              "      <td>514962.000000</td>\n",
              "      <td>2.000000</td>\n",
              "      <td>1.250000</td>\n",
              "      <td>13982.000000</td>\n",
              "      <td>4.950000</td>\n",
              "    </tr>\n",
              "    <tr>\n",
              "      <th>50%</th>\n",
              "      <td>536989.000000</td>\n",
              "      <td>5.000000</td>\n",
              "      <td>1.950000</td>\n",
              "      <td>15271.000000</td>\n",
              "      <td>11.850000</td>\n",
              "    </tr>\n",
              "    <tr>\n",
              "      <th>75%</th>\n",
              "      <td>561617.000000</td>\n",
              "      <td>12.000000</td>\n",
              "      <td>3.750000</td>\n",
              "      <td>16805.000000</td>\n",
              "      <td>19.500000</td>\n",
              "    </tr>\n",
              "    <tr>\n",
              "      <th>max</th>\n",
              "      <td>581587.000000</td>\n",
              "      <td>80995.000000</td>\n",
              "      <td>10953.500000</td>\n",
              "      <td>18287.000000</td>\n",
              "      <td>168469.600000</td>\n",
              "    </tr>\n",
              "  </tbody>\n",
              "</table>\n",
              "</div>"
            ],
            "text/plain": [
              "             Invoice       Quantity  ...     CustomerID      TotalCost\n",
              "count  805549.000000  805549.000000  ...  805549.000000  805549.000000\n",
              "mean   537410.713358      13.290522  ...   15331.954970      22.026505\n",
              "std     26666.068909     143.634088  ...    1696.737039     224.041928\n",
              "min    489434.000000       1.000000  ...   12346.000000       0.001000\n",
              "25%    514962.000000       2.000000  ...   13982.000000       4.950000\n",
              "50%    536989.000000       5.000000  ...   15271.000000      11.850000\n",
              "75%    561617.000000      12.000000  ...   16805.000000      19.500000\n",
              "max    581587.000000   80995.000000  ...   18287.000000  168469.600000\n",
              "\n",
              "[8 rows x 5 columns]"
            ]
          },
          "metadata": {
            "tags": []
          },
          "execution_count": 9
        }
      ]
    },
    {
      "cell_type": "code",
      "metadata": {
        "colab": {
          "base_uri": "https://localhost:8080/",
          "height": 385
        },
        "id": "bvFBz0AHO7Fh",
        "outputId": "cf7cfc23-a1c6-43b9-e181-de3522ce7621"
      },
      "source": [
        "# Exploring the descriptives of all the variables both numerics and categorical data types\n",
        "\n",
        "clean_final_retail_data.describe(include='all')"
      ],
      "execution_count": 10,
      "outputs": [
        {
          "output_type": "execute_result",
          "data": {
            "text/html": [
              "<div>\n",
              "<style scoped>\n",
              "    .dataframe tbody tr th:only-of-type {\n",
              "        vertical-align: middle;\n",
              "    }\n",
              "\n",
              "    .dataframe tbody tr th {\n",
              "        vertical-align: top;\n",
              "    }\n",
              "\n",
              "    .dataframe thead th {\n",
              "        text-align: right;\n",
              "    }\n",
              "</style>\n",
              "<table border=\"1\" class=\"dataframe\">\n",
              "  <thead>\n",
              "    <tr style=\"text-align: right;\">\n",
              "      <th></th>\n",
              "      <th>Invoice</th>\n",
              "      <th>StockCode</th>\n",
              "      <th>Description</th>\n",
              "      <th>Quantity</th>\n",
              "      <th>InvoiceDate</th>\n",
              "      <th>UnitPrice</th>\n",
              "      <th>CustomerID</th>\n",
              "      <th>Country</th>\n",
              "      <th>TotalCost</th>\n",
              "    </tr>\n",
              "  </thead>\n",
              "  <tbody>\n",
              "    <tr>\n",
              "      <th>count</th>\n",
              "      <td>805549.000000</td>\n",
              "      <td>805549</td>\n",
              "      <td>805549</td>\n",
              "      <td>805549.000000</td>\n",
              "      <td>805549</td>\n",
              "      <td>805549.000000</td>\n",
              "      <td>805549.000000</td>\n",
              "      <td>805549</td>\n",
              "      <td>805549.000000</td>\n",
              "    </tr>\n",
              "    <tr>\n",
              "      <th>unique</th>\n",
              "      <td>NaN</td>\n",
              "      <td>4631</td>\n",
              "      <td>5283</td>\n",
              "      <td>NaN</td>\n",
              "      <td>34585</td>\n",
              "      <td>NaN</td>\n",
              "      <td>NaN</td>\n",
              "      <td>41</td>\n",
              "      <td>NaN</td>\n",
              "    </tr>\n",
              "    <tr>\n",
              "      <th>top</th>\n",
              "      <td>NaN</td>\n",
              "      <td>85123A</td>\n",
              "      <td>WHITE HANGING HEART T-LIGHT HOLDER</td>\n",
              "      <td>NaN</td>\n",
              "      <td>2011-11-14 15:27:00</td>\n",
              "      <td>NaN</td>\n",
              "      <td>NaN</td>\n",
              "      <td>United Kingdom</td>\n",
              "      <td>NaN</td>\n",
              "    </tr>\n",
              "    <tr>\n",
              "      <th>freq</th>\n",
              "      <td>NaN</td>\n",
              "      <td>5188</td>\n",
              "      <td>5181</td>\n",
              "      <td>NaN</td>\n",
              "      <td>542</td>\n",
              "      <td>NaN</td>\n",
              "      <td>NaN</td>\n",
              "      <td>725250</td>\n",
              "      <td>NaN</td>\n",
              "    </tr>\n",
              "    <tr>\n",
              "      <th>mean</th>\n",
              "      <td>537410.713358</td>\n",
              "      <td>NaN</td>\n",
              "      <td>NaN</td>\n",
              "      <td>13.290522</td>\n",
              "      <td>NaN</td>\n",
              "      <td>3.206561</td>\n",
              "      <td>15331.954970</td>\n",
              "      <td>NaN</td>\n",
              "      <td>22.026505</td>\n",
              "    </tr>\n",
              "    <tr>\n",
              "      <th>std</th>\n",
              "      <td>26666.068909</td>\n",
              "      <td>NaN</td>\n",
              "      <td>NaN</td>\n",
              "      <td>143.634088</td>\n",
              "      <td>NaN</td>\n",
              "      <td>29.199173</td>\n",
              "      <td>1696.737039</td>\n",
              "      <td>NaN</td>\n",
              "      <td>224.041928</td>\n",
              "    </tr>\n",
              "    <tr>\n",
              "      <th>min</th>\n",
              "      <td>489434.000000</td>\n",
              "      <td>NaN</td>\n",
              "      <td>NaN</td>\n",
              "      <td>1.000000</td>\n",
              "      <td>NaN</td>\n",
              "      <td>0.001000</td>\n",
              "      <td>12346.000000</td>\n",
              "      <td>NaN</td>\n",
              "      <td>0.001000</td>\n",
              "    </tr>\n",
              "    <tr>\n",
              "      <th>25%</th>\n",
              "      <td>514962.000000</td>\n",
              "      <td>NaN</td>\n",
              "      <td>NaN</td>\n",
              "      <td>2.000000</td>\n",
              "      <td>NaN</td>\n",
              "      <td>1.250000</td>\n",
              "      <td>13982.000000</td>\n",
              "      <td>NaN</td>\n",
              "      <td>4.950000</td>\n",
              "    </tr>\n",
              "    <tr>\n",
              "      <th>50%</th>\n",
              "      <td>536989.000000</td>\n",
              "      <td>NaN</td>\n",
              "      <td>NaN</td>\n",
              "      <td>5.000000</td>\n",
              "      <td>NaN</td>\n",
              "      <td>1.950000</td>\n",
              "      <td>15271.000000</td>\n",
              "      <td>NaN</td>\n",
              "      <td>11.850000</td>\n",
              "    </tr>\n",
              "    <tr>\n",
              "      <th>75%</th>\n",
              "      <td>561617.000000</td>\n",
              "      <td>NaN</td>\n",
              "      <td>NaN</td>\n",
              "      <td>12.000000</td>\n",
              "      <td>NaN</td>\n",
              "      <td>3.750000</td>\n",
              "      <td>16805.000000</td>\n",
              "      <td>NaN</td>\n",
              "      <td>19.500000</td>\n",
              "    </tr>\n",
              "    <tr>\n",
              "      <th>max</th>\n",
              "      <td>581587.000000</td>\n",
              "      <td>NaN</td>\n",
              "      <td>NaN</td>\n",
              "      <td>80995.000000</td>\n",
              "      <td>NaN</td>\n",
              "      <td>10953.500000</td>\n",
              "      <td>18287.000000</td>\n",
              "      <td>NaN</td>\n",
              "      <td>168469.600000</td>\n",
              "    </tr>\n",
              "  </tbody>\n",
              "</table>\n",
              "</div>"
            ],
            "text/plain": [
              "              Invoice StockCode  ...         Country      TotalCost\n",
              "count   805549.000000    805549  ...          805549  805549.000000\n",
              "unique            NaN      4631  ...              41            NaN\n",
              "top               NaN    85123A  ...  United Kingdom            NaN\n",
              "freq              NaN      5188  ...          725250            NaN\n",
              "mean    537410.713358       NaN  ...             NaN      22.026505\n",
              "std      26666.068909       NaN  ...             NaN     224.041928\n",
              "min     489434.000000       NaN  ...             NaN       0.001000\n",
              "25%     514962.000000       NaN  ...             NaN       4.950000\n",
              "50%     536989.000000       NaN  ...             NaN      11.850000\n",
              "75%     561617.000000       NaN  ...             NaN      19.500000\n",
              "max     581587.000000       NaN  ...             NaN  168469.600000\n",
              "\n",
              "[11 rows x 9 columns]"
            ]
          },
          "metadata": {
            "tags": []
          },
          "execution_count": 10
        }
      ]
    },
    {
      "cell_type": "code",
      "metadata": {
        "colab": {
          "base_uri": "https://localhost:8080/"
        },
        "id": "kw4_mAspkqeZ",
        "outputId": "870257a7-505c-44b8-80dc-c78d5568d178"
      },
      "source": [
        "# Dimensions of the dataframe\n",
        "\n",
        "clean_final_retail_data.shape"
      ],
      "execution_count": 11,
      "outputs": [
        {
          "output_type": "execute_result",
          "data": {
            "text/plain": [
              "(805549, 9)"
            ]
          },
          "metadata": {
            "tags": []
          },
          "execution_count": 11
        }
      ]
    },
    {
      "cell_type": "code",
      "metadata": {
        "colab": {
          "base_uri": "https://localhost:8080/"
        },
        "id": "sGdk4oIskxc2",
        "outputId": "7c8b527f-54ca-4ecc-86d3-1afedaf4dff5"
      },
      "source": [
        "# Converting the InvoiceDate data type from object to datetime\n",
        "\n",
        "clean_final_retail_data['InvoiceDate'] = pd.to_datetime(clean_final_retail_data['InvoiceDate'])\n",
        "\n",
        "clean_final_retail_data.dtypes"
      ],
      "execution_count": 12,
      "outputs": [
        {
          "output_type": "execute_result",
          "data": {
            "text/plain": [
              "Invoice                 int64\n",
              "StockCode              object\n",
              "Description            object\n",
              "Quantity                int64\n",
              "InvoiceDate    datetime64[ns]\n",
              "UnitPrice             float64\n",
              "CustomerID            float64\n",
              "Country                object\n",
              "TotalCost             float64\n",
              "dtype: object"
            ]
          },
          "metadata": {
            "tags": []
          },
          "execution_count": 12
        }
      ]
    },
    {
      "cell_type": "code",
      "metadata": {
        "colab": {
          "base_uri": "https://localhost:8080/"
        },
        "id": "6IrXsaqgk1OU",
        "outputId": "0b1ffa84-d3af-4dab-8c2b-7b01d14f7d88"
      },
      "source": [
        "# Checking the proportion of customers for each country represented in the dataframe\n",
        "\n",
        "clean_final_retail_data.Country.value_counts(normalize=True)\n",
        "\n",
        "# majority of the customers (more than 90%) are in the UK"
      ],
      "execution_count": 13,
      "outputs": [
        {
          "output_type": "execute_result",
          "data": {
            "text/plain": [
              "United Kingdom          0.900318\n",
              "Germany                 0.020724\n",
              "EIRE                    0.019543\n",
              "France                  0.017146\n",
              "Netherlands             0.006316\n",
              "Spain                   0.004617\n",
              "Belgium                 0.003809\n",
              "Switzerland             0.003738\n",
              "Portugal                0.003036\n",
              "Australia               0.002249\n",
              "Channel Islands         0.001948\n",
              "Italy                   0.001822\n",
              "Norway                  0.001783\n",
              "Sweden                  0.001637\n",
              "Cyprus                  0.001434\n",
              "Finland                 0.001281\n",
              "Austria                 0.001145\n",
              "Denmark                 0.000991\n",
              "Greece                  0.000816\n",
              "Unspecified             0.000647\n",
              "Poland                  0.000636\n",
              "Japan                   0.000602\n",
              "USA                     0.000508\n",
              "United Arab Emirates    0.000475\n",
              "Singapore               0.000421\n",
              "Israel                  0.000400\n",
              "Malta                   0.000350\n",
              "Iceland                 0.000314\n",
              "Canada                  0.000283\n",
              "Lithuania               0.000235\n",
              "RSA                     0.000151\n",
              "Brazil                  0.000117\n",
              "Thailand                0.000094\n",
              "European Community      0.000074\n",
              "Bahrain                 0.000073\n",
              "West Indies             0.000067\n",
              "Korea                   0.000066\n",
              "Lebanon                 0.000056\n",
              "Nigeria                 0.000037\n",
              "Czech Republic          0.000031\n",
              "Saudi Arabia            0.000011\n",
              "Name: Country, dtype: float64"
            ]
          },
          "metadata": {
            "tags": []
          },
          "execution_count": 13
        }
      ]
    },
    {
      "cell_type": "code",
      "metadata": {
        "colab": {
          "base_uri": "https://localhost:8080/"
        },
        "id": "nPnLdgwKk4vU",
        "outputId": "a533a42d-f880-402f-e3c9-69a8b4216f23"
      },
      "source": [
        "# Extracting the actual proportion of customers in the UK. \n",
        "# Using a conditional statement to select unique customer IDs where customer country is equal to UK and dividing by the total unique customer ID\n",
        "\n",
        "clean_final_retail_data[clean_final_retail_data['Country'] == 'United Kingdom'].CustomerID.nunique()/clean_final_retail_data.CustomerID.nunique()"
      ],
      "execution_count": 14,
      "outputs": [
        {
          "output_type": "execute_result",
          "data": {
            "text/plain": [
              "0.9101735284110242"
            ]
          },
          "metadata": {
            "tags": []
          },
          "execution_count": 14
        }
      ]
    },
    {
      "cell_type": "code",
      "metadata": {
        "colab": {
          "base_uri": "https://localhost:8080/"
        },
        "id": "zkhZS1ihk5bc",
        "outputId": "f4ae9ca5-2845-437e-d583-01d9cfc7ee4a"
      },
      "source": [
        "# Extracting the dataframe for UK customers only and checking the dimensions\n",
        "\n",
        "clean_final_retail_uk_data = clean_final_retail_data[clean_final_retail_data['Country'] == 'United Kingdom']\n",
        "\n",
        "clean_final_retail_uk_data.shape"
      ],
      "execution_count": 15,
      "outputs": [
        {
          "output_type": "execute_result",
          "data": {
            "text/plain": [
              "(725250, 9)"
            ]
          },
          "metadata": {
            "tags": []
          },
          "execution_count": 15
        }
      ]
    },
    {
      "cell_type": "code",
      "metadata": {
        "colab": {
          "base_uri": "https://localhost:8080/"
        },
        "id": "TOP3NNIlk7sw",
        "outputId": "658eb5a6-9540-4642-c41d-f09edddfa531"
      },
      "source": [
        "# Ensuring that there are no observations with zero quantities \n",
        "\n",
        "clean_final_retail_uk_data = clean_final_retail_uk_data[clean_final_retail_uk_data['Quantity'] > 0]\n",
        "\n",
        "clean_final_retail_uk_data.shape"
      ],
      "execution_count": 16,
      "outputs": [
        {
          "output_type": "execute_result",
          "data": {
            "text/plain": [
              "(725250, 9)"
            ]
          },
          "metadata": {
            "tags": []
          },
          "execution_count": 16
        }
      ]
    },
    {
      "cell_type": "code",
      "metadata": {
        "colab": {
          "base_uri": "https://localhost:8080/"
        },
        "id": "XpeM_otKk9yG",
        "outputId": "145745c9-74bb-48da-8fd6-c7023984ce93"
      },
      "source": [
        "# Checking to ensure that there are no missing values left in the dataset\n",
        "# Specifically for the customer ID, since we doing a customer segmentation \n",
        "\n",
        "clean_final_retail_uk_data.dropna(subset=['CustomerID'], how='all', inplace=True)\n",
        "\n",
        "clean_final_retail_uk_data.shape"
      ],
      "execution_count": 17,
      "outputs": [
        {
          "output_type": "execute_result",
          "data": {
            "text/plain": [
              "(725250, 9)"
            ]
          },
          "metadata": {
            "tags": []
          },
          "execution_count": 17
        }
      ]
    },
    {
      "cell_type": "code",
      "metadata": {
        "colab": {
          "base_uri": "https://localhost:8080/"
        },
        "id": "Dm7fTSUsk_2q",
        "outputId": "d1902edb-5917-4932-c275-221765bf2c49"
      },
      "source": [
        "# Checking the maximum date (latest date) in the transaction\n",
        "\n",
        "clean_final_retail_uk_data['InvoiceDate'].max()\n",
        "\n",
        "# Which is the 9th of December 2011"
      ],
      "execution_count": 18,
      "outputs": [
        {
          "output_type": "execute_result",
          "data": {
            "text/plain": [
              "Timestamp('2011-12-09 12:49:00')"
            ]
          },
          "metadata": {
            "tags": []
          },
          "execution_count": 18
        }
      ]
    },
    {
      "cell_type": "code",
      "metadata": {
        "colab": {
          "base_uri": "https://localhost:8080/"
        },
        "id": "CSUhWm98lFCG",
        "outputId": "fb9c05a3-160d-490c-b1b5-719014388b13"
      },
      "source": [
        "# And the lowest date (earliest date) in the transaction\n",
        "\n",
        "clean_final_retail_uk_data['InvoiceDate'].min()\n",
        "\n",
        "# 1st December 2009"
      ],
      "execution_count": 19,
      "outputs": [
        {
          "output_type": "execute_result",
          "data": {
            "text/plain": [
              "Timestamp('2009-12-01 07:45:00')"
            ]
          },
          "metadata": {
            "tags": []
          },
          "execution_count": 19
        }
      ]
    },
    {
      "cell_type": "code",
      "metadata": {
        "colab": {
          "base_uri": "https://localhost:8080/"
        },
        "id": "h3b6uu0llFrS",
        "outputId": "57674529-59bc-4c42-9394-a48d6954869b"
      },
      "source": [
        "# Restriciting the data to one full year, as its better to use a metric per month or per year in RFM\n",
        "# So we select the observations from 9th December 2010 - 9th December 2011\n",
        "\n",
        "clean_final_retail_uk_data = clean_final_retail_uk_data[clean_final_retail_uk_data['InvoiceDate'] >= '2010-12-09']\n",
        "\n",
        "clean_final_retail_uk_data.shape"
      ],
      "execution_count": 20,
      "outputs": [
        {
          "output_type": "execute_result",
          "data": {
            "text/plain": [
              "(343955, 9)"
            ]
          },
          "metadata": {
            "tags": []
          },
          "execution_count": 20
        }
      ]
    },
    {
      "cell_type": "code",
      "metadata": {
        "colab": {
          "base_uri": "https://localhost:8080/"
        },
        "id": "z-l_ZZO4lItW",
        "outputId": "f57bf82e-2a7e-4d88-d0f4-766d1daed1d2"
      },
      "source": [
        "# Checking the latest date for the one year adjusted timeframe\n",
        "\n",
        "clean_final_retail_uk_data['InvoiceDate'].max()"
      ],
      "execution_count": 21,
      "outputs": [
        {
          "output_type": "execute_result",
          "data": {
            "text/plain": [
              "Timestamp('2011-12-09 12:49:00')"
            ]
          },
          "metadata": {
            "tags": []
          },
          "execution_count": 21
        }
      ]
    },
    {
      "cell_type": "code",
      "metadata": {
        "colab": {
          "base_uri": "https://localhost:8080/"
        },
        "id": "UnvqvrDqlK71",
        "outputId": "3cfbd8a3-ebd0-4a4b-f670-b05fdd5b52a2"
      },
      "source": [
        "# Checking the earliest date for the one year adjusted timeframe\n",
        "\n",
        "clean_final_retail_uk_data['InvoiceDate'].min()"
      ],
      "execution_count": 22,
      "outputs": [
        {
          "output_type": "execute_result",
          "data": {
            "text/plain": [
              "Timestamp('2010-12-09 08:34:00')"
            ]
          },
          "metadata": {
            "tags": []
          },
          "execution_count": 22
        }
      ]
    },
    {
      "cell_type": "code",
      "metadata": {
        "colab": {
          "base_uri": "https://localhost:8080/"
        },
        "id": "C5-rPQuhlPFT",
        "outputId": "69f37263-f0e9-4e5b-acda-a85394e23975"
      },
      "source": [
        "# Exploring the average total quantity of products purchased by a customer\n",
        "\n",
        "np.mean(clean_final_retail_uk_data.groupby('CustomerID').Quantity.sum())"
      ],
      "execution_count": 23,
      "outputs": [
        {
          "output_type": "execute_result",
          "data": {
            "text/plain": [
              "1073.0126877265666"
            ]
          },
          "metadata": {
            "tags": []
          },
          "execution_count": 23
        }
      ]
    },
    {
      "cell_type": "code",
      "metadata": {
        "colab": {
          "base_uri": "https://localhost:8080/"
        },
        "id": "7ONlg8lUlP6h",
        "outputId": "4766adac-e103-4f9c-c2c6-1e45a6b35c2a"
      },
      "source": [
        "# Exploring the average total amount spent by a customer \n",
        "\n",
        "np.mean(clean_final_retail_uk_data.groupby('CustomerID').TotalCost.sum())"
      ],
      "execution_count": 24,
      "outputs": [
        {
          "output_type": "execute_result",
          "data": {
            "text/plain": [
              "1835.0632998446379"
            ]
          },
          "metadata": {
            "tags": []
          },
          "execution_count": 24
        }
      ]
    },
    {
      "cell_type": "code",
      "metadata": {
        "colab": {
          "base_uri": "https://localhost:8080/"
        },
        "id": "gaEileJ4lTlv",
        "outputId": "5560a361-3077-44f4-8182-c3b673a289c3"
      },
      "source": [
        "# Checking the average quantity overall in the dataset\n",
        "# This implies that the primary key is the InvoiceNo-StockCode-CustomerID representing one purchase transaction\n",
        "\n",
        "clean_final_retail_uk_data.Quantity.mean()"
      ],
      "execution_count": 25,
      "outputs": [
        {
          "output_type": "execute_result",
          "data": {
            "text/plain": [
              "12.048015001962465"
            ]
          },
          "metadata": {
            "tags": []
          },
          "execution_count": 25
        }
      ]
    },
    {
      "cell_type": "code",
      "metadata": {
        "colab": {
          "base_uri": "https://localhost:8080/"
        },
        "id": "P2uVtUlilWAD",
        "outputId": "62e3f131-9737-46ce-a297-4b06f22b1a89"
      },
      "source": [
        "# Checking the average totalcost overall in the dataset\n",
        "\n",
        "clean_final_retail_uk_data.TotalCost.mean()"
      ],
      "execution_count": 26,
      "outputs": [
        {
          "output_type": "execute_result",
          "data": {
            "text/plain": [
              "20.60448158626205"
            ]
          },
          "metadata": {
            "tags": []
          },
          "execution_count": 26
        }
      ]
    },
    {
      "cell_type": "code",
      "metadata": {
        "colab": {
          "base_uri": "https://localhost:8080/"
        },
        "id": "QKAcILr_lYUC",
        "outputId": "3ea7aae8-2459-4b9e-abad-dbb340e715b2"
      },
      "source": [
        "# Exploring the total number of unique stockcodes (items available)\n",
        "\n",
        "clean_final_retail_uk_data.StockCode.nunique()"
      ],
      "execution_count": 27,
      "outputs": [
        {
          "output_type": "execute_result",
          "data": {
            "text/plain": [
              "3611"
            ]
          },
          "metadata": {
            "tags": []
          },
          "execution_count": 27
        }
      ]
    },
    {
      "cell_type": "code",
      "metadata": {
        "colab": {
          "base_uri": "https://localhost:8080/"
        },
        "id": "p7hyq9otla93",
        "outputId": "b78da6bc-def8-4451-cbbb-6ca38662be82"
      },
      "source": [
        "# Summarising some key metrics\n",
        "\n",
        "print ('UK summary')\n",
        "print ('Number of invoices: ', clean_final_retail_uk_data['Invoice'].nunique())\n",
        "print ('Number of products bought: ', clean_final_retail_uk_data['StockCode'].nunique())\n",
        "print ('Number of customers: ', clean_final_retail_uk_data['CustomerID'].nunique())\n",
        "print ('Percentage of customers NA: ', round(clean_final_retail_uk_data['CustomerID'].isnull().sum() * 100 / len(clean_final_retail_uk_data), 2), '%')\n",
        "print ('Average quantity of product purchased by a customer: ', round(np.mean(clean_final_retail_uk_data.groupby('CustomerID').Quantity.sum()), 0))\n",
        "print ('Average product quantity sold per transaction: ', round(clean_final_retail_uk_data.Quantity.mean(), 0))\n",
        "print ('Average revenue generated per transaction: ', round(clean_final_retail_uk_data.TotalCost.mean(), 2))"
      ],
      "execution_count": 28,
      "outputs": [
        {
          "output_type": "stream",
          "text": [
            "UK summary\n",
            "Number of invoices:  16014\n",
            "Number of products bought:  3611\n",
            "Number of customers:  3862\n",
            "Percentage of customers NA:  0.0 %\n",
            "Average quantity of product purchased by a customer:  1073.0\n",
            "Average product quantity sold per transaction:  12.0\n",
            "Average revenue generated per transaction:  20.6\n"
          ],
          "name": "stdout"
        }
      ]
    },
    {
      "cell_type": "code",
      "metadata": {
        "colab": {
          "base_uri": "https://localhost:8080/",
          "height": 232
        },
        "id": "cQbxD0xnleS6",
        "outputId": "680341b4-47e1-4548-f535-fe4b8e1a2bcc"
      },
      "source": [
        "# Exploring the descriptives of categorical features in the UK dataset\n",
        "\n",
        "clean_final_retail_uk_data.describe(exclude='number')"
      ],
      "execution_count": 29,
      "outputs": [
        {
          "output_type": "execute_result",
          "data": {
            "text/html": [
              "<div>\n",
              "<style scoped>\n",
              "    .dataframe tbody tr th:only-of-type {\n",
              "        vertical-align: middle;\n",
              "    }\n",
              "\n",
              "    .dataframe tbody tr th {\n",
              "        vertical-align: top;\n",
              "    }\n",
              "\n",
              "    .dataframe thead th {\n",
              "        text-align: right;\n",
              "    }\n",
              "</style>\n",
              "<table border=\"1\" class=\"dataframe\">\n",
              "  <thead>\n",
              "    <tr style=\"text-align: right;\">\n",
              "      <th></th>\n",
              "      <th>StockCode</th>\n",
              "      <th>Description</th>\n",
              "      <th>InvoiceDate</th>\n",
              "      <th>Country</th>\n",
              "    </tr>\n",
              "  </thead>\n",
              "  <tbody>\n",
              "    <tr>\n",
              "      <th>count</th>\n",
              "      <td>343955</td>\n",
              "      <td>343955</td>\n",
              "      <td>343955</td>\n",
              "      <td>343955</td>\n",
              "    </tr>\n",
              "    <tr>\n",
              "      <th>unique</th>\n",
              "      <td>3611</td>\n",
              "      <td>3799</td>\n",
              "      <td>15037</td>\n",
              "      <td>1</td>\n",
              "    </tr>\n",
              "    <tr>\n",
              "      <th>top</th>\n",
              "      <td>85123A</td>\n",
              "      <td>WHITE HANGING HEART T-LIGHT HOLDER</td>\n",
              "      <td>2011-11-14 15:27:00</td>\n",
              "      <td>United Kingdom</td>\n",
              "    </tr>\n",
              "    <tr>\n",
              "      <th>freq</th>\n",
              "      <td>1869</td>\n",
              "      <td>1862</td>\n",
              "      <td>542</td>\n",
              "      <td>343955</td>\n",
              "    </tr>\n",
              "    <tr>\n",
              "      <th>first</th>\n",
              "      <td>NaN</td>\n",
              "      <td>NaN</td>\n",
              "      <td>2010-12-09 08:34:00</td>\n",
              "      <td>NaN</td>\n",
              "    </tr>\n",
              "    <tr>\n",
              "      <th>last</th>\n",
              "      <td>NaN</td>\n",
              "      <td>NaN</td>\n",
              "      <td>2011-12-09 12:49:00</td>\n",
              "      <td>NaN</td>\n",
              "    </tr>\n",
              "  </tbody>\n",
              "</table>\n",
              "</div>"
            ],
            "text/plain": [
              "       StockCode  ...         Country\n",
              "count     343955  ...          343955\n",
              "unique      3611  ...               1\n",
              "top       85123A  ...  United Kingdom\n",
              "freq        1869  ...          343955\n",
              "first        NaN  ...             NaN\n",
              "last         NaN  ...             NaN\n",
              "\n",
              "[6 rows x 4 columns]"
            ]
          },
          "metadata": {
            "tags": []
          },
          "execution_count": 29
        }
      ]
    },
    {
      "cell_type": "code",
      "metadata": {
        "colab": {
          "base_uri": "https://localhost:8080/",
          "height": 294
        },
        "id": "z_pWcY3LlgT6",
        "outputId": "695ec2e2-9967-4dcd-b3f2-70cfee4b0b9a"
      },
      "source": [
        "# Exploring the descriptives of the numerical features of the UK dataset\n",
        "\n",
        "clean_final_retail_uk_data.describe()"
      ],
      "execution_count": 30,
      "outputs": [
        {
          "output_type": "execute_result",
          "data": {
            "text/html": [
              "<div>\n",
              "<style scoped>\n",
              "    .dataframe tbody tr th:only-of-type {\n",
              "        vertical-align: middle;\n",
              "    }\n",
              "\n",
              "    .dataframe tbody tr th {\n",
              "        vertical-align: top;\n",
              "    }\n",
              "\n",
              "    .dataframe thead th {\n",
              "        text-align: right;\n",
              "    }\n",
              "</style>\n",
              "<table border=\"1\" class=\"dataframe\">\n",
              "  <thead>\n",
              "    <tr style=\"text-align: right;\">\n",
              "      <th></th>\n",
              "      <th>Invoice</th>\n",
              "      <th>Quantity</th>\n",
              "      <th>UnitPrice</th>\n",
              "      <th>CustomerID</th>\n",
              "      <th>TotalCost</th>\n",
              "    </tr>\n",
              "  </thead>\n",
              "  <tbody>\n",
              "    <tr>\n",
              "      <th>count</th>\n",
              "      <td>343955.000000</td>\n",
              "      <td>343955.000000</td>\n",
              "      <td>343955.000000</td>\n",
              "      <td>343955.000000</td>\n",
              "      <td>343955.000000</td>\n",
              "    </tr>\n",
              "    <tr>\n",
              "      <th>mean</th>\n",
              "      <td>561386.116844</td>\n",
              "      <td>12.048015</td>\n",
              "      <td>2.961131</td>\n",
              "      <td>15544.720830</td>\n",
              "      <td>20.604482</td>\n",
              "    </tr>\n",
              "    <tr>\n",
              "      <th>std</th>\n",
              "      <td>12697.979790</td>\n",
              "      <td>191.916027</td>\n",
              "      <td>18.109384</td>\n",
              "      <td>1591.329019</td>\n",
              "      <td>330.527175</td>\n",
              "    </tr>\n",
              "    <tr>\n",
              "      <th>min</th>\n",
              "      <td>537879.000000</td>\n",
              "      <td>1.000000</td>\n",
              "      <td>0.001000</td>\n",
              "      <td>12346.000000</td>\n",
              "      <td>0.001000</td>\n",
              "    </tr>\n",
              "    <tr>\n",
              "      <th>25%</th>\n",
              "      <td>550311.000000</td>\n",
              "      <td>2.000000</td>\n",
              "      <td>1.250000</td>\n",
              "      <td>14191.000000</td>\n",
              "      <td>4.160000</td>\n",
              "    </tr>\n",
              "    <tr>\n",
              "      <th>50%</th>\n",
              "      <td>562570.000000</td>\n",
              "      <td>4.000000</td>\n",
              "      <td>1.850000</td>\n",
              "      <td>15513.000000</td>\n",
              "      <td>10.200000</td>\n",
              "    </tr>\n",
              "    <tr>\n",
              "      <th>75%</th>\n",
              "      <td>572552.000000</td>\n",
              "      <td>12.000000</td>\n",
              "      <td>3.750000</td>\n",
              "      <td>16928.000000</td>\n",
              "      <td>17.700000</td>\n",
              "    </tr>\n",
              "    <tr>\n",
              "      <th>max</th>\n",
              "      <td>581586.000000</td>\n",
              "      <td>80995.000000</td>\n",
              "      <td>8142.750000</td>\n",
              "      <td>18287.000000</td>\n",
              "      <td>168469.600000</td>\n",
              "    </tr>\n",
              "  </tbody>\n",
              "</table>\n",
              "</div>"
            ],
            "text/plain": [
              "             Invoice       Quantity  ...     CustomerID      TotalCost\n",
              "count  343955.000000  343955.000000  ...  343955.000000  343955.000000\n",
              "mean   561386.116844      12.048015  ...   15544.720830      20.604482\n",
              "std     12697.979790     191.916027  ...    1591.329019     330.527175\n",
              "min    537879.000000       1.000000  ...   12346.000000       0.001000\n",
              "25%    550311.000000       2.000000  ...   14191.000000       4.160000\n",
              "50%    562570.000000       4.000000  ...   15513.000000      10.200000\n",
              "75%    572552.000000      12.000000  ...   16928.000000      17.700000\n",
              "max    581586.000000   80995.000000  ...   18287.000000  168469.600000\n",
              "\n",
              "[8 rows x 5 columns]"
            ]
          },
          "metadata": {
            "tags": []
          },
          "execution_count": 30
        }
      ]
    },
    {
      "cell_type": "code",
      "metadata": {
        "colab": {
          "base_uri": "https://localhost:8080/"
        },
        "id": "5crz3swwljgl",
        "outputId": "98c0acf0-63ae-4cf7-ae92-103ddcb2a3f9"
      },
      "source": [
        "# Checking the dataframe info\n",
        "\n",
        "clean_final_retail_uk_data.info()"
      ],
      "execution_count": 31,
      "outputs": [
        {
          "output_type": "stream",
          "text": [
            "<class 'pandas.core.frame.DataFrame'>\n",
            "Int64Index: 343955 entries, 405915 to 805532\n",
            "Data columns (total 9 columns):\n",
            " #   Column       Non-Null Count   Dtype         \n",
            "---  ------       --------------   -----         \n",
            " 0   Invoice      343955 non-null  int64         \n",
            " 1   StockCode    343955 non-null  object        \n",
            " 2   Description  343955 non-null  object        \n",
            " 3   Quantity     343955 non-null  int64         \n",
            " 4   InvoiceDate  343955 non-null  datetime64[ns]\n",
            " 5   UnitPrice    343955 non-null  float64       \n",
            " 6   CustomerID   343955 non-null  float64       \n",
            " 7   Country      343955 non-null  object        \n",
            " 8   TotalCost    343955 non-null  float64       \n",
            "dtypes: datetime64[ns](1), float64(3), int64(2), object(3)\n",
            "memory usage: 26.2+ MB\n"
          ],
          "name": "stdout"
        }
      ]
    },
    {
      "cell_type": "code",
      "metadata": {
        "colab": {
          "base_uri": "https://localhost:8080/",
          "height": 34
        },
        "id": "yEbD62BCsVm-",
        "outputId": "079bf02f-e588-4340-806b-55dd8d6b3acf"
      },
      "source": [
        "\"\"\"Implementing RFM\"\"\""
      ],
      "execution_count": 32,
      "outputs": [
        {
          "output_type": "execute_result",
          "data": {
            "application/vnd.google.colaboratory.intrinsic+json": {
              "type": "string"
            },
            "text/plain": [
              "'Implementing RFM'"
            ]
          },
          "metadata": {
            "tags": []
          },
          "execution_count": 32
        }
      ]
    },
    {
      "cell_type": "code",
      "metadata": {
        "colab": {
          "base_uri": "https://localhost:8080/"
        },
        "id": "oUMQNLyTlsV9",
        "outputId": "60b77d50-62fe-47ad-c5af-5d27b8a785d1"
      },
      "source": [
        "# Recency \n",
        "# We need a reference date to estimate recency\n",
        "# The difference (in days) between NOW (the reference date) and date of invoice will give us recency\n",
        "# Range of recency will be (0, 365)\n",
        "\n",
        "now = dt.date(2011, 12, 9)\n",
        "\n",
        "print (now)"
      ],
      "execution_count": 33,
      "outputs": [
        {
          "output_type": "stream",
          "text": [
            "2011-12-09\n"
          ],
          "name": "stdout"
        }
      ]
    },
    {
      "cell_type": "code",
      "metadata": {
        "id": "sIZT8GIOltJS"
      },
      "source": [
        "# Creating a column for the date, extracted from the invoicedate variable\n",
        "\n",
        "clean_final_retail_uk_data['Date'] = pd.DatetimeIndex(clean_final_retail_uk_data['InvoiceDate']).date"
      ],
      "execution_count": 34,
      "outputs": []
    },
    {
      "cell_type": "code",
      "metadata": {
        "colab": {
          "base_uri": "https://localhost:8080/",
          "height": 202
        },
        "id": "4gCvIFlElu1V",
        "outputId": "a9efd773-7b71-4316-ad4f-ad395acb54b9"
      },
      "source": [
        "# Exploring the first 5 observations\n",
        "\n",
        "clean_final_retail_uk_data.head()"
      ],
      "execution_count": 35,
      "outputs": [
        {
          "output_type": "execute_result",
          "data": {
            "text/html": [
              "<div>\n",
              "<style scoped>\n",
              "    .dataframe tbody tr th:only-of-type {\n",
              "        vertical-align: middle;\n",
              "    }\n",
              "\n",
              "    .dataframe tbody tr th {\n",
              "        vertical-align: top;\n",
              "    }\n",
              "\n",
              "    .dataframe thead th {\n",
              "        text-align: right;\n",
              "    }\n",
              "</style>\n",
              "<table border=\"1\" class=\"dataframe\">\n",
              "  <thead>\n",
              "    <tr style=\"text-align: right;\">\n",
              "      <th></th>\n",
              "      <th>Invoice</th>\n",
              "      <th>StockCode</th>\n",
              "      <th>Description</th>\n",
              "      <th>Quantity</th>\n",
              "      <th>InvoiceDate</th>\n",
              "      <th>UnitPrice</th>\n",
              "      <th>CustomerID</th>\n",
              "      <th>Country</th>\n",
              "      <th>TotalCost</th>\n",
              "      <th>Date</th>\n",
              "    </tr>\n",
              "  </thead>\n",
              "  <tbody>\n",
              "    <tr>\n",
              "      <th>405915</th>\n",
              "      <td>537879</td>\n",
              "      <td>22114</td>\n",
              "      <td>HOT WATER BOTTLE TEA AND SYMPATHY</td>\n",
              "      <td>12</td>\n",
              "      <td>2010-12-09 08:34:00</td>\n",
              "      <td>3.95</td>\n",
              "      <td>14243.0</td>\n",
              "      <td>United Kingdom</td>\n",
              "      <td>47.4</td>\n",
              "      <td>2010-12-09</td>\n",
              "    </tr>\n",
              "    <tr>\n",
              "      <th>405916</th>\n",
              "      <td>537879</td>\n",
              "      <td>22835</td>\n",
              "      <td>HOT WATER BOTTLE I AM SO POORLY</td>\n",
              "      <td>8</td>\n",
              "      <td>2010-12-09 08:34:00</td>\n",
              "      <td>4.65</td>\n",
              "      <td>14243.0</td>\n",
              "      <td>United Kingdom</td>\n",
              "      <td>37.2</td>\n",
              "      <td>2010-12-09</td>\n",
              "    </tr>\n",
              "    <tr>\n",
              "      <th>405917</th>\n",
              "      <td>537879</td>\n",
              "      <td>85150</td>\n",
              "      <td>LADIES &amp; GENTLEMEN METAL SIGN</td>\n",
              "      <td>6</td>\n",
              "      <td>2010-12-09 08:34:00</td>\n",
              "      <td>2.55</td>\n",
              "      <td>14243.0</td>\n",
              "      <td>United Kingdom</td>\n",
              "      <td>15.3</td>\n",
              "      <td>2010-12-09</td>\n",
              "    </tr>\n",
              "    <tr>\n",
              "      <th>405918</th>\n",
              "      <td>537879</td>\n",
              "      <td>85048</td>\n",
              "      <td>15CM CHRISTMAS GLASS BALL 20 LIGHTS</td>\n",
              "      <td>4</td>\n",
              "      <td>2010-12-09 08:34:00</td>\n",
              "      <td>7.95</td>\n",
              "      <td>14243.0</td>\n",
              "      <td>United Kingdom</td>\n",
              "      <td>31.8</td>\n",
              "      <td>2010-12-09</td>\n",
              "    </tr>\n",
              "    <tr>\n",
              "      <th>405919</th>\n",
              "      <td>537879</td>\n",
              "      <td>21524</td>\n",
              "      <td>DOORMAT SPOTTY HOME SWEET HOME</td>\n",
              "      <td>2</td>\n",
              "      <td>2010-12-09 08:34:00</td>\n",
              "      <td>7.95</td>\n",
              "      <td>14243.0</td>\n",
              "      <td>United Kingdom</td>\n",
              "      <td>15.9</td>\n",
              "      <td>2010-12-09</td>\n",
              "    </tr>\n",
              "  </tbody>\n",
              "</table>\n",
              "</div>"
            ],
            "text/plain": [
              "        Invoice StockCode  ... TotalCost        Date\n",
              "405915   537879     22114  ...      47.4  2010-12-09\n",
              "405916   537879     22835  ...      37.2  2010-12-09\n",
              "405917   537879     85150  ...      15.3  2010-12-09\n",
              "405918   537879     85048  ...      31.8  2010-12-09\n",
              "405919   537879     21524  ...      15.9  2010-12-09\n",
              "\n",
              "[5 rows x 10 columns]"
            ]
          },
          "metadata": {
            "tags": []
          },
          "execution_count": 35
        }
      ]
    },
    {
      "cell_type": "code",
      "metadata": {
        "colab": {
          "base_uri": "https://localhost:8080/",
          "height": 202
        },
        "id": "JX66YSZjly5I",
        "outputId": "a9e237c8-8f6f-424e-f35e-59795b7a336a"
      },
      "source": [
        "# Creating the recency dataframe\n",
        "\n",
        "# Here, the maximum date (most recent date) for each customer's group of transaction is selected\n",
        "recency_df = clean_final_retail_uk_data.groupby(by='CustomerID', as_index=False)['Date'].max()\n",
        "\n",
        "# the columns are labelled to capture the customer ID and the date when tha latest purchase was made\n",
        "recency_df.columns = ['CustomerID', 'LastPurchaseDate']\n",
        "\n",
        "recency_df.head()"
      ],
      "execution_count": 36,
      "outputs": [
        {
          "output_type": "execute_result",
          "data": {
            "text/html": [
              "<div>\n",
              "<style scoped>\n",
              "    .dataframe tbody tr th:only-of-type {\n",
              "        vertical-align: middle;\n",
              "    }\n",
              "\n",
              "    .dataframe tbody tr th {\n",
              "        vertical-align: top;\n",
              "    }\n",
              "\n",
              "    .dataframe thead th {\n",
              "        text-align: right;\n",
              "    }\n",
              "</style>\n",
              "<table border=\"1\" class=\"dataframe\">\n",
              "  <thead>\n",
              "    <tr style=\"text-align: right;\">\n",
              "      <th></th>\n",
              "      <th>CustomerID</th>\n",
              "      <th>LastPurchaseDate</th>\n",
              "    </tr>\n",
              "  </thead>\n",
              "  <tbody>\n",
              "    <tr>\n",
              "      <th>0</th>\n",
              "      <td>12346.0</td>\n",
              "      <td>2011-01-18</td>\n",
              "    </tr>\n",
              "    <tr>\n",
              "      <th>1</th>\n",
              "      <td>12747.0</td>\n",
              "      <td>2011-12-07</td>\n",
              "    </tr>\n",
              "    <tr>\n",
              "      <th>2</th>\n",
              "      <td>12748.0</td>\n",
              "      <td>2011-12-09</td>\n",
              "    </tr>\n",
              "    <tr>\n",
              "      <th>3</th>\n",
              "      <td>12749.0</td>\n",
              "      <td>2011-12-06</td>\n",
              "    </tr>\n",
              "    <tr>\n",
              "      <th>4</th>\n",
              "      <td>12820.0</td>\n",
              "      <td>2011-12-06</td>\n",
              "    </tr>\n",
              "  </tbody>\n",
              "</table>\n",
              "</div>"
            ],
            "text/plain": [
              "   CustomerID LastPurchaseDate\n",
              "0     12346.0       2011-01-18\n",
              "1     12747.0       2011-12-07\n",
              "2     12748.0       2011-12-09\n",
              "3     12749.0       2011-12-06\n",
              "4     12820.0       2011-12-06"
            ]
          },
          "metadata": {
            "tags": []
          },
          "execution_count": 36
        }
      ]
    },
    {
      "cell_type": "code",
      "metadata": {
        "id": "Vx_62Xoblz6u"
      },
      "source": [
        "# Calculating recency\n",
        "\n",
        "# By deducting the last puchase date from \"now\", designated above.\n",
        "recency_df['Recency'] = recency_df['LastPurchaseDate'].apply(lambda x: (now - x).days)\n",
        "\n",
        "# Essentially how recent is each customer's last purchase in comparison to the designated \"now\""
      ],
      "execution_count": 37,
      "outputs": []
    },
    {
      "cell_type": "code",
      "metadata": {
        "colab": {
          "base_uri": "https://localhost:8080/",
          "height": 202
        },
        "id": "HcdvQyi3l2T0",
        "outputId": "fb8d976f-9c31-4626-93d0-eca9a64bca5c"
      },
      "source": [
        "recency_df.head()"
      ],
      "execution_count": 38,
      "outputs": [
        {
          "output_type": "execute_result",
          "data": {
            "text/html": [
              "<div>\n",
              "<style scoped>\n",
              "    .dataframe tbody tr th:only-of-type {\n",
              "        vertical-align: middle;\n",
              "    }\n",
              "\n",
              "    .dataframe tbody tr th {\n",
              "        vertical-align: top;\n",
              "    }\n",
              "\n",
              "    .dataframe thead th {\n",
              "        text-align: right;\n",
              "    }\n",
              "</style>\n",
              "<table border=\"1\" class=\"dataframe\">\n",
              "  <thead>\n",
              "    <tr style=\"text-align: right;\">\n",
              "      <th></th>\n",
              "      <th>CustomerID</th>\n",
              "      <th>LastPurchaseDate</th>\n",
              "      <th>Recency</th>\n",
              "    </tr>\n",
              "  </thead>\n",
              "  <tbody>\n",
              "    <tr>\n",
              "      <th>0</th>\n",
              "      <td>12346.0</td>\n",
              "      <td>2011-01-18</td>\n",
              "      <td>325</td>\n",
              "    </tr>\n",
              "    <tr>\n",
              "      <th>1</th>\n",
              "      <td>12747.0</td>\n",
              "      <td>2011-12-07</td>\n",
              "      <td>2</td>\n",
              "    </tr>\n",
              "    <tr>\n",
              "      <th>2</th>\n",
              "      <td>12748.0</td>\n",
              "      <td>2011-12-09</td>\n",
              "      <td>0</td>\n",
              "    </tr>\n",
              "    <tr>\n",
              "      <th>3</th>\n",
              "      <td>12749.0</td>\n",
              "      <td>2011-12-06</td>\n",
              "      <td>3</td>\n",
              "    </tr>\n",
              "    <tr>\n",
              "      <th>4</th>\n",
              "      <td>12820.0</td>\n",
              "      <td>2011-12-06</td>\n",
              "      <td>3</td>\n",
              "    </tr>\n",
              "  </tbody>\n",
              "</table>\n",
              "</div>"
            ],
            "text/plain": [
              "   CustomerID LastPurchaseDate  Recency\n",
              "0     12346.0       2011-01-18      325\n",
              "1     12747.0       2011-12-07        2\n",
              "2     12748.0       2011-12-09        0\n",
              "3     12749.0       2011-12-06        3\n",
              "4     12820.0       2011-12-06        3"
            ]
          },
          "metadata": {
            "tags": []
          },
          "execution_count": 38
        }
      ]
    },
    {
      "cell_type": "code",
      "metadata": {
        "id": "r0svjOuRl4EF"
      },
      "source": [
        "# Dropping the \"LastPurchaseDate\" variable from the recency dataframe\n",
        "\n",
        "recency_df.drop('LastPurchaseDate', axis=1, inplace=True)"
      ],
      "execution_count": 39,
      "outputs": []
    },
    {
      "cell_type": "code",
      "metadata": {
        "colab": {
          "base_uri": "https://localhost:8080/",
          "height": 202
        },
        "id": "r8x0JiXbl6lD",
        "outputId": "8b3f72a1-e975-4da7-d006-1bd5f9c05c25"
      },
      "source": [
        "# Creating the frequency dataframe\n",
        "\n",
        "# First make a clean copy of the original dataset\n",
        "clean_final_retail_uk_data_copy = clean_final_retail_uk_data\n",
        "\n",
        "# Next drop the duplicate entries (observations) specifically the invoice and customerID\n",
        "clean_final_retail_uk_data_copy.drop_duplicates(subset = ['Invoice', 'CustomerID'], inplace=True)\n",
        "\n",
        "# Now, group the invoices based on the customers and count the number of invoices per customer\n",
        "frequency_df = clean_final_retail_uk_data_copy.groupby(by=['CustomerID'], as_index=False)['Invoice'].count()\n",
        "\n",
        "# Specify the labels to the variabls\n",
        "frequency_df.columns = ['CustomerID', 'Frequency']\n",
        "\n",
        "frequency_df.head()"
      ],
      "execution_count": 40,
      "outputs": [
        {
          "output_type": "execute_result",
          "data": {
            "text/html": [
              "<div>\n",
              "<style scoped>\n",
              "    .dataframe tbody tr th:only-of-type {\n",
              "        vertical-align: middle;\n",
              "    }\n",
              "\n",
              "    .dataframe tbody tr th {\n",
              "        vertical-align: top;\n",
              "    }\n",
              "\n",
              "    .dataframe thead th {\n",
              "        text-align: right;\n",
              "    }\n",
              "</style>\n",
              "<table border=\"1\" class=\"dataframe\">\n",
              "  <thead>\n",
              "    <tr style=\"text-align: right;\">\n",
              "      <th></th>\n",
              "      <th>CustomerID</th>\n",
              "      <th>Frequency</th>\n",
              "    </tr>\n",
              "  </thead>\n",
              "  <tbody>\n",
              "    <tr>\n",
              "      <th>0</th>\n",
              "      <td>12346.0</td>\n",
              "      <td>1</td>\n",
              "    </tr>\n",
              "    <tr>\n",
              "      <th>1</th>\n",
              "      <td>12747.0</td>\n",
              "      <td>10</td>\n",
              "    </tr>\n",
              "    <tr>\n",
              "      <th>2</th>\n",
              "      <td>12748.0</td>\n",
              "      <td>195</td>\n",
              "    </tr>\n",
              "    <tr>\n",
              "      <th>3</th>\n",
              "      <td>12749.0</td>\n",
              "      <td>5</td>\n",
              "    </tr>\n",
              "    <tr>\n",
              "      <th>4</th>\n",
              "      <td>12820.0</td>\n",
              "      <td>4</td>\n",
              "    </tr>\n",
              "  </tbody>\n",
              "</table>\n",
              "</div>"
            ],
            "text/plain": [
              "   CustomerID  Frequency\n",
              "0     12346.0          1\n",
              "1     12747.0         10\n",
              "2     12748.0        195\n",
              "3     12749.0          5\n",
              "4     12820.0          4"
            ]
          },
          "metadata": {
            "tags": []
          },
          "execution_count": 40
        }
      ]
    },
    {
      "cell_type": "code",
      "metadata": {
        "colab": {
          "base_uri": "https://localhost:8080/"
        },
        "id": "W-UJm-8wl8m2",
        "outputId": "5eaae3fd-cb28-4efb-8f3f-34d2bf1cfbf5"
      },
      "source": [
        "# Exploring the information and description of the dataframe\n",
        "\n",
        "clean_final_retail_uk_data_copy.info()"
      ],
      "execution_count": 41,
      "outputs": [
        {
          "output_type": "stream",
          "text": [
            "<class 'pandas.core.frame.DataFrame'>\n",
            "Int64Index: 16014 entries, 405915 to 805529\n",
            "Data columns (total 10 columns):\n",
            " #   Column       Non-Null Count  Dtype         \n",
            "---  ------       --------------  -----         \n",
            " 0   Invoice      16014 non-null  int64         \n",
            " 1   StockCode    16014 non-null  object        \n",
            " 2   Description  16014 non-null  object        \n",
            " 3   Quantity     16014 non-null  int64         \n",
            " 4   InvoiceDate  16014 non-null  datetime64[ns]\n",
            " 5   UnitPrice    16014 non-null  float64       \n",
            " 6   CustomerID   16014 non-null  float64       \n",
            " 7   Country      16014 non-null  object        \n",
            " 8   TotalCost    16014 non-null  float64       \n",
            " 9   Date         16014 non-null  object        \n",
            "dtypes: datetime64[ns](1), float64(3), int64(2), object(4)\n",
            "memory usage: 1.3+ MB\n"
          ],
          "name": "stdout"
        }
      ]
    },
    {
      "cell_type": "code",
      "metadata": {
        "colab": {
          "base_uri": "https://localhost:8080/",
          "height": 202
        },
        "id": "oQYpH4hOmAzh",
        "outputId": "b0448da9-c548-4cdc-fce4-eaf56f1bfbb9"
      },
      "source": [
        "# Creating the monetary value dataframe \n",
        "\n",
        "# Amount spent by each individual customer \n",
        "# Computed by aggregating the total cost for each unique customer\n",
        "monetary_df = clean_final_retail_uk_data.groupby(by='CustomerID', as_index=False)['TotalCost'].sum()\n",
        "\n",
        "monetary_df.columns = ['CustomerID', 'Monetary']\n",
        "\n",
        "monetary_df.head()"
      ],
      "execution_count": 42,
      "outputs": [
        {
          "output_type": "execute_result",
          "data": {
            "text/html": [
              "<div>\n",
              "<style scoped>\n",
              "    .dataframe tbody tr th:only-of-type {\n",
              "        vertical-align: middle;\n",
              "    }\n",
              "\n",
              "    .dataframe tbody tr th {\n",
              "        vertical-align: top;\n",
              "    }\n",
              "\n",
              "    .dataframe thead th {\n",
              "        text-align: right;\n",
              "    }\n",
              "</style>\n",
              "<table border=\"1\" class=\"dataframe\">\n",
              "  <thead>\n",
              "    <tr style=\"text-align: right;\">\n",
              "      <th></th>\n",
              "      <th>CustomerID</th>\n",
              "      <th>Monetary</th>\n",
              "    </tr>\n",
              "  </thead>\n",
              "  <tbody>\n",
              "    <tr>\n",
              "      <th>0</th>\n",
              "      <td>12346.0</td>\n",
              "      <td>77183.60</td>\n",
              "    </tr>\n",
              "    <tr>\n",
              "      <th>1</th>\n",
              "      <td>12747.0</td>\n",
              "      <td>658.89</td>\n",
              "    </tr>\n",
              "    <tr>\n",
              "      <th>2</th>\n",
              "      <td>12748.0</td>\n",
              "      <td>3739.23</td>\n",
              "    </tr>\n",
              "    <tr>\n",
              "      <th>3</th>\n",
              "      <td>12749.0</td>\n",
              "      <td>98.35</td>\n",
              "    </tr>\n",
              "    <tr>\n",
              "      <th>4</th>\n",
              "      <td>12820.0</td>\n",
              "      <td>58.20</td>\n",
              "    </tr>\n",
              "  </tbody>\n",
              "</table>\n",
              "</div>"
            ],
            "text/plain": [
              "   CustomerID  Monetary\n",
              "0     12346.0  77183.60\n",
              "1     12747.0    658.89\n",
              "2     12748.0   3739.23\n",
              "3     12749.0     98.35\n",
              "4     12820.0     58.20"
            ]
          },
          "metadata": {
            "tags": []
          },
          "execution_count": 42
        }
      ]
    },
    {
      "cell_type": "code",
      "metadata": {
        "colab": {
          "base_uri": "https://localhost:8080/",
          "height": 202
        },
        "id": "VTbjsHQmmBpb",
        "outputId": "d8beb55f-c68d-4cf0-918c-71c7c914696c"
      },
      "source": [
        "# RFM table \n",
        "# Merge the recency and frequency dataframes into a temp df\n",
        "\n",
        "temp_df = recency_df.merge(frequency_df, on='CustomerID')\n",
        "temp_df.head()"
      ],
      "execution_count": 43,
      "outputs": [
        {
          "output_type": "execute_result",
          "data": {
            "text/html": [
              "<div>\n",
              "<style scoped>\n",
              "    .dataframe tbody tr th:only-of-type {\n",
              "        vertical-align: middle;\n",
              "    }\n",
              "\n",
              "    .dataframe tbody tr th {\n",
              "        vertical-align: top;\n",
              "    }\n",
              "\n",
              "    .dataframe thead th {\n",
              "        text-align: right;\n",
              "    }\n",
              "</style>\n",
              "<table border=\"1\" class=\"dataframe\">\n",
              "  <thead>\n",
              "    <tr style=\"text-align: right;\">\n",
              "      <th></th>\n",
              "      <th>CustomerID</th>\n",
              "      <th>Recency</th>\n",
              "      <th>Frequency</th>\n",
              "    </tr>\n",
              "  </thead>\n",
              "  <tbody>\n",
              "    <tr>\n",
              "      <th>0</th>\n",
              "      <td>12346.0</td>\n",
              "      <td>325</td>\n",
              "      <td>1</td>\n",
              "    </tr>\n",
              "    <tr>\n",
              "      <th>1</th>\n",
              "      <td>12747.0</td>\n",
              "      <td>2</td>\n",
              "      <td>10</td>\n",
              "    </tr>\n",
              "    <tr>\n",
              "      <th>2</th>\n",
              "      <td>12748.0</td>\n",
              "      <td>0</td>\n",
              "      <td>195</td>\n",
              "    </tr>\n",
              "    <tr>\n",
              "      <th>3</th>\n",
              "      <td>12749.0</td>\n",
              "      <td>3</td>\n",
              "      <td>5</td>\n",
              "    </tr>\n",
              "    <tr>\n",
              "      <th>4</th>\n",
              "      <td>12820.0</td>\n",
              "      <td>3</td>\n",
              "      <td>4</td>\n",
              "    </tr>\n",
              "  </tbody>\n",
              "</table>\n",
              "</div>"
            ],
            "text/plain": [
              "   CustomerID  Recency  Frequency\n",
              "0     12346.0      325          1\n",
              "1     12747.0        2         10\n",
              "2     12748.0        0        195\n",
              "3     12749.0        3          5\n",
              "4     12820.0        3          4"
            ]
          },
          "metadata": {
            "tags": []
          },
          "execution_count": 43
        }
      ]
    },
    {
      "cell_type": "code",
      "metadata": {
        "colab": {
          "base_uri": "https://localhost:8080/",
          "height": 202
        },
        "id": "-TWUjJOJvcKg",
        "outputId": "9076ede0-23d6-46aa-8b5b-b0dbef1f6808"
      },
      "source": [
        "# Merge the temp_df with the monetary dataframe \n",
        "\n",
        "rfm_df = temp_df.merge(monetary_df, on='CustomerID')\n",
        "\n",
        "rfm_df.head()"
      ],
      "execution_count": 44,
      "outputs": [
        {
          "output_type": "execute_result",
          "data": {
            "text/html": [
              "<div>\n",
              "<style scoped>\n",
              "    .dataframe tbody tr th:only-of-type {\n",
              "        vertical-align: middle;\n",
              "    }\n",
              "\n",
              "    .dataframe tbody tr th {\n",
              "        vertical-align: top;\n",
              "    }\n",
              "\n",
              "    .dataframe thead th {\n",
              "        text-align: right;\n",
              "    }\n",
              "</style>\n",
              "<table border=\"1\" class=\"dataframe\">\n",
              "  <thead>\n",
              "    <tr style=\"text-align: right;\">\n",
              "      <th></th>\n",
              "      <th>CustomerID</th>\n",
              "      <th>Recency</th>\n",
              "      <th>Frequency</th>\n",
              "      <th>Monetary</th>\n",
              "    </tr>\n",
              "  </thead>\n",
              "  <tbody>\n",
              "    <tr>\n",
              "      <th>0</th>\n",
              "      <td>12346.0</td>\n",
              "      <td>325</td>\n",
              "      <td>1</td>\n",
              "      <td>77183.60</td>\n",
              "    </tr>\n",
              "    <tr>\n",
              "      <th>1</th>\n",
              "      <td>12747.0</td>\n",
              "      <td>2</td>\n",
              "      <td>10</td>\n",
              "      <td>658.89</td>\n",
              "    </tr>\n",
              "    <tr>\n",
              "      <th>2</th>\n",
              "      <td>12748.0</td>\n",
              "      <td>0</td>\n",
              "      <td>195</td>\n",
              "      <td>3739.23</td>\n",
              "    </tr>\n",
              "    <tr>\n",
              "      <th>3</th>\n",
              "      <td>12749.0</td>\n",
              "      <td>3</td>\n",
              "      <td>5</td>\n",
              "      <td>98.35</td>\n",
              "    </tr>\n",
              "    <tr>\n",
              "      <th>4</th>\n",
              "      <td>12820.0</td>\n",
              "      <td>3</td>\n",
              "      <td>4</td>\n",
              "      <td>58.20</td>\n",
              "    </tr>\n",
              "  </tbody>\n",
              "</table>\n",
              "</div>"
            ],
            "text/plain": [
              "   CustomerID  Recency  Frequency  Monetary\n",
              "0     12346.0      325          1  77183.60\n",
              "1     12747.0        2         10    658.89\n",
              "2     12748.0        0        195   3739.23\n",
              "3     12749.0        3          5     98.35\n",
              "4     12820.0        3          4     58.20"
            ]
          },
          "metadata": {
            "tags": []
          },
          "execution_count": 44
        }
      ]
    },
    {
      "cell_type": "code",
      "metadata": {
        "id": "MZBZlNdqmIl7"
      },
      "source": [
        "# Making the 0's 1, in the recency column\n",
        "\n",
        "rfm_df['Recency'] = rfm_df['Recency'] + 1"
      ],
      "execution_count": 45,
      "outputs": []
    },
    {
      "cell_type": "code",
      "metadata": {
        "colab": {
          "base_uri": "https://localhost:8080/",
          "height": 294
        },
        "id": "chrQPKOfmJaT",
        "outputId": "d407bcd6-6cac-4997-abf8-623c86bb0fe9"
      },
      "source": [
        "rfm_df.describe()"
      ],
      "execution_count": 46,
      "outputs": [
        {
          "output_type": "execute_result",
          "data": {
            "text/html": [
              "<div>\n",
              "<style scoped>\n",
              "    .dataframe tbody tr th:only-of-type {\n",
              "        vertical-align: middle;\n",
              "    }\n",
              "\n",
              "    .dataframe tbody tr th {\n",
              "        vertical-align: top;\n",
              "    }\n",
              "\n",
              "    .dataframe thead th {\n",
              "        text-align: right;\n",
              "    }\n",
              "</style>\n",
              "<table border=\"1\" class=\"dataframe\">\n",
              "  <thead>\n",
              "    <tr style=\"text-align: right;\">\n",
              "      <th></th>\n",
              "      <th>CustomerID</th>\n",
              "      <th>Recency</th>\n",
              "      <th>Frequency</th>\n",
              "      <th>Monetary</th>\n",
              "    </tr>\n",
              "  </thead>\n",
              "  <tbody>\n",
              "    <tr>\n",
              "      <th>count</th>\n",
              "      <td>3862.000000</td>\n",
              "      <td>3862.000000</td>\n",
              "      <td>3862.000000</td>\n",
              "      <td>3862.000000</td>\n",
              "    </tr>\n",
              "    <tr>\n",
              "      <th>mean</th>\n",
              "      <td>15556.033920</td>\n",
              "      <td>88.556447</td>\n",
              "      <td>4.146556</td>\n",
              "      <td>288.374744</td>\n",
              "    </tr>\n",
              "    <tr>\n",
              "      <th>std</th>\n",
              "      <td>1575.522276</td>\n",
              "      <td>94.187268</td>\n",
              "      <td>6.930316</td>\n",
              "      <td>3266.991142</td>\n",
              "    </tr>\n",
              "    <tr>\n",
              "      <th>min</th>\n",
              "      <td>12346.000000</td>\n",
              "      <td>1.000000</td>\n",
              "      <td>1.000000</td>\n",
              "      <td>0.390000</td>\n",
              "    </tr>\n",
              "    <tr>\n",
              "      <th>25%</th>\n",
              "      <td>14201.750000</td>\n",
              "      <td>18.000000</td>\n",
              "      <td>1.000000</td>\n",
              "      <td>17.400000</td>\n",
              "    </tr>\n",
              "    <tr>\n",
              "      <th>50%</th>\n",
              "      <td>15561.500000</td>\n",
              "      <td>50.000000</td>\n",
              "      <td>2.000000</td>\n",
              "      <td>45.000000</td>\n",
              "    </tr>\n",
              "    <tr>\n",
              "      <th>75%</th>\n",
              "      <td>16911.500000</td>\n",
              "      <td>135.000000</td>\n",
              "      <td>5.000000</td>\n",
              "      <td>121.625000</td>\n",
              "    </tr>\n",
              "    <tr>\n",
              "      <th>max</th>\n",
              "      <td>18287.000000</td>\n",
              "      <td>366.000000</td>\n",
              "      <td>195.000000</td>\n",
              "      <td>168471.250000</td>\n",
              "    </tr>\n",
              "  </tbody>\n",
              "</table>\n",
              "</div>"
            ],
            "text/plain": [
              "         CustomerID      Recency    Frequency       Monetary\n",
              "count   3862.000000  3862.000000  3862.000000    3862.000000\n",
              "mean   15556.033920    88.556447     4.146556     288.374744\n",
              "std     1575.522276    94.187268     6.930316    3266.991142\n",
              "min    12346.000000     1.000000     1.000000       0.390000\n",
              "25%    14201.750000    18.000000     1.000000      17.400000\n",
              "50%    15561.500000    50.000000     2.000000      45.000000\n",
              "75%    16911.500000   135.000000     5.000000     121.625000\n",
              "max    18287.000000   366.000000   195.000000  168471.250000"
            ]
          },
          "metadata": {
            "tags": []
          },
          "execution_count": 46
        }
      ]
    },
    {
      "cell_type": "code",
      "metadata": {
        "colab": {
          "base_uri": "https://localhost:8080/",
          "height": 294
        },
        "id": "xVIGni_OmK6H",
        "outputId": "809ac14f-c067-4a8e-9b02-2b666cbff78a"
      },
      "source": [
        "# Outlier treatment \n",
        "# Given that the algorithm is highly susceptible to outliers, we need to remove outliers\n",
        "\n",
        "# For recency \n",
        "Q1 = rfm_df.Recency.quantile(0.25)\n",
        "Q3 = rfm_df.Recency.quantile(0.75)\n",
        "\n",
        "IQR = Q3 - Q1\n",
        "\n",
        "rfm_df = rfm_df[(rfm_df.Recency >= (Q1 - 1.5 * IQR)) & (rfm_df.Recency <= (Q3 + 1.5 * IQR))]\n",
        "\n",
        "rfm_df.describe()\n",
        "\n",
        "# As seen below, the mean and std has reduced, the max and the 75% has also reduced"
      ],
      "execution_count": 47,
      "outputs": [
        {
          "output_type": "execute_result",
          "data": {
            "text/html": [
              "<div>\n",
              "<style scoped>\n",
              "    .dataframe tbody tr th:only-of-type {\n",
              "        vertical-align: middle;\n",
              "    }\n",
              "\n",
              "    .dataframe tbody tr th {\n",
              "        vertical-align: top;\n",
              "    }\n",
              "\n",
              "    .dataframe thead th {\n",
              "        text-align: right;\n",
              "    }\n",
              "</style>\n",
              "<table border=\"1\" class=\"dataframe\">\n",
              "  <thead>\n",
              "    <tr style=\"text-align: right;\">\n",
              "      <th></th>\n",
              "      <th>CustomerID</th>\n",
              "      <th>Recency</th>\n",
              "      <th>Frequency</th>\n",
              "      <th>Monetary</th>\n",
              "    </tr>\n",
              "  </thead>\n",
              "  <tbody>\n",
              "    <tr>\n",
              "      <th>count</th>\n",
              "      <td>3720.000000</td>\n",
              "      <td>3720.000000</td>\n",
              "      <td>3720.000000</td>\n",
              "      <td>3720.000000</td>\n",
              "    </tr>\n",
              "    <tr>\n",
              "      <th>mean</th>\n",
              "      <td>15555.140054</td>\n",
              "      <td>79.108871</td>\n",
              "      <td>4.260215</td>\n",
              "      <td>277.141626</td>\n",
              "    </tr>\n",
              "    <tr>\n",
              "      <th>std</th>\n",
              "      <td>1574.965476</td>\n",
              "      <td>82.263670</td>\n",
              "      <td>7.035349</td>\n",
              "      <td>3080.297517</td>\n",
              "    </tr>\n",
              "    <tr>\n",
              "      <th>min</th>\n",
              "      <td>12747.000000</td>\n",
              "      <td>1.000000</td>\n",
              "      <td>1.000000</td>\n",
              "      <td>0.390000</td>\n",
              "    </tr>\n",
              "    <tr>\n",
              "      <th>25%</th>\n",
              "      <td>14197.500000</td>\n",
              "      <td>17.000000</td>\n",
              "      <td>1.000000</td>\n",
              "      <td>17.700000</td>\n",
              "    </tr>\n",
              "    <tr>\n",
              "      <th>50%</th>\n",
              "      <td>15570.500000</td>\n",
              "      <td>46.000000</td>\n",
              "      <td>2.000000</td>\n",
              "      <td>46.800000</td>\n",
              "    </tr>\n",
              "    <tr>\n",
              "      <th>75%</th>\n",
              "      <td>16909.250000</td>\n",
              "      <td>116.000000</td>\n",
              "      <td>5.000000</td>\n",
              "      <td>125.425000</td>\n",
              "    </tr>\n",
              "    <tr>\n",
              "      <th>max</th>\n",
              "      <td>18287.000000</td>\n",
              "      <td>310.000000</td>\n",
              "      <td>195.000000</td>\n",
              "      <td>168471.250000</td>\n",
              "    </tr>\n",
              "  </tbody>\n",
              "</table>\n",
              "</div>"
            ],
            "text/plain": [
              "         CustomerID      Recency    Frequency       Monetary\n",
              "count   3720.000000  3720.000000  3720.000000    3720.000000\n",
              "mean   15555.140054    79.108871     4.260215     277.141626\n",
              "std     1574.965476    82.263670     7.035349    3080.297517\n",
              "min    12747.000000     1.000000     1.000000       0.390000\n",
              "25%    14197.500000    17.000000     1.000000      17.700000\n",
              "50%    15570.500000    46.000000     2.000000      46.800000\n",
              "75%    16909.250000   116.000000     5.000000     125.425000\n",
              "max    18287.000000   310.000000   195.000000  168471.250000"
            ]
          },
          "metadata": {
            "tags": []
          },
          "execution_count": 47
        }
      ]
    },
    {
      "cell_type": "code",
      "metadata": {
        "colab": {
          "base_uri": "https://localhost:8080/",
          "height": 294
        },
        "id": "2E-sj0S-mNWX",
        "outputId": "4d100869-b46f-4ba2-e9b7-1f61b99f9812"
      },
      "source": [
        "# For frequency\n",
        "\n",
        "Q1 = rfm_df.Frequency.quantile(0.25)\n",
        "Q3 = rfm_df.Frequency.quantile(0.75)\n",
        "\n",
        "IQR = Q3 - Q1\n",
        "\n",
        "rfm_df = rfm_df[(rfm_df.Frequency >= (Q1 - 1.5 * IQR)) & (rfm_df.Frequency <= (Q3 +1.5 * IQR))]\n",
        "\n",
        "rfm_df.describe()\n",
        "\n",
        "# As shown below, the distribution and the descriptives have also adjusted to exclude the outliers "
      ],
      "execution_count": 48,
      "outputs": [
        {
          "output_type": "execute_result",
          "data": {
            "text/html": [
              "<div>\n",
              "<style scoped>\n",
              "    .dataframe tbody tr th:only-of-type {\n",
              "        vertical-align: middle;\n",
              "    }\n",
              "\n",
              "    .dataframe tbody tr th {\n",
              "        vertical-align: top;\n",
              "    }\n",
              "\n",
              "    .dataframe thead th {\n",
              "        text-align: right;\n",
              "    }\n",
              "</style>\n",
              "<table border=\"1\" class=\"dataframe\">\n",
              "  <thead>\n",
              "    <tr style=\"text-align: right;\">\n",
              "      <th></th>\n",
              "      <th>CustomerID</th>\n",
              "      <th>Recency</th>\n",
              "      <th>Frequency</th>\n",
              "      <th>Monetary</th>\n",
              "    </tr>\n",
              "  </thead>\n",
              "  <tbody>\n",
              "    <tr>\n",
              "      <th>count</th>\n",
              "      <td>3483.000000</td>\n",
              "      <td>3483.000000</td>\n",
              "      <td>3483.000000</td>\n",
              "      <td>3483.000000</td>\n",
              "    </tr>\n",
              "    <tr>\n",
              "      <th>mean</th>\n",
              "      <td>15558.796153</td>\n",
              "      <td>83.618145</td>\n",
              "      <td>3.021246</td>\n",
              "      <td>173.328243</td>\n",
              "    </tr>\n",
              "    <tr>\n",
              "      <th>std</th>\n",
              "      <td>1571.559883</td>\n",
              "      <td>82.962228</td>\n",
              "      <td>2.401442</td>\n",
              "      <td>2952.364923</td>\n",
              "    </tr>\n",
              "    <tr>\n",
              "      <th>min</th>\n",
              "      <td>12747.000000</td>\n",
              "      <td>1.000000</td>\n",
              "      <td>1.000000</td>\n",
              "      <td>0.390000</td>\n",
              "    </tr>\n",
              "    <tr>\n",
              "      <th>25%</th>\n",
              "      <td>14214.500000</td>\n",
              "      <td>20.000000</td>\n",
              "      <td>1.000000</td>\n",
              "      <td>17.000000</td>\n",
              "    </tr>\n",
              "    <tr>\n",
              "      <th>50%</th>\n",
              "      <td>15572.000000</td>\n",
              "      <td>51.000000</td>\n",
              "      <td>2.000000</td>\n",
              "      <td>41.240000</td>\n",
              "    </tr>\n",
              "    <tr>\n",
              "      <th>75%</th>\n",
              "      <td>16914.500000</td>\n",
              "      <td>128.000000</td>\n",
              "      <td>4.000000</td>\n",
              "      <td>101.385000</td>\n",
              "    </tr>\n",
              "    <tr>\n",
              "      <th>max</th>\n",
              "      <td>18287.000000</td>\n",
              "      <td>310.000000</td>\n",
              "      <td>11.000000</td>\n",
              "      <td>168471.250000</td>\n",
              "    </tr>\n",
              "  </tbody>\n",
              "</table>\n",
              "</div>"
            ],
            "text/plain": [
              "         CustomerID      Recency    Frequency       Monetary\n",
              "count   3483.000000  3483.000000  3483.000000    3483.000000\n",
              "mean   15558.796153    83.618145     3.021246     173.328243\n",
              "std     1571.559883    82.962228     2.401442    2952.364923\n",
              "min    12747.000000     1.000000     1.000000       0.390000\n",
              "25%    14214.500000    20.000000     1.000000      17.000000\n",
              "50%    15572.000000    51.000000     2.000000      41.240000\n",
              "75%    16914.500000   128.000000     4.000000     101.385000\n",
              "max    18287.000000   310.000000    11.000000  168471.250000"
            ]
          },
          "metadata": {
            "tags": []
          },
          "execution_count": 48
        }
      ]
    },
    {
      "cell_type": "code",
      "metadata": {
        "colab": {
          "base_uri": "https://localhost:8080/",
          "height": 294
        },
        "id": "Zx9tQ9WRmP1o",
        "outputId": "99f30cc4-a909-4086-ebf7-0bc5f7064991"
      },
      "source": [
        "# For monetary\n",
        "\n",
        "Q1 = rfm_df.Monetary.quantile(0.25)\n",
        "Q3 = rfm_df.Monetary.quantile(0.75)\n",
        "\n",
        "IQR = Q3 - Q1\n",
        "\n",
        "rfm_df = rfm_df[(rfm_df.Monetary >= (Q1 - 1.5 * IQR)) & (rfm_df.Monetary <= (Q3 +1.5 * IQR))]\n",
        "\n",
        "rfm_df.describe()"
      ],
      "execution_count": 49,
      "outputs": [
        {
          "output_type": "execute_result",
          "data": {
            "text/html": [
              "<div>\n",
              "<style scoped>\n",
              "    .dataframe tbody tr th:only-of-type {\n",
              "        vertical-align: middle;\n",
              "    }\n",
              "\n",
              "    .dataframe tbody tr th {\n",
              "        vertical-align: top;\n",
              "    }\n",
              "\n",
              "    .dataframe thead th {\n",
              "        text-align: right;\n",
              "    }\n",
              "</style>\n",
              "<table border=\"1\" class=\"dataframe\">\n",
              "  <thead>\n",
              "    <tr style=\"text-align: right;\">\n",
              "      <th></th>\n",
              "      <th>CustomerID</th>\n",
              "      <th>Recency</th>\n",
              "      <th>Frequency</th>\n",
              "      <th>Monetary</th>\n",
              "    </tr>\n",
              "  </thead>\n",
              "  <tbody>\n",
              "    <tr>\n",
              "      <th>count</th>\n",
              "      <td>3146.000000</td>\n",
              "      <td>3146.000000</td>\n",
              "      <td>3146.000000</td>\n",
              "      <td>3146.000000</td>\n",
              "    </tr>\n",
              "    <tr>\n",
              "      <th>mean</th>\n",
              "      <td>15559.520025</td>\n",
              "      <td>86.230769</td>\n",
              "      <td>2.736173</td>\n",
              "      <td>54.106135</td>\n",
              "    </tr>\n",
              "    <tr>\n",
              "      <th>std</th>\n",
              "      <td>1559.466439</td>\n",
              "      <td>84.187489</td>\n",
              "      <td>2.117309</td>\n",
              "      <td>51.658956</td>\n",
              "    </tr>\n",
              "    <tr>\n",
              "      <th>min</th>\n",
              "      <td>12749.000000</td>\n",
              "      <td>1.000000</td>\n",
              "      <td>1.000000</td>\n",
              "      <td>0.390000</td>\n",
              "    </tr>\n",
              "    <tr>\n",
              "      <th>25%</th>\n",
              "      <td>14227.500000</td>\n",
              "      <td>22.000000</td>\n",
              "      <td>1.000000</td>\n",
              "      <td>15.900000</td>\n",
              "    </tr>\n",
              "    <tr>\n",
              "      <th>50%</th>\n",
              "      <td>15571.500000</td>\n",
              "      <td>53.000000</td>\n",
              "      <td>2.000000</td>\n",
              "      <td>35.625000</td>\n",
              "    </tr>\n",
              "    <tr>\n",
              "      <th>75%</th>\n",
              "      <td>16896.500000</td>\n",
              "      <td>134.000000</td>\n",
              "      <td>4.000000</td>\n",
              "      <td>76.500000</td>\n",
              "    </tr>\n",
              "    <tr>\n",
              "      <th>max</th>\n",
              "      <td>18287.000000</td>\n",
              "      <td>310.000000</td>\n",
              "      <td>11.000000</td>\n",
              "      <td>227.400000</td>\n",
              "    </tr>\n",
              "  </tbody>\n",
              "</table>\n",
              "</div>"
            ],
            "text/plain": [
              "         CustomerID      Recency    Frequency     Monetary\n",
              "count   3146.000000  3146.000000  3146.000000  3146.000000\n",
              "mean   15559.520025    86.230769     2.736173    54.106135\n",
              "std     1559.466439    84.187489     2.117309    51.658956\n",
              "min    12749.000000     1.000000     1.000000     0.390000\n",
              "25%    14227.500000    22.000000     1.000000    15.900000\n",
              "50%    15571.500000    53.000000     2.000000    35.625000\n",
              "75%    16896.500000   134.000000     4.000000    76.500000\n",
              "max    18287.000000   310.000000    11.000000   227.400000"
            ]
          },
          "metadata": {
            "tags": []
          },
          "execution_count": 49
        }
      ]
    },
    {
      "cell_type": "code",
      "metadata": {
        "id": "nf4QhPmSmXlK"
      },
      "source": [
        "# Scaling,using StandardScaler or MinMaxScaler or manual scaling is important for K-Means clustering\n",
        "\n",
        "# Scaling recency to the range (0,1)\n",
        "\n",
        "# recency - recency.min / recency.max - recency.min\n",
        "\n",
        "rfm_df['R'] = (rfm_df['Recency'] - rfm_df['Recency'].min()) / (rfm_df['Recency'].max() - rfm_df['Recency'].min())"
      ],
      "execution_count": 50,
      "outputs": []
    },
    {
      "cell_type": "code",
      "metadata": {
        "id": "01MDLTSqmZ0A"
      },
      "source": [
        "# Scaling frequency to the range (0, 1)\n",
        "\n",
        "rfm_df['F'] = (rfm_df['Frequency'] - rfm_df['Frequency'].min()) / (rfm_df['Frequency'].max() - rfm_df['Frequency'].min())"
      ],
      "execution_count": 51,
      "outputs": []
    },
    {
      "cell_type": "code",
      "metadata": {
        "id": "TRlVrx4smbui"
      },
      "source": [
        "# Scaling the monetary to the range (0, 1)\n",
        "\n",
        "rfm_df['M'] = (rfm_df['Monetary'] - rfm_df['Monetary'].min()) / (rfm_df['Monetary'].max() - rfm_df['Monetary'].min())"
      ],
      "execution_count": 52,
      "outputs": []
    },
    {
      "cell_type": "code",
      "metadata": {
        "colab": {
          "base_uri": "https://localhost:8080/",
          "height": 202
        },
        "id": "B5ac35mKmenh",
        "outputId": "7f3eb579-eb78-49f6-e66d-9059f4b1df57"
      },
      "source": [
        "# the value of the customer is inversely proportional to the recency value and directly proportional to the frequency and the monetary values \n",
        "\n",
        "rfm_df.head()"
      ],
      "execution_count": 53,
      "outputs": [
        {
          "output_type": "execute_result",
          "data": {
            "text/html": [
              "<div>\n",
              "<style scoped>\n",
              "    .dataframe tbody tr th:only-of-type {\n",
              "        vertical-align: middle;\n",
              "    }\n",
              "\n",
              "    .dataframe tbody tr th {\n",
              "        vertical-align: top;\n",
              "    }\n",
              "\n",
              "    .dataframe thead th {\n",
              "        text-align: right;\n",
              "    }\n",
              "</style>\n",
              "<table border=\"1\" class=\"dataframe\">\n",
              "  <thead>\n",
              "    <tr style=\"text-align: right;\">\n",
              "      <th></th>\n",
              "      <th>CustomerID</th>\n",
              "      <th>Recency</th>\n",
              "      <th>Frequency</th>\n",
              "      <th>Monetary</th>\n",
              "      <th>R</th>\n",
              "      <th>F</th>\n",
              "      <th>M</th>\n",
              "    </tr>\n",
              "  </thead>\n",
              "  <tbody>\n",
              "    <tr>\n",
              "      <th>3</th>\n",
              "      <td>12749.0</td>\n",
              "      <td>4</td>\n",
              "      <td>5</td>\n",
              "      <td>98.35</td>\n",
              "      <td>0.009709</td>\n",
              "      <td>0.4</td>\n",
              "      <td>0.431523</td>\n",
              "    </tr>\n",
              "    <tr>\n",
              "      <th>4</th>\n",
              "      <td>12820.0</td>\n",
              "      <td>4</td>\n",
              "      <td>4</td>\n",
              "      <td>58.20</td>\n",
              "      <td>0.009709</td>\n",
              "      <td>0.3</td>\n",
              "      <td>0.254658</td>\n",
              "    </tr>\n",
              "    <tr>\n",
              "      <th>5</th>\n",
              "      <td>12821.0</td>\n",
              "      <td>215</td>\n",
              "      <td>1</td>\n",
              "      <td>19.92</td>\n",
              "      <td>0.692557</td>\n",
              "      <td>0.0</td>\n",
              "      <td>0.086031</td>\n",
              "    </tr>\n",
              "    <tr>\n",
              "      <th>6</th>\n",
              "      <td>12822.0</td>\n",
              "      <td>71</td>\n",
              "      <td>2</td>\n",
              "      <td>30.80</td>\n",
              "      <td>0.226537</td>\n",
              "      <td>0.1</td>\n",
              "      <td>0.133959</td>\n",
              "    </tr>\n",
              "    <tr>\n",
              "      <th>8</th>\n",
              "      <td>12824.0</td>\n",
              "      <td>60</td>\n",
              "      <td>1</td>\n",
              "      <td>5.04</td>\n",
              "      <td>0.190939</td>\n",
              "      <td>0.0</td>\n",
              "      <td>0.020484</td>\n",
              "    </tr>\n",
              "  </tbody>\n",
              "</table>\n",
              "</div>"
            ],
            "text/plain": [
              "   CustomerID  Recency  Frequency  Monetary         R    F         M\n",
              "3     12749.0        4          5     98.35  0.009709  0.4  0.431523\n",
              "4     12820.0        4          4     58.20  0.009709  0.3  0.254658\n",
              "5     12821.0      215          1     19.92  0.692557  0.0  0.086031\n",
              "6     12822.0       71          2     30.80  0.226537  0.1  0.133959\n",
              "8     12824.0       60          1      5.04  0.190939  0.0  0.020484"
            ]
          },
          "metadata": {
            "tags": []
          },
          "execution_count": 53
        }
      ]
    },
    {
      "cell_type": "code",
      "metadata": {
        "colab": {
          "base_uri": "https://localhost:8080/",
          "height": 202
        },
        "id": "9lKI3gEQmjHK",
        "outputId": "54ca2c9f-5756-4805-b72d-d0a808a790a1"
      },
      "source": [
        "# Making a copy of the rfm_df\n",
        "\n",
        "df = rfm_df\n",
        "df.head()"
      ],
      "execution_count": 54,
      "outputs": [
        {
          "output_type": "execute_result",
          "data": {
            "text/html": [
              "<div>\n",
              "<style scoped>\n",
              "    .dataframe tbody tr th:only-of-type {\n",
              "        vertical-align: middle;\n",
              "    }\n",
              "\n",
              "    .dataframe tbody tr th {\n",
              "        vertical-align: top;\n",
              "    }\n",
              "\n",
              "    .dataframe thead th {\n",
              "        text-align: right;\n",
              "    }\n",
              "</style>\n",
              "<table border=\"1\" class=\"dataframe\">\n",
              "  <thead>\n",
              "    <tr style=\"text-align: right;\">\n",
              "      <th></th>\n",
              "      <th>CustomerID</th>\n",
              "      <th>Recency</th>\n",
              "      <th>Frequency</th>\n",
              "      <th>Monetary</th>\n",
              "      <th>R</th>\n",
              "      <th>F</th>\n",
              "      <th>M</th>\n",
              "    </tr>\n",
              "  </thead>\n",
              "  <tbody>\n",
              "    <tr>\n",
              "      <th>3</th>\n",
              "      <td>12749.0</td>\n",
              "      <td>4</td>\n",
              "      <td>5</td>\n",
              "      <td>98.35</td>\n",
              "      <td>0.009709</td>\n",
              "      <td>0.4</td>\n",
              "      <td>0.431523</td>\n",
              "    </tr>\n",
              "    <tr>\n",
              "      <th>4</th>\n",
              "      <td>12820.0</td>\n",
              "      <td>4</td>\n",
              "      <td>4</td>\n",
              "      <td>58.20</td>\n",
              "      <td>0.009709</td>\n",
              "      <td>0.3</td>\n",
              "      <td>0.254658</td>\n",
              "    </tr>\n",
              "    <tr>\n",
              "      <th>5</th>\n",
              "      <td>12821.0</td>\n",
              "      <td>215</td>\n",
              "      <td>1</td>\n",
              "      <td>19.92</td>\n",
              "      <td>0.692557</td>\n",
              "      <td>0.0</td>\n",
              "      <td>0.086031</td>\n",
              "    </tr>\n",
              "    <tr>\n",
              "      <th>6</th>\n",
              "      <td>12822.0</td>\n",
              "      <td>71</td>\n",
              "      <td>2</td>\n",
              "      <td>30.80</td>\n",
              "      <td>0.226537</td>\n",
              "      <td>0.1</td>\n",
              "      <td>0.133959</td>\n",
              "    </tr>\n",
              "    <tr>\n",
              "      <th>8</th>\n",
              "      <td>12824.0</td>\n",
              "      <td>60</td>\n",
              "      <td>1</td>\n",
              "      <td>5.04</td>\n",
              "      <td>0.190939</td>\n",
              "      <td>0.0</td>\n",
              "      <td>0.020484</td>\n",
              "    </tr>\n",
              "  </tbody>\n",
              "</table>\n",
              "</div>"
            ],
            "text/plain": [
              "   CustomerID  Recency  Frequency  Monetary         R    F         M\n",
              "3     12749.0        4          5     98.35  0.009709  0.4  0.431523\n",
              "4     12820.0        4          4     58.20  0.009709  0.3  0.254658\n",
              "5     12821.0      215          1     19.92  0.692557  0.0  0.086031\n",
              "6     12822.0       71          2     30.80  0.226537  0.1  0.133959\n",
              "8     12824.0       60          1      5.04  0.190939  0.0  0.020484"
            ]
          },
          "metadata": {
            "tags": []
          },
          "execution_count": 54
        }
      ]
    },
    {
      "cell_type": "code",
      "metadata": {
        "colab": {
          "base_uri": "https://localhost:8080/",
          "height": 294
        },
        "id": "txPIh3_Jmlsp",
        "outputId": "09c7aa71-99c8-47a6-900e-8ae568b1a9c0"
      },
      "source": [
        "# Exploring the descriptives of the dataframe\n",
        "\n",
        "df.describe()"
      ],
      "execution_count": 56,
      "outputs": [
        {
          "output_type": "execute_result",
          "data": {
            "text/html": [
              "<div>\n",
              "<style scoped>\n",
              "    .dataframe tbody tr th:only-of-type {\n",
              "        vertical-align: middle;\n",
              "    }\n",
              "\n",
              "    .dataframe tbody tr th {\n",
              "        vertical-align: top;\n",
              "    }\n",
              "\n",
              "    .dataframe thead th {\n",
              "        text-align: right;\n",
              "    }\n",
              "</style>\n",
              "<table border=\"1\" class=\"dataframe\">\n",
              "  <thead>\n",
              "    <tr style=\"text-align: right;\">\n",
              "      <th></th>\n",
              "      <th>CustomerID</th>\n",
              "      <th>Recency</th>\n",
              "      <th>Frequency</th>\n",
              "      <th>Monetary</th>\n",
              "      <th>R</th>\n",
              "      <th>F</th>\n",
              "      <th>M</th>\n",
              "    </tr>\n",
              "  </thead>\n",
              "  <tbody>\n",
              "    <tr>\n",
              "      <th>count</th>\n",
              "      <td>3146.000000</td>\n",
              "      <td>3146.000000</td>\n",
              "      <td>3146.000000</td>\n",
              "      <td>3146.000000</td>\n",
              "      <td>3146.000000</td>\n",
              "      <td>3146.000000</td>\n",
              "      <td>3146.000000</td>\n",
              "    </tr>\n",
              "    <tr>\n",
              "      <th>mean</th>\n",
              "      <td>15559.520025</td>\n",
              "      <td>86.230769</td>\n",
              "      <td>2.736173</td>\n",
              "      <td>54.106135</td>\n",
              "      <td>0.275828</td>\n",
              "      <td>0.173617</td>\n",
              "      <td>0.236625</td>\n",
              "    </tr>\n",
              "    <tr>\n",
              "      <th>std</th>\n",
              "      <td>1559.466439</td>\n",
              "      <td>84.187489</td>\n",
              "      <td>2.117309</td>\n",
              "      <td>51.658956</td>\n",
              "      <td>0.272451</td>\n",
              "      <td>0.211731</td>\n",
              "      <td>0.227562</td>\n",
              "    </tr>\n",
              "    <tr>\n",
              "      <th>min</th>\n",
              "      <td>12749.000000</td>\n",
              "      <td>1.000000</td>\n",
              "      <td>1.000000</td>\n",
              "      <td>0.390000</td>\n",
              "      <td>0.000000</td>\n",
              "      <td>0.000000</td>\n",
              "      <td>0.000000</td>\n",
              "    </tr>\n",
              "    <tr>\n",
              "      <th>25%</th>\n",
              "      <td>14227.500000</td>\n",
              "      <td>22.000000</td>\n",
              "      <td>1.000000</td>\n",
              "      <td>15.900000</td>\n",
              "      <td>0.067961</td>\n",
              "      <td>0.000000</td>\n",
              "      <td>0.068323</td>\n",
              "    </tr>\n",
              "    <tr>\n",
              "      <th>50%</th>\n",
              "      <td>15571.500000</td>\n",
              "      <td>53.000000</td>\n",
              "      <td>2.000000</td>\n",
              "      <td>35.625000</td>\n",
              "      <td>0.168285</td>\n",
              "      <td>0.100000</td>\n",
              "      <td>0.155213</td>\n",
              "    </tr>\n",
              "    <tr>\n",
              "      <th>75%</th>\n",
              "      <td>16896.500000</td>\n",
              "      <td>134.000000</td>\n",
              "      <td>4.000000</td>\n",
              "      <td>76.500000</td>\n",
              "      <td>0.430421</td>\n",
              "      <td>0.300000</td>\n",
              "      <td>0.335272</td>\n",
              "    </tr>\n",
              "    <tr>\n",
              "      <th>max</th>\n",
              "      <td>18287.000000</td>\n",
              "      <td>310.000000</td>\n",
              "      <td>11.000000</td>\n",
              "      <td>227.400000</td>\n",
              "      <td>1.000000</td>\n",
              "      <td>1.000000</td>\n",
              "      <td>1.000000</td>\n",
              "    </tr>\n",
              "  </tbody>\n",
              "</table>\n",
              "</div>"
            ],
            "text/plain": [
              "         CustomerID      Recency  ...            F            M\n",
              "count   3146.000000  3146.000000  ...  3146.000000  3146.000000\n",
              "mean   15559.520025    86.230769  ...     0.173617     0.236625\n",
              "std     1559.466439    84.187489  ...     0.211731     0.227562\n",
              "min    12749.000000     1.000000  ...     0.000000     0.000000\n",
              "25%    14227.500000    22.000000  ...     0.000000     0.068323\n",
              "50%    15571.500000    53.000000  ...     0.100000     0.155213\n",
              "75%    16896.500000   134.000000  ...     0.300000     0.335272\n",
              "max    18287.000000   310.000000  ...     1.000000     1.000000\n",
              "\n",
              "[8 rows x 7 columns]"
            ]
          },
          "metadata": {
            "tags": []
          },
          "execution_count": 56
        }
      ]
    },
    {
      "cell_type": "code",
      "metadata": {
        "colab": {
          "base_uri": "https://localhost:8080/",
          "height": 278
        },
        "id": "JAoia5pOmoQG",
        "outputId": "f4b771ef-93a3-420b-b50d-7c7570dcc41e"
      },
      "source": [
        "#df['Recency'].hist()\n",
        "#df['Frequency'].hist()\n",
        "df['Monetary'].hist()"
      ],
      "execution_count": 57,
      "outputs": [
        {
          "output_type": "execute_result",
          "data": {
            "text/plain": [
              "<matplotlib.axes._subplots.AxesSubplot at 0x7fd4ef0d7f90>"
            ]
          },
          "metadata": {
            "tags": []
          },
          "execution_count": 57
        },
        {
          "output_type": "display_data",
          "data": {
            "image/png": "[encoded data removed]",
            "text/plain": [
              "<Figure size 432x288 with 1 Axes>"
            ]
          },
          "metadata": {
            "tags": [],
            "needs_background": "light"
          }
        }
      ]
    },
    {
      "cell_type": "code",
      "metadata": {
        "colab": {
          "base_uri": "https://localhost:8080/",
          "height": 387
        },
        "id": "Nj3yC4acmpff",
        "outputId": "64530e23-1ff1-4c79-f4ba-453dfb041f1b"
      },
      "source": [
        "# Plotting the distribution plots of the scaled recency, frequency and monetary values\n",
        "\n",
        "fig, (ax0, ax1, ax2) = plt.subplots(nrows=1, ncols=3, sharey=True, figsize=(15,6))\n",
        "\n",
        "sns.distplot(df['Recency'], ax=ax0, kde=False, color='b')\n",
        "ax0.set(xlabel='Recency', ylabel='Number of Customers')\n",
        "\n",
        "sns.distplot(df['Frequency'], ax=ax1, kde=False, color='r')\n",
        "ax1.set(xlabel='Frequency')\n",
        "\n",
        "sns.distplot(df['Monetary'], ax=ax2, kde=False, color='g')\n",
        "ax2.set(xlabel='Monetary')\n",
        "\n",
        "fig.savefig('Histograms of Attributes')"
      ],
      "execution_count": 58,
      "outputs": [
        {
          "output_type": "display_data",
          "data": {
            "image/png": "[encoded data removed]",
            "text/plain": [
              "<Figure size 1080x432 with 3 Axes>"
            ]
          },
          "metadata": {
            "tags": [],
            "needs_background": "light"
          }
        }
      ]
    },
    {
      "cell_type": "code",
      "metadata": {
        "colab": {
          "base_uri": "https://localhost:8080/",
          "height": 414
        },
        "id": "1BQ3CJm2msM3",
        "outputId": "8b0aaed3-7800-422e-f61a-0a48e3cb8a05"
      },
      "source": [
        "# Reseting the index for future concatenation purposes \n",
        "# Pandas needs same indexes to concatenate pd objects, else some rows will be lost\n",
        "\n",
        "df.reset_index(drop = True, inplace=True)\n",
        "\n",
        "df"
      ],
      "execution_count": 59,
      "outputs": [
        {
          "output_type": "execute_result",
          "data": {
            "text/html": [
              "<div>\n",
              "<style scoped>\n",
              "    .dataframe tbody tr th:only-of-type {\n",
              "        vertical-align: middle;\n",
              "    }\n",
              "\n",
              "    .dataframe tbody tr th {\n",
              "        vertical-align: top;\n",
              "    }\n",
              "\n",
              "    .dataframe thead th {\n",
              "        text-align: right;\n",
              "    }\n",
              "</style>\n",
              "<table border=\"1\" class=\"dataframe\">\n",
              "  <thead>\n",
              "    <tr style=\"text-align: right;\">\n",
              "      <th></th>\n",
              "      <th>CustomerID</th>\n",
              "      <th>Recency</th>\n",
              "      <th>Frequency</th>\n",
              "      <th>Monetary</th>\n",
              "      <th>R</th>\n",
              "      <th>F</th>\n",
              "      <th>M</th>\n",
              "    </tr>\n",
              "  </thead>\n",
              "  <tbody>\n",
              "    <tr>\n",
              "      <th>0</th>\n",
              "      <td>12749.0</td>\n",
              "      <td>4</td>\n",
              "      <td>5</td>\n",
              "      <td>98.35</td>\n",
              "      <td>0.009709</td>\n",
              "      <td>0.4</td>\n",
              "      <td>0.431523</td>\n",
              "    </tr>\n",
              "    <tr>\n",
              "      <th>1</th>\n",
              "      <td>12820.0</td>\n",
              "      <td>4</td>\n",
              "      <td>4</td>\n",
              "      <td>58.20</td>\n",
              "      <td>0.009709</td>\n",
              "      <td>0.3</td>\n",
              "      <td>0.254658</td>\n",
              "    </tr>\n",
              "    <tr>\n",
              "      <th>2</th>\n",
              "      <td>12821.0</td>\n",
              "      <td>215</td>\n",
              "      <td>1</td>\n",
              "      <td>19.92</td>\n",
              "      <td>0.692557</td>\n",
              "      <td>0.0</td>\n",
              "      <td>0.086031</td>\n",
              "    </tr>\n",
              "    <tr>\n",
              "      <th>3</th>\n",
              "      <td>12822.0</td>\n",
              "      <td>71</td>\n",
              "      <td>2</td>\n",
              "      <td>30.80</td>\n",
              "      <td>0.226537</td>\n",
              "      <td>0.1</td>\n",
              "      <td>0.133959</td>\n",
              "    </tr>\n",
              "    <tr>\n",
              "      <th>4</th>\n",
              "      <td>12824.0</td>\n",
              "      <td>60</td>\n",
              "      <td>1</td>\n",
              "      <td>5.04</td>\n",
              "      <td>0.190939</td>\n",
              "      <td>0.0</td>\n",
              "      <td>0.020484</td>\n",
              "    </tr>\n",
              "    <tr>\n",
              "      <th>...</th>\n",
              "      <td>...</td>\n",
              "      <td>...</td>\n",
              "      <td>...</td>\n",
              "      <td>...</td>\n",
              "      <td>...</td>\n",
              "      <td>...</td>\n",
              "      <td>...</td>\n",
              "    </tr>\n",
              "    <tr>\n",
              "      <th>3141</th>\n",
              "      <td>18278.0</td>\n",
              "      <td>74</td>\n",
              "      <td>1</td>\n",
              "      <td>17.00</td>\n",
              "      <td>0.236246</td>\n",
              "      <td>0.0</td>\n",
              "      <td>0.073169</td>\n",
              "    </tr>\n",
              "    <tr>\n",
              "      <th>3142</th>\n",
              "      <td>18280.0</td>\n",
              "      <td>278</td>\n",
              "      <td>1</td>\n",
              "      <td>23.70</td>\n",
              "      <td>0.896440</td>\n",
              "      <td>0.0</td>\n",
              "      <td>0.102683</td>\n",
              "    </tr>\n",
              "    <tr>\n",
              "      <th>3143</th>\n",
              "      <td>18281.0</td>\n",
              "      <td>181</td>\n",
              "      <td>1</td>\n",
              "      <td>5.04</td>\n",
              "      <td>0.582524</td>\n",
              "      <td>0.0</td>\n",
              "      <td>0.020484</td>\n",
              "    </tr>\n",
              "    <tr>\n",
              "      <th>3144</th>\n",
              "      <td>18282.0</td>\n",
              "      <td>8</td>\n",
              "      <td>2</td>\n",
              "      <td>38.25</td>\n",
              "      <td>0.022654</td>\n",
              "      <td>0.1</td>\n",
              "      <td>0.166777</td>\n",
              "    </tr>\n",
              "    <tr>\n",
              "      <th>3145</th>\n",
              "      <td>18287.0</td>\n",
              "      <td>43</td>\n",
              "      <td>3</td>\n",
              "      <td>80.40</td>\n",
              "      <td>0.135922</td>\n",
              "      <td>0.2</td>\n",
              "      <td>0.352451</td>\n",
              "    </tr>\n",
              "  </tbody>\n",
              "</table>\n",
              "<p>3146 rows × 7 columns</p>\n",
              "</div>"
            ],
            "text/plain": [
              "      CustomerID  Recency  Frequency  Monetary         R    F         M\n",
              "0        12749.0        4          5     98.35  0.009709  0.4  0.431523\n",
              "1        12820.0        4          4     58.20  0.009709  0.3  0.254658\n",
              "2        12821.0      215          1     19.92  0.692557  0.0  0.086031\n",
              "3        12822.0       71          2     30.80  0.226537  0.1  0.133959\n",
              "4        12824.0       60          1      5.04  0.190939  0.0  0.020484\n",
              "...          ...      ...        ...       ...       ...  ...       ...\n",
              "3141     18278.0       74          1     17.00  0.236246  0.0  0.073169\n",
              "3142     18280.0      278          1     23.70  0.896440  0.0  0.102683\n",
              "3143     18281.0      181          1      5.04  0.582524  0.0  0.020484\n",
              "3144     18282.0        8          2     38.25  0.022654  0.1  0.166777\n",
              "3145     18287.0       43          3     80.40  0.135922  0.2  0.352451\n",
              "\n",
              "[3146 rows x 7 columns]"
            ]
          },
          "metadata": {
            "tags": []
          },
          "execution_count": 59
        }
      ]
    },
    {
      "cell_type": "code",
      "metadata": {
        "id": "2YFmj1lsmz_Y"
      },
      "source": [
        "# HOPKINS statistics - tells you how much data is suitable to cluster\n",
        "\n",
        "def hopkins(X):\n",
        "  d = X.shape[1] # d = len(vars) # columns\n",
        "  n = len(X) # rows\n",
        "  m = int(0.1 * n)\n",
        "  nbrs = NearestNeighbors(n_neighbors=1).fit(X.values)\n",
        "\n",
        "  rand_X = sample(range(0, n, 1), m)\n",
        "\n",
        "  ujd = []\n",
        "  wjd = []\n",
        "  for j in range(0, m):\n",
        "    u_dist, _ = nbrs.kneighbors(uniform(np.amin(X, axis=0), np.amax(X, axis=0), d).reshape(1, -1), 2, return_distance=True)\n",
        "    ujd.append(u_dist[0][1])\n",
        "    w_dist, _ = nbrs.kneighbors(X.iloc[rand_X[j]].values.reshape(1, -1), 2, return_distance=True)\n",
        "    wjd.append(w_dist[0][1])\n",
        "    \n",
        "  H = sum(ujd) / (sum(ujd) + sum(wjd))\n",
        "  if isnan(H):\n",
        "    print(ujd, wjd)\n",
        "    H = 0\n",
        "\n",
        "  return H"
      ],
      "execution_count": 60,
      "outputs": []
    },
    {
      "cell_type": "code",
      "metadata": {
        "colab": {
          "base_uri": "https://localhost:8080/"
        },
        "id": "i_ZKh9i6m0-J",
        "outputId": "e5833c8e-02cd-4ebc-8832-1066e680f3ed"
      },
      "source": [
        "hopkins(df[['R', 'F', 'M']])\n",
        "\n",
        "# About 91% of the data is suitable for clustering"
      ],
      "execution_count": 62,
      "outputs": [
        {
          "output_type": "execute_result",
          "data": {
            "text/plain": [
              "0.8993416764703311"
            ]
          },
          "metadata": {
            "tags": []
          },
          "execution_count": 62
        }
      ]
    },
    {
      "cell_type": "code",
      "metadata": {
        "colab": {
          "base_uri": "https://localhost:8080/",
          "height": 692
        },
        "id": "PMDJSTX9m4N5",
        "outputId": "ec51cbae-ce4d-49d2-90f7-469eb1ab54b5"
      },
      "source": [
        "# Making a new df with only the scaled R F M scores \n",
        "\n",
        "df_1 = df[['CustomerID', 'R', 'F', 'M']]\n",
        "df_1.set_index('CustomerID', inplace = True)\n",
        "df_1.head(20)"
      ],
      "execution_count": 63,
      "outputs": [
        {
          "output_type": "execute_result",
          "data": {
            "text/html": [
              "<div>\n",
              "<style scoped>\n",
              "    .dataframe tbody tr th:only-of-type {\n",
              "        vertical-align: middle;\n",
              "    }\n",
              "\n",
              "    .dataframe tbody tr th {\n",
              "        vertical-align: top;\n",
              "    }\n",
              "\n",
              "    .dataframe thead th {\n",
              "        text-align: right;\n",
              "    }\n",
              "</style>\n",
              "<table border=\"1\" class=\"dataframe\">\n",
              "  <thead>\n",
              "    <tr style=\"text-align: right;\">\n",
              "      <th></th>\n",
              "      <th>R</th>\n",
              "      <th>F</th>\n",
              "      <th>M</th>\n",
              "    </tr>\n",
              "    <tr>\n",
              "      <th>CustomerID</th>\n",
              "      <th></th>\n",
              "      <th></th>\n",
              "      <th></th>\n",
              "    </tr>\n",
              "  </thead>\n",
              "  <tbody>\n",
              "    <tr>\n",
              "      <th>12749.0</th>\n",
              "      <td>0.009709</td>\n",
              "      <td>0.4</td>\n",
              "      <td>0.431523</td>\n",
              "    </tr>\n",
              "    <tr>\n",
              "      <th>12820.0</th>\n",
              "      <td>0.009709</td>\n",
              "      <td>0.3</td>\n",
              "      <td>0.254658</td>\n",
              "    </tr>\n",
              "    <tr>\n",
              "      <th>12821.0</th>\n",
              "      <td>0.692557</td>\n",
              "      <td>0.0</td>\n",
              "      <td>0.086031</td>\n",
              "    </tr>\n",
              "    <tr>\n",
              "      <th>12822.0</th>\n",
              "      <td>0.226537</td>\n",
              "      <td>0.1</td>\n",
              "      <td>0.133959</td>\n",
              "    </tr>\n",
              "    <tr>\n",
              "      <th>12824.0</th>\n",
              "      <td>0.190939</td>\n",
              "      <td>0.0</td>\n",
              "      <td>0.020484</td>\n",
              "    </tr>\n",
              "    <tr>\n",
              "      <th>12826.0</th>\n",
              "      <td>0.006472</td>\n",
              "      <td>0.6</td>\n",
              "      <td>0.539227</td>\n",
              "    </tr>\n",
              "    <tr>\n",
              "      <th>12827.0</th>\n",
              "      <td>0.016181</td>\n",
              "      <td>0.2</td>\n",
              "      <td>0.369235</td>\n",
              "    </tr>\n",
              "    <tr>\n",
              "      <th>12828.0</th>\n",
              "      <td>0.006472</td>\n",
              "      <td>0.5</td>\n",
              "      <td>0.680190</td>\n",
              "    </tr>\n",
              "    <tr>\n",
              "      <th>12831.0</th>\n",
              "      <td>0.847896</td>\n",
              "      <td>0.0</td>\n",
              "      <td>0.148936</td>\n",
              "    </tr>\n",
              "    <tr>\n",
              "      <th>12832.0</th>\n",
              "      <td>0.103560</td>\n",
              "      <td>0.1</td>\n",
              "      <td>0.085943</td>\n",
              "    </tr>\n",
              "    <tr>\n",
              "      <th>12833.0</th>\n",
              "      <td>0.469256</td>\n",
              "      <td>0.0</td>\n",
              "      <td>0.064358</td>\n",
              "    </tr>\n",
              "    <tr>\n",
              "      <th>12834.0</th>\n",
              "      <td>0.912621</td>\n",
              "      <td>0.0</td>\n",
              "      <td>0.068323</td>\n",
              "    </tr>\n",
              "    <tr>\n",
              "      <th>12836.0</th>\n",
              "      <td>0.190939</td>\n",
              "      <td>0.3</td>\n",
              "      <td>0.126250</td>\n",
              "    </tr>\n",
              "    <tr>\n",
              "      <th>12837.0</th>\n",
              "      <td>0.559871</td>\n",
              "      <td>0.0</td>\n",
              "      <td>0.073169</td>\n",
              "    </tr>\n",
              "    <tr>\n",
              "      <th>12838.0</th>\n",
              "      <td>0.106796</td>\n",
              "      <td>0.0</td>\n",
              "      <td>0.024272</td>\n",
              "    </tr>\n",
              "    <tr>\n",
              "      <th>12840.0</th>\n",
              "      <td>0.462783</td>\n",
              "      <td>0.3</td>\n",
              "      <td>0.608828</td>\n",
              "    </tr>\n",
              "    <tr>\n",
              "      <th>12842.0</th>\n",
              "      <td>0.226537</td>\n",
              "      <td>0.1</td>\n",
              "      <td>0.098718</td>\n",
              "    </tr>\n",
              "    <tr>\n",
              "      <th>12843.0</th>\n",
              "      <td>0.210356</td>\n",
              "      <td>0.7</td>\n",
              "      <td>0.540989</td>\n",
              "    </tr>\n",
              "    <tr>\n",
              "      <th>12844.0</th>\n",
              "      <td>0.093851</td>\n",
              "      <td>0.1</td>\n",
              "      <td>0.036606</td>\n",
              "    </tr>\n",
              "    <tr>\n",
              "      <th>12847.0</th>\n",
              "      <td>0.071197</td>\n",
              "      <td>0.0</td>\n",
              "      <td>0.003436</td>\n",
              "    </tr>\n",
              "  </tbody>\n",
              "</table>\n",
              "</div>"
            ],
            "text/plain": [
              "                   R    F         M\n",
              "CustomerID                         \n",
              "12749.0     0.009709  0.4  0.431523\n",
              "12820.0     0.009709  0.3  0.254658\n",
              "12821.0     0.692557  0.0  0.086031\n",
              "12822.0     0.226537  0.1  0.133959\n",
              "12824.0     0.190939  0.0  0.020484\n",
              "12826.0     0.006472  0.6  0.539227\n",
              "12827.0     0.016181  0.2  0.369235\n",
              "12828.0     0.006472  0.5  0.680190\n",
              "12831.0     0.847896  0.0  0.148936\n",
              "12832.0     0.103560  0.1  0.085943\n",
              "12833.0     0.469256  0.0  0.064358\n",
              "12834.0     0.912621  0.0  0.068323\n",
              "12836.0     0.190939  0.3  0.126250\n",
              "12837.0     0.559871  0.0  0.073169\n",
              "12838.0     0.106796  0.0  0.024272\n",
              "12840.0     0.462783  0.3  0.608828\n",
              "12842.0     0.226537  0.1  0.098718\n",
              "12843.0     0.210356  0.7  0.540989\n",
              "12844.0     0.093851  0.1  0.036606\n",
              "12847.0     0.071197  0.0  0.003436"
            ]
          },
          "metadata": {
            "tags": []
          },
          "execution_count": 63
        }
      ]
    },
    {
      "cell_type": "code",
      "metadata": {
        "colab": {
          "base_uri": "https://localhost:8080/",
          "height": 256
        },
        "id": "ksJgnKb0m68r",
        "outputId": "f4b02217-ae6f-4857-ab52-b8f71a2496d6"
      },
      "source": [
        "# Dendrogram \n",
        "\n",
        "d = linkage(df_1, method='complete')\n",
        "dendrogram(d, leaf_rotation=180, leaf_font_size=5)\n",
        "plt.show()\n",
        "\n",
        "# From the dendrogram, the possible number of clusters is visible to be withn 3, 4, 5, 6"
      ],
      "execution_count": 66,
      "outputs": [
        {
          "output_type": "display_data",
          "data": {
            "image/png": "[encoded data removed]",
            "text/plain": [
              "<Figure size 432x288 with 1 Axes>"
            ]
          },
          "metadata": {
            "tags": [],
            "needs_background": "light"
          }
        }
      ]
    },
    {
      "cell_type": "code",
      "metadata": {
        "id": "o-rO4D0ym9cQ"
      },
      "source": [
        "# First clustering \n",
        "\n",
        "# Defining the model \n",
        "model = KMeans(n_clusters=4, init='random', max_iter=500, tol=1e-10)"
      ],
      "execution_count": 67,
      "outputs": []
    },
    {
      "cell_type": "code",
      "metadata": {
        "colab": {
          "base_uri": "https://localhost:8080/"
        },
        "id": "LC3rVlPcm-SH",
        "outputId": "a470f506-98c9-4c43-b057-01c0f963131b"
      },
      "source": [
        "# Fitting the model to the scaled RFM dataframe\n",
        "\n",
        "model.fit(df_1)"
      ],
      "execution_count": 68,
      "outputs": [
        {
          "output_type": "execute_result",
          "data": {
            "text/plain": [
              "KMeans(algorithm='auto', copy_x=True, init='random', max_iter=500, n_clusters=4,\n",
              "       n_init=10, n_jobs=None, precompute_distances='auto', random_state=None,\n",
              "       tol=1e-10, verbose=0)"
            ]
          },
          "metadata": {
            "tags": []
          },
          "execution_count": 68
        }
      ]
    },
    {
      "cell_type": "code",
      "metadata": {
        "colab": {
          "base_uri": "https://localhost:8080/"
        },
        "id": "lmKSjT9XnBIk",
        "outputId": "5e7927f5-40f8-4e0d-8590-6bca9ad6d630"
      },
      "source": [
        "# Identifying the model clusters\n",
        "\n",
        "model.cluster_centers_"
      ],
      "execution_count": 69,
      "outputs": [
        {
          "output_type": "execute_result",
          "data": {
            "text/plain": [
              "array([[0.12675369, 0.3039031 , 0.31651466],\n",
              "       [0.11835184, 0.5191067 , 0.68885259],\n",
              "       [0.70620403, 0.04700399, 0.14015496],\n",
              "       [0.15654206, 0.06076861, 0.10119008]])"
            ]
          },
          "metadata": {
            "tags": []
          },
          "execution_count": 69
        }
      ]
    },
    {
      "cell_type": "code",
      "metadata": {
        "colab": {
          "base_uri": "https://localhost:8080/"
        },
        "id": "QT5KL1dWnCH4",
        "outputId": "04f89875-0ad9-4444-8f6f-1a4480d970c6"
      },
      "source": [
        "# Printing out the model labels\n",
        "\n",
        "model.labels_"
      ],
      "execution_count": 70,
      "outputs": [
        {
          "output_type": "execute_result",
          "data": {
            "text/plain": [
              "array([0, 0, 2, ..., 2, 3, 0], dtype=int32)"
            ]
          },
          "metadata": {
            "tags": []
          },
          "execution_count": 70
        }
      ]
    },
    {
      "cell_type": "code",
      "metadata": {
        "colab": {
          "base_uri": "https://localhost:8080/"
        },
        "id": "uYR01WnmnFkL",
        "outputId": "99cecd31-66ad-43e9-e846-10093e6de8d9"
      },
      "source": [
        "# Mpdel inertia\n",
        "\n",
        "model.inertia_"
      ],
      "execution_count": 71,
      "outputs": [
        {
          "output_type": "execute_result",
          "data": {
            "text/plain": [
              "148.20606741306258"
            ]
          },
          "metadata": {
            "tags": []
          },
          "execution_count": 71
        }
      ]
    },
    {
      "cell_type": "code",
      "metadata": {
        "colab": {
          "base_uri": "https://localhost:8080/"
        },
        "id": "PqyJZMuFnIGT",
        "outputId": "6d5db203-31a1-4331-e95a-b8dd111790a9"
      },
      "source": [
        "# The number of iterations\n",
        "\n",
        "model.n_iter_"
      ],
      "execution_count": 72,
      "outputs": [
        {
          "output_type": "execute_result",
          "data": {
            "text/plain": [
              "31"
            ]
          },
          "metadata": {
            "tags": []
          },
          "execution_count": 72
        }
      ]
    },
    {
      "cell_type": "code",
      "metadata": {
        "colab": {
          "base_uri": "https://localhost:8080/"
        },
        "id": "C8Z52ozRnL9z",
        "outputId": "451aae63-b439-4a0d-c158-05e6add0df7a"
      },
      "source": [
        "# Finding optimum K for K-Means \n",
        "\n",
        "from sklearn.metrics import silhouette_score\n",
        "\n",
        "sse_ = []\n",
        "ssd = []\n",
        "centroids_from_kmeans = []\n",
        "iterations = []\n",
        "\n",
        "for k in range(2, 15):\n",
        "  kmeans = KMeans(n_clusters=k, init='random', n_init=100, max_iter=500, tol=1e-10).fit(df_1)\n",
        "  sse_.append([k, silhouette_score(df_1, kmeans.labels_)])\n",
        "  ssd.append([k, kmeans.inertia_])\n",
        "  centroids_from_kmeans.append(kmeans.cluster_centers_)\n",
        "  iterations.append([k, kmeans.n_iter_])\n",
        "\n",
        "print ('Silhouette score for each K: \\n', sse_)\n",
        "print ('Inerta for each K: \\n', ssd)\n",
        "print ('Number of iterations for each K: \\n', iterations)"
      ],
      "execution_count": 75,
      "outputs": [
        {
          "output_type": "stream",
          "text": [
            "Silhouette score for each K: \n",
            " [[2, 0.41907546980726146], [3, 0.4651189329970308], [4, 0.3901175522811003], [5, 0.39145691416282624], [6, 0.3705595897146853], [7, 0.3762686251031278], [8, 0.3581509948249025], [9, 0.332085203671766], [10, 0.34090320382408373], [11, 0.32264777806022105], [12, 0.32946750018254345], [13, 0.3231124561500273], [14, 0.32378639405142545]]\n",
            "Inerta for each K: \n",
            " [[2, 325.8775595010353], [3, 178.3557148317475], [4, 148.20606741306258], [5, 124.60608704233503], [6, 106.08926206493273], [7, 94.81548542456169], [8, 83.840985642752], [9, 76.96310746102607], [10, 70.89259302249351], [11, 65.836135004147], [12, 60.72560903790966], [13, 56.884315722125166], [14, 54.24710483719864]]\n",
            "Number of iterations for each K: \n",
            " [[2, 7], [3, 9], [4, 28], [5, 15], [6, 22], [7, 43], [8, 24], [9, 26], [10, 34], [11, 31], [12, 35], [13, 53], [14, 29]]\n"
          ],
          "name": "stdout"
        }
      ]
    },
    {
      "cell_type": "code",
      "metadata": {
        "colab": {
          "base_uri": "https://localhost:8080/",
          "height": 295
        },
        "id": "oaD3ZTH5nNTb",
        "outputId": "9c5f028f-22cc-4417-da9f-9e064588edb3"
      },
      "source": [
        "# Plotting the silhouette scores for the varying number of clusters \n",
        "\n",
        "plt.plot(pd.DataFrame(sse_)[0], pd.DataFrame(sse_)[1], label='Silhouette Score')\n",
        "plt.title('Silhouette Score for Varying Number of Clusters')\n",
        "plt.xlabel('# of clusters')\n",
        "plt.ylabel('Silhouette Score')\n",
        "plt.show()"
      ],
      "execution_count": 76,
      "outputs": [
        {
          "output_type": "display_data",
          "data": {
            "image/png": "[encoded data removed]",
            "text/plain": [
              "<Figure size 432x288 with 1 Axes>"
            ]
          },
          "metadata": {
            "tags": [],
            "needs_background": "light"
          }
        }
      ]
    },
    {
      "cell_type": "code",
      "metadata": {
        "colab": {
          "base_uri": "https://localhost:8080/",
          "height": 295
        },
        "id": "z98pRf4cnQA6",
        "outputId": "c40b4f27-8e24-4b07-fd20-bc0ade8730b2"
      },
      "source": [
        "# Plotting the inertia of the K-Means clustering results\n",
        "\n",
        "plt.plot(pd.DataFrame(ssd)[0], pd.DataFrame(ssd)[1], label='Inertia')\n",
        "plt.title('Inertia of K-Means Clustering Results')\n",
        "plt.xlabel('# of clusters')\n",
        "plt.ylabel('Inertia')\n",
        "plt.show()"
      ],
      "execution_count": 77,
      "outputs": [
        {
          "output_type": "display_data",
          "data": {
            "image/png": "[encoded data removed]",
            "text/plain": [
              "<Figure size 432x288 with 1 Axes>"
            ]
          },
          "metadata": {
            "tags": [],
            "needs_background": "light"
          }
        }
      ]
    },
    {
      "cell_type": "code",
      "metadata": {
        "colab": {
          "base_uri": "https://localhost:8080/"
        },
        "id": "H8zgnm0DnULE",
        "outputId": "af93a8b9-ed47-4a90-ab0e-b614c63f432f"
      },
      "source": [
        "# Finding the optimum K for K-Means\n",
        "\n",
        "sse_ward = []\n",
        "\n",
        "for k in range(2, 15):\n",
        "  h_cluster = AgglomerativeClustering(n_clusters=k)\n",
        "  h_cluster.fit(df_1)\n",
        "  sse_ward.append([k, silhouette_score(df_1, h_cluster.labels_)])\n",
        "\n",
        "print (sse_ward)"
      ],
      "execution_count": 78,
      "outputs": [
        {
          "output_type": "stream",
          "text": [
            "[[2, 0.3851116036523478], [3, 0.4307264497346631], [4, 0.4282540034080085], [5, 0.3159366510197099], [6, 0.30423781642601], [7, 0.3077782419522447], [8, 0.2772531263023056], [9, 0.2816415044388118], [10, 0.2593619227974915], [11, 0.27448735770680843], [12, 0.2740520272758343], [13, 0.27636273086468116], [14, 0.28691380472146555]]\n"
          ],
          "name": "stdout"
        }
      ]
    },
    {
      "cell_type": "code",
      "metadata": {
        "colab": {
          "base_uri": "https://localhost:8080/",
          "height": 295
        },
        "id": "D-yMr7IOnWqZ",
        "outputId": "3db1d9c5-67ee-48b5-c221-2ea6766f167f"
      },
      "source": [
        "# Silhouette scores for varying number of clusters\n",
        "\n",
        "plt.plot(pd.DataFrame(sse_ward)[0], pd.DataFrame(sse_ward)[1], label='Silhouette Score')\n",
        "plt.title('Silhouette Score for Varying Number of Clusters')\n",
        "plt.xlabel('# of clusters')\n",
        "plt.ylabel('Silhouette Score')\n",
        "plt.show()\n",
        "\n",
        "# Low inertia and high silhouette scores are desirable, let \"K\" (number of clusters) be equal to 3\n",
        "# This is also in line with what the dendogram suggests"
      ],
      "execution_count": 79,
      "outputs": [
        {
          "output_type": "display_data",
          "data": {
            "image/png": "[encoded data removed]",
            "text/plain": [
              "<Figure size 432x288 with 1 Axes>"
            ]
          },
          "metadata": {
            "tags": [],
            "needs_background": "light"
          }
        }
      ]
    },
    {
      "cell_type": "code",
      "metadata": {
        "colab": {
          "base_uri": "https://localhost:8080/"
        },
        "id": "YOTDSfXsnZG6",
        "outputId": "302e9583-3661-40c6-c655-b79445fbcc1a"
      },
      "source": [
        "# Hierarchical Cluster Analyses to find initial seeds for k-means \n",
        "\n",
        "# Initiating the agglomerative clustering model and fitting it to the dataset.\n",
        "clustering = AgglomerativeClustering(n_clusters=3)\n",
        "\n",
        "clustering.fit(df_1)"
      ],
      "execution_count": 80,
      "outputs": [
        {
          "output_type": "execute_result",
          "data": {
            "text/plain": [
              "AgglomerativeClustering(affinity='euclidean', compute_full_tree='auto',\n",
              "                        connectivity=None, distance_threshold=None,\n",
              "                        linkage='ward', memory=None, n_clusters=3)"
            ]
          },
          "metadata": {
            "tags": []
          },
          "execution_count": 80
        }
      ]
    },
    {
      "cell_type": "code",
      "metadata": {
        "colab": {
          "base_uri": "https://localhost:8080/",
          "height": 355
        },
        "id": "RoLh2Xg9naE3",
        "outputId": "a4368f2e-4069-4994-92c5-f235e6d9f6c1"
      },
      "source": [
        "# Exploring the results of the agglomerative clustering \n",
        "\n",
        "labels_v0 = pd.DataFrame(clustering.labels_)\n",
        "labels_v0\n",
        "RFM_0 = pd.concat([df, labels_v0], axis = 1)\n",
        "RFM_0.columns = ['CustomerID', 'Recency', 'Frequency', 'Monetary', 'R', 'F', 'M', 'Cluster']\n",
        "RFM_0['Cluster'] = RFM_0['Cluster'] + 1\n",
        "RFM_ward = RFM_0\n",
        "RFM_ward.head(10)"
      ],
      "execution_count": 81,
      "outputs": [
        {
          "output_type": "execute_result",
          "data": {
            "text/html": [
              "<div>\n",
              "<style scoped>\n",
              "    .dataframe tbody tr th:only-of-type {\n",
              "        vertical-align: middle;\n",
              "    }\n",
              "\n",
              "    .dataframe tbody tr th {\n",
              "        vertical-align: top;\n",
              "    }\n",
              "\n",
              "    .dataframe thead th {\n",
              "        text-align: right;\n",
              "    }\n",
              "</style>\n",
              "<table border=\"1\" class=\"dataframe\">\n",
              "  <thead>\n",
              "    <tr style=\"text-align: right;\">\n",
              "      <th></th>\n",
              "      <th>CustomerID</th>\n",
              "      <th>Recency</th>\n",
              "      <th>Frequency</th>\n",
              "      <th>Monetary</th>\n",
              "      <th>R</th>\n",
              "      <th>F</th>\n",
              "      <th>M</th>\n",
              "      <th>Cluster</th>\n",
              "    </tr>\n",
              "  </thead>\n",
              "  <tbody>\n",
              "    <tr>\n",
              "      <th>0</th>\n",
              "      <td>12749.0</td>\n",
              "      <td>4</td>\n",
              "      <td>5</td>\n",
              "      <td>98.35</td>\n",
              "      <td>0.009709</td>\n",
              "      <td>0.4</td>\n",
              "      <td>0.431523</td>\n",
              "      <td>3</td>\n",
              "    </tr>\n",
              "    <tr>\n",
              "      <th>1</th>\n",
              "      <td>12820.0</td>\n",
              "      <td>4</td>\n",
              "      <td>4</td>\n",
              "      <td>58.20</td>\n",
              "      <td>0.009709</td>\n",
              "      <td>0.3</td>\n",
              "      <td>0.254658</td>\n",
              "      <td>3</td>\n",
              "    </tr>\n",
              "    <tr>\n",
              "      <th>2</th>\n",
              "      <td>12821.0</td>\n",
              "      <td>215</td>\n",
              "      <td>1</td>\n",
              "      <td>19.92</td>\n",
              "      <td>0.692557</td>\n",
              "      <td>0.0</td>\n",
              "      <td>0.086031</td>\n",
              "      <td>2</td>\n",
              "    </tr>\n",
              "    <tr>\n",
              "      <th>3</th>\n",
              "      <td>12822.0</td>\n",
              "      <td>71</td>\n",
              "      <td>2</td>\n",
              "      <td>30.80</td>\n",
              "      <td>0.226537</td>\n",
              "      <td>0.1</td>\n",
              "      <td>0.133959</td>\n",
              "      <td>3</td>\n",
              "    </tr>\n",
              "    <tr>\n",
              "      <th>4</th>\n",
              "      <td>12824.0</td>\n",
              "      <td>60</td>\n",
              "      <td>1</td>\n",
              "      <td>5.04</td>\n",
              "      <td>0.190939</td>\n",
              "      <td>0.0</td>\n",
              "      <td>0.020484</td>\n",
              "      <td>3</td>\n",
              "    </tr>\n",
              "    <tr>\n",
              "      <th>5</th>\n",
              "      <td>12826.0</td>\n",
              "      <td>3</td>\n",
              "      <td>7</td>\n",
              "      <td>122.80</td>\n",
              "      <td>0.006472</td>\n",
              "      <td>0.6</td>\n",
              "      <td>0.539227</td>\n",
              "      <td>1</td>\n",
              "    </tr>\n",
              "    <tr>\n",
              "      <th>6</th>\n",
              "      <td>12827.0</td>\n",
              "      <td>6</td>\n",
              "      <td>3</td>\n",
              "      <td>84.21</td>\n",
              "      <td>0.016181</td>\n",
              "      <td>0.2</td>\n",
              "      <td>0.369235</td>\n",
              "      <td>3</td>\n",
              "    </tr>\n",
              "    <tr>\n",
              "      <th>7</th>\n",
              "      <td>12828.0</td>\n",
              "      <td>3</td>\n",
              "      <td>6</td>\n",
              "      <td>154.80</td>\n",
              "      <td>0.006472</td>\n",
              "      <td>0.5</td>\n",
              "      <td>0.680190</td>\n",
              "      <td>1</td>\n",
              "    </tr>\n",
              "    <tr>\n",
              "      <th>8</th>\n",
              "      <td>12831.0</td>\n",
              "      <td>263</td>\n",
              "      <td>1</td>\n",
              "      <td>34.20</td>\n",
              "      <td>0.847896</td>\n",
              "      <td>0.0</td>\n",
              "      <td>0.148936</td>\n",
              "      <td>2</td>\n",
              "    </tr>\n",
              "    <tr>\n",
              "      <th>9</th>\n",
              "      <td>12832.0</td>\n",
              "      <td>33</td>\n",
              "      <td>2</td>\n",
              "      <td>19.90</td>\n",
              "      <td>0.103560</td>\n",
              "      <td>0.1</td>\n",
              "      <td>0.085943</td>\n",
              "      <td>3</td>\n",
              "    </tr>\n",
              "  </tbody>\n",
              "</table>\n",
              "</div>"
            ],
            "text/plain": [
              "   CustomerID  Recency  Frequency  Monetary         R    F         M  Cluster\n",
              "0     12749.0        4          5     98.35  0.009709  0.4  0.431523        3\n",
              "1     12820.0        4          4     58.20  0.009709  0.3  0.254658        3\n",
              "2     12821.0      215          1     19.92  0.692557  0.0  0.086031        2\n",
              "3     12822.0       71          2     30.80  0.226537  0.1  0.133959        3\n",
              "4     12824.0       60          1      5.04  0.190939  0.0  0.020484        3\n",
              "5     12826.0        3          7    122.80  0.006472  0.6  0.539227        1\n",
              "6     12827.0        6          3     84.21  0.016181  0.2  0.369235        3\n",
              "7     12828.0        3          6    154.80  0.006472  0.5  0.680190        1\n",
              "8     12831.0      263          1     34.20  0.847896  0.0  0.148936        2\n",
              "9     12832.0       33          2     19.90  0.103560  0.1  0.085943        3"
            ]
          },
          "metadata": {
            "tags": []
          },
          "execution_count": 81
        }
      ]
    },
    {
      "cell_type": "code",
      "metadata": {
        "colab": {
          "base_uri": "https://localhost:8080/"
        },
        "id": "lCEUaBlSnb8d",
        "outputId": "d6151a36-ac4e-4fc9-be9f-384a0be9f953"
      },
      "source": [
        "# Grouping the customers by cluster\n",
        "\n",
        "RFM_ward.groupby('Cluster').CustomerID.count()"
      ],
      "execution_count": 82,
      "outputs": [
        {
          "output_type": "execute_result",
          "data": {
            "text/plain": [
              "Cluster\n",
              "1     567\n",
              "2     845\n",
              "3    1734\n",
              "Name: CustomerID, dtype: int64"
            ]
          },
          "metadata": {
            "tags": []
          },
          "execution_count": 82
        }
      ]
    },
    {
      "cell_type": "code",
      "metadata": {
        "colab": {
          "base_uri": "https://localhost:8080/",
          "height": 171
        },
        "id": "k7_EJfsLnfxZ",
        "outputId": "240ebe40-9399-456c-8d6e-b5d0f31b05c6"
      },
      "source": [
        "# Exploring the mean of the scaled recency by cluster\n",
        "\n",
        "Cluster_R = pd.DataFrame(RFM_ward.groupby('Cluster').R.mean())\n",
        "\n",
        "Cluster_R"
      ],
      "execution_count": 83,
      "outputs": [
        {
          "output_type": "execute_result",
          "data": {
            "text/html": [
              "<div>\n",
              "<style scoped>\n",
              "    .dataframe tbody tr th:only-of-type {\n",
              "        vertical-align: middle;\n",
              "    }\n",
              "\n",
              "    .dataframe tbody tr th {\n",
              "        vertical-align: top;\n",
              "    }\n",
              "\n",
              "    .dataframe thead th {\n",
              "        text-align: right;\n",
              "    }\n",
              "</style>\n",
              "<table border=\"1\" class=\"dataframe\">\n",
              "  <thead>\n",
              "    <tr style=\"text-align: right;\">\n",
              "      <th></th>\n",
              "      <th>R</th>\n",
              "    </tr>\n",
              "    <tr>\n",
              "      <th>Cluster</th>\n",
              "      <th></th>\n",
              "    </tr>\n",
              "  </thead>\n",
              "  <tbody>\n",
              "    <tr>\n",
              "      <th>1</th>\n",
              "      <td>0.162863</td>\n",
              "    </tr>\n",
              "    <tr>\n",
              "      <th>2</th>\n",
              "      <td>0.654499</td>\n",
              "    </tr>\n",
              "    <tr>\n",
              "      <th>3</th>\n",
              "      <td>0.128235</td>\n",
              "    </tr>\n",
              "  </tbody>\n",
              "</table>\n",
              "</div>"
            ],
            "text/plain": [
              "                R\n",
              "Cluster          \n",
              "1        0.162863\n",
              "2        0.654499\n",
              "3        0.128235"
            ]
          },
          "metadata": {
            "tags": []
          },
          "execution_count": 83
        }
      ]
    },
    {
      "cell_type": "code",
      "metadata": {
        "colab": {
          "base_uri": "https://localhost:8080/",
          "height": 171
        },
        "id": "jvTjntpxniA1",
        "outputId": "ac80eb0a-9d46-4577-e89c-f0c01e00d2fa"
      },
      "source": [
        "# Exploring the mean of the scaled frequency by cluster\n",
        "\n",
        "Cluster_F = pd.DataFrame(RFM_ward.groupby('Cluster').F.mean())\n",
        "\n",
        "Cluster_F"
      ],
      "execution_count": 84,
      "outputs": [
        {
          "output_type": "execute_result",
          "data": {
            "text/html": [
              "<div>\n",
              "<style scoped>\n",
              "    .dataframe tbody tr th:only-of-type {\n",
              "        vertical-align: middle;\n",
              "    }\n",
              "\n",
              "    .dataframe tbody tr th {\n",
              "        vertical-align: top;\n",
              "    }\n",
              "\n",
              "    .dataframe thead th {\n",
              "        text-align: right;\n",
              "    }\n",
              "</style>\n",
              "<table border=\"1\" class=\"dataframe\">\n",
              "  <thead>\n",
              "    <tr style=\"text-align: right;\">\n",
              "      <th></th>\n",
              "      <th>F</th>\n",
              "    </tr>\n",
              "    <tr>\n",
              "      <th>Cluster</th>\n",
              "      <th></th>\n",
              "    </tr>\n",
              "  </thead>\n",
              "  <tbody>\n",
              "    <tr>\n",
              "      <th>1</th>\n",
              "      <td>0.470723</td>\n",
              "    </tr>\n",
              "    <tr>\n",
              "      <th>2</th>\n",
              "      <td>0.059053</td>\n",
              "    </tr>\n",
              "    <tr>\n",
              "      <th>3</th>\n",
              "      <td>0.132295</td>\n",
              "    </tr>\n",
              "  </tbody>\n",
              "</table>\n",
              "</div>"
            ],
            "text/plain": [
              "                F\n",
              "Cluster          \n",
              "1        0.470723\n",
              "2        0.059053\n",
              "3        0.132295"
            ]
          },
          "metadata": {
            "tags": []
          },
          "execution_count": 84
        }
      ]
    },
    {
      "cell_type": "code",
      "metadata": {
        "colab": {
          "base_uri": "https://localhost:8080/",
          "height": 171
        },
        "id": "4qCcu9thn5xy",
        "outputId": "bebb8cd6-9f74-436d-b939-5612725adb23"
      },
      "source": [
        "# Exploring the mean of the scaled monetary value by cluster\n",
        "\n",
        "Cluster_M = pd.DataFrame(RFM_ward.groupby('Cluster').M.mean())\n",
        "\n",
        "Cluster_M"
      ],
      "execution_count": 85,
      "outputs": [
        {
          "output_type": "execute_result",
          "data": {
            "text/html": [
              "<div>\n",
              "<style scoped>\n",
              "    .dataframe tbody tr th:only-of-type {\n",
              "        vertical-align: middle;\n",
              "    }\n",
              "\n",
              "    .dataframe tbody tr th {\n",
              "        vertical-align: top;\n",
              "    }\n",
              "\n",
              "    .dataframe thead th {\n",
              "        text-align: right;\n",
              "    }\n",
              "</style>\n",
              "<table border=\"1\" class=\"dataframe\">\n",
              "  <thead>\n",
              "    <tr style=\"text-align: right;\">\n",
              "      <th></th>\n",
              "      <th>M</th>\n",
              "    </tr>\n",
              "    <tr>\n",
              "      <th>Cluster</th>\n",
              "      <th></th>\n",
              "    </tr>\n",
              "  </thead>\n",
              "  <tbody>\n",
              "    <tr>\n",
              "      <th>1</th>\n",
              "      <td>0.612858</td>\n",
              "    </tr>\n",
              "    <tr>\n",
              "      <th>2</th>\n",
              "      <td>0.125889</td>\n",
              "    </tr>\n",
              "    <tr>\n",
              "      <th>3</th>\n",
              "      <td>0.167563</td>\n",
              "    </tr>\n",
              "  </tbody>\n",
              "</table>\n",
              "</div>"
            ],
            "text/plain": [
              "                M\n",
              "Cluster          \n",
              "1        0.612858\n",
              "2        0.125889\n",
              "3        0.167563"
            ]
          },
          "metadata": {
            "tags": []
          },
          "execution_count": 85
        }
      ]
    },
    {
      "cell_type": "code",
      "metadata": {
        "colab": {
          "base_uri": "https://localhost:8080/"
        },
        "id": "N19LXxmSn8bt",
        "outputId": "ceee0719-183c-441a-a525-8fa0780feedf"
      },
      "source": [
        "# Initial sees for K-Means\n",
        "\n",
        "clusters_ward = pd.concat([Cluster_R, Cluster_F, Cluster_M], axis = 1)\n",
        "\n",
        "initial_seeds = clusters_ward.to_numpy()\n",
        "\n",
        "print (initial_seeds.dtype)\n",
        "print (initial_seeds)"
      ],
      "execution_count": 86,
      "outputs": [
        {
          "output_type": "stream",
          "text": [
            "float64\n",
            "[[0.16286251 0.4707231  0.61285843]\n",
            " [0.65449915 0.05905325 0.1258893 ]\n",
            " [0.12823485 0.13229527 0.16756262]]\n"
          ],
          "name": "stdout"
        }
      ]
    },
    {
      "cell_type": "code",
      "metadata": {
        "colab": {
          "base_uri": "https://localhost:8080/"
        },
        "id": "DsM5E4mcn9lo",
        "outputId": "b4eff883-89d0-459c-ad87-210ee1570763"
      },
      "source": [
        "inertias_in_each_iteration = []\n",
        "centroids = []\n",
        "number_of_iterations = []\n",
        "\n",
        "for i in range(20):\n",
        "  model = KMeans(n_clusters = 3, init = initial_seeds, max_iter = 500, tol = 1e-10)\n",
        "  model.fit(df_1)\n",
        "  inertias_in_each_iteration.append(model.inertia_)\n",
        "  centroids.append(model.cluster_centers_)\n",
        "  number_of_iterations.append(model.n_iter_)\n",
        "\n",
        "print (inertias_in_each_iteration)\n",
        "print (centroids[-1])\n",
        "print (number_of_iterations)\n",
        "labels = model.labels_\n",
        "labels = pd.Series(labels)\n",
        "print (silhouette_score(df_1, labels))"
      ],
      "execution_count": 87,
      "outputs": [
        {
          "output_type": "stream",
          "text": [
            "[178.3566872656962, 178.3566872656962, 178.3566872656962, 178.3566872656962, 178.3566872656962, 178.3566872656962, 178.3566872656962, 178.3566872656962, 178.3566872656962, 178.3566872656962, 178.3566872656962, 178.3566872656962, 178.3566872656962, 178.3566872656962, 178.3566872656962, 178.3566872656962, 178.3566872656962, 178.3566872656962, 178.3566872656962, 178.3566872656962]\n",
            "[[0.11299261 0.4605227  0.55445273]\n",
            " [0.69928517 0.04747082 0.1402042 ]\n",
            " [0.1495507  0.10606796 0.14152682]]\n",
            "[8, 8, 8, 8, 8, 8, 8, 8, 8, 8, 8, 8, 8, 8, 8, 8, 8, 8, 8, 8]\n",
            "0.46529491929856126\n"
          ],
          "name": "stdout"
        }
      ]
    },
    {
      "cell_type": "code",
      "metadata": {
        "colab": {
          "base_uri": "https://localhost:8080/"
        },
        "id": "tMajDSpsoAHF",
        "outputId": "f973caa1-8c49-4f70-d5bd-f988811601b6"
      },
      "source": [
        "inertias_in_each_iteration = []\n",
        "centroids = []\n",
        "number_of_iterations = []\n",
        "\n",
        "for i in range(300):\n",
        "  model = KMeans(n_clusters=3, init='random', n_init=10, max_iter=500, tol=1e-10)\n",
        "  model.fit(df_1)\n",
        "  inertias_in_each_iteration.append(model.inertia_)\n",
        "  centroids.append(model.cluster_centers_)\n",
        "  number_of_iterations.append(model.n_iter_)\n",
        "\n",
        "print (np.mean(inertias_in_each_iteration))\n",
        "print (centroids[-1])\n",
        "print (np.mean(number_of_iterations))\n",
        "labels = pd.Series(labels)\n",
        "print (silhouette_score(df_1, labels))"
      ],
      "execution_count": 88,
      "outputs": [
        {
          "output_type": "stream",
          "text": [
            "178.3558146493397\n",
            "[[0.11333935 0.45956284 0.55284215]\n",
            " [0.69928517 0.04747082 0.1402042 ]\n",
            " [0.14950747 0.10541692 0.14098775]]\n",
            "10.52\n",
            "0.46529491929856126\n"
          ],
          "name": "stdout"
        }
      ]
    },
    {
      "cell_type": "code",
      "metadata": {
        "colab": {
          "base_uri": "https://localhost:8080/",
          "height": 202
        },
        "id": "M24j26XOoESt",
        "outputId": "634e4918-2d6a-4b5f-b0a5-d2a1f5798ef7"
      },
      "source": [
        "# Dataframe showing the customer RFM values and the cluster they belong to\n",
        "\n",
        "RFM_1 = pd.concat([df, pd.Series(labels)], axis = 1)\n",
        "RFM_1.columns = ['CustomerID', 'Recency', 'Frequency', 'Monetary', 'R', 'F', 'M', 'Cluster']\n",
        "RFM_1['Cluster'] = RFM_1['Cluster'] + 1\n",
        "RFM_1.head()"
      ],
      "execution_count": 89,
      "outputs": [
        {
          "output_type": "execute_result",
          "data": {
            "text/html": [
              "<div>\n",
              "<style scoped>\n",
              "    .dataframe tbody tr th:only-of-type {\n",
              "        vertical-align: middle;\n",
              "    }\n",
              "\n",
              "    .dataframe tbody tr th {\n",
              "        vertical-align: top;\n",
              "    }\n",
              "\n",
              "    .dataframe thead th {\n",
              "        text-align: right;\n",
              "    }\n",
              "</style>\n",
              "<table border=\"1\" class=\"dataframe\">\n",
              "  <thead>\n",
              "    <tr style=\"text-align: right;\">\n",
              "      <th></th>\n",
              "      <th>CustomerID</th>\n",
              "      <th>Recency</th>\n",
              "      <th>Frequency</th>\n",
              "      <th>Monetary</th>\n",
              "      <th>R</th>\n",
              "      <th>F</th>\n",
              "      <th>M</th>\n",
              "      <th>Cluster</th>\n",
              "    </tr>\n",
              "  </thead>\n",
              "  <tbody>\n",
              "    <tr>\n",
              "      <th>0</th>\n",
              "      <td>12749.0</td>\n",
              "      <td>4</td>\n",
              "      <td>5</td>\n",
              "      <td>98.35</td>\n",
              "      <td>0.009709</td>\n",
              "      <td>0.4</td>\n",
              "      <td>0.431523</td>\n",
              "      <td>1</td>\n",
              "    </tr>\n",
              "    <tr>\n",
              "      <th>1</th>\n",
              "      <td>12820.0</td>\n",
              "      <td>4</td>\n",
              "      <td>4</td>\n",
              "      <td>58.20</td>\n",
              "      <td>0.009709</td>\n",
              "      <td>0.3</td>\n",
              "      <td>0.254658</td>\n",
              "      <td>3</td>\n",
              "    </tr>\n",
              "    <tr>\n",
              "      <th>2</th>\n",
              "      <td>12821.0</td>\n",
              "      <td>215</td>\n",
              "      <td>1</td>\n",
              "      <td>19.92</td>\n",
              "      <td>0.692557</td>\n",
              "      <td>0.0</td>\n",
              "      <td>0.086031</td>\n",
              "      <td>2</td>\n",
              "    </tr>\n",
              "    <tr>\n",
              "      <th>3</th>\n",
              "      <td>12822.0</td>\n",
              "      <td>71</td>\n",
              "      <td>2</td>\n",
              "      <td>30.80</td>\n",
              "      <td>0.226537</td>\n",
              "      <td>0.1</td>\n",
              "      <td>0.133959</td>\n",
              "      <td>3</td>\n",
              "    </tr>\n",
              "    <tr>\n",
              "      <th>4</th>\n",
              "      <td>12824.0</td>\n",
              "      <td>60</td>\n",
              "      <td>1</td>\n",
              "      <td>5.04</td>\n",
              "      <td>0.190939</td>\n",
              "      <td>0.0</td>\n",
              "      <td>0.020484</td>\n",
              "      <td>3</td>\n",
              "    </tr>\n",
              "  </tbody>\n",
              "</table>\n",
              "</div>"
            ],
            "text/plain": [
              "   CustomerID  Recency  Frequency  Monetary         R    F         M  Cluster\n",
              "0     12749.0        4          5     98.35  0.009709  0.4  0.431523        1\n",
              "1     12820.0        4          4     58.20  0.009709  0.3  0.254658        3\n",
              "2     12821.0      215          1     19.92  0.692557  0.0  0.086031        2\n",
              "3     12822.0       71          2     30.80  0.226537  0.1  0.133959        3\n",
              "4     12824.0       60          1      5.04  0.190939  0.0  0.020484        3"
            ]
          },
          "metadata": {
            "tags": []
          },
          "execution_count": 89
        }
      ]
    },
    {
      "cell_type": "code",
      "metadata": {
        "colab": {
          "base_uri": "https://localhost:8080/",
          "height": 294
        },
        "id": "yJQYtpkQoGpl",
        "outputId": "c01b3bfc-9b62-475c-a240-1a11b3db6c64"
      },
      "source": [
        "# Descriptives of the clustered df\n",
        "\n",
        "RFM_1.describe()"
      ],
      "execution_count": 91,
      "outputs": [
        {
          "output_type": "execute_result",
          "data": {
            "text/html": [
              "<div>\n",
              "<style scoped>\n",
              "    .dataframe tbody tr th:only-of-type {\n",
              "        vertical-align: middle;\n",
              "    }\n",
              "\n",
              "    .dataframe tbody tr th {\n",
              "        vertical-align: top;\n",
              "    }\n",
              "\n",
              "    .dataframe thead th {\n",
              "        text-align: right;\n",
              "    }\n",
              "</style>\n",
              "<table border=\"1\" class=\"dataframe\">\n",
              "  <thead>\n",
              "    <tr style=\"text-align: right;\">\n",
              "      <th></th>\n",
              "      <th>CustomerID</th>\n",
              "      <th>Recency</th>\n",
              "      <th>Frequency</th>\n",
              "      <th>Monetary</th>\n",
              "      <th>R</th>\n",
              "      <th>F</th>\n",
              "      <th>M</th>\n",
              "      <th>Cluster</th>\n",
              "    </tr>\n",
              "  </thead>\n",
              "  <tbody>\n",
              "    <tr>\n",
              "      <th>count</th>\n",
              "      <td>3146.000000</td>\n",
              "      <td>3146.000000</td>\n",
              "      <td>3146.000000</td>\n",
              "      <td>3146.000000</td>\n",
              "      <td>3146.000000</td>\n",
              "      <td>3146.000000</td>\n",
              "      <td>3146.000000</td>\n",
              "      <td>3146.000000</td>\n",
              "    </tr>\n",
              "    <tr>\n",
              "      <th>mean</th>\n",
              "      <td>15559.520025</td>\n",
              "      <td>86.230769</td>\n",
              "      <td>2.736173</td>\n",
              "      <td>54.106135</td>\n",
              "      <td>0.275828</td>\n",
              "      <td>0.173617</td>\n",
              "      <td>0.236625</td>\n",
              "      <td>2.292753</td>\n",
              "    </tr>\n",
              "    <tr>\n",
              "      <th>std</th>\n",
              "      <td>1559.466439</td>\n",
              "      <td>84.187489</td>\n",
              "      <td>2.117309</td>\n",
              "      <td>51.658956</td>\n",
              "      <td>0.272451</td>\n",
              "      <td>0.211731</td>\n",
              "      <td>0.227562</td>\n",
              "      <td>0.818190</td>\n",
              "    </tr>\n",
              "    <tr>\n",
              "      <th>min</th>\n",
              "      <td>12749.000000</td>\n",
              "      <td>1.000000</td>\n",
              "      <td>1.000000</td>\n",
              "      <td>0.390000</td>\n",
              "      <td>0.000000</td>\n",
              "      <td>0.000000</td>\n",
              "      <td>0.000000</td>\n",
              "      <td>1.000000</td>\n",
              "    </tr>\n",
              "    <tr>\n",
              "      <th>25%</th>\n",
              "      <td>14227.500000</td>\n",
              "      <td>22.000000</td>\n",
              "      <td>1.000000</td>\n",
              "      <td>15.900000</td>\n",
              "      <td>0.067961</td>\n",
              "      <td>0.000000</td>\n",
              "      <td>0.068323</td>\n",
              "      <td>2.000000</td>\n",
              "    </tr>\n",
              "    <tr>\n",
              "      <th>50%</th>\n",
              "      <td>15571.500000</td>\n",
              "      <td>53.000000</td>\n",
              "      <td>2.000000</td>\n",
              "      <td>35.625000</td>\n",
              "      <td>0.168285</td>\n",
              "      <td>0.100000</td>\n",
              "      <td>0.155213</td>\n",
              "      <td>3.000000</td>\n",
              "    </tr>\n",
              "    <tr>\n",
              "      <th>75%</th>\n",
              "      <td>16896.500000</td>\n",
              "      <td>134.000000</td>\n",
              "      <td>4.000000</td>\n",
              "      <td>76.500000</td>\n",
              "      <td>0.430421</td>\n",
              "      <td>0.300000</td>\n",
              "      <td>0.335272</td>\n",
              "      <td>3.000000</td>\n",
              "    </tr>\n",
              "    <tr>\n",
              "      <th>max</th>\n",
              "      <td>18287.000000</td>\n",
              "      <td>310.000000</td>\n",
              "      <td>11.000000</td>\n",
              "      <td>227.400000</td>\n",
              "      <td>1.000000</td>\n",
              "      <td>1.000000</td>\n",
              "      <td>1.000000</td>\n",
              "      <td>3.000000</td>\n",
              "    </tr>\n",
              "  </tbody>\n",
              "</table>\n",
              "</div>"
            ],
            "text/plain": [
              "         CustomerID      Recency  ...            M      Cluster\n",
              "count   3146.000000  3146.000000  ...  3146.000000  3146.000000\n",
              "mean   15559.520025    86.230769  ...     0.236625     2.292753\n",
              "std     1559.466439    84.187489  ...     0.227562     0.818190\n",
              "min    12749.000000     1.000000  ...     0.000000     1.000000\n",
              "25%    14227.500000    22.000000  ...     0.068323     2.000000\n",
              "50%    15571.500000    53.000000  ...     0.155213     3.000000\n",
              "75%    16896.500000   134.000000  ...     0.335272     3.000000\n",
              "max    18287.000000   310.000000  ...     1.000000     3.000000\n",
              "\n",
              "[8 rows x 8 columns]"
            ]
          },
          "metadata": {
            "tags": []
          },
          "execution_count": 91
        }
      ]
    },
    {
      "cell_type": "code",
      "metadata": {
        "colab": {
          "base_uri": "https://localhost:8080/"
        },
        "id": "2BCxqvRUoJVJ",
        "outputId": "e57c836c-c697-482b-eedf-462e0a56df8d"
      },
      "source": [
        "RFM_1.info()"
      ],
      "execution_count": 92,
      "outputs": [
        {
          "output_type": "stream",
          "text": [
            "<class 'pandas.core.frame.DataFrame'>\n",
            "RangeIndex: 3146 entries, 0 to 3145\n",
            "Data columns (total 8 columns):\n",
            " #   Column      Non-Null Count  Dtype  \n",
            "---  ------      --------------  -----  \n",
            " 0   CustomerID  3146 non-null   float64\n",
            " 1   Recency     3146 non-null   int64  \n",
            " 2   Frequency   3146 non-null   int64  \n",
            " 3   Monetary    3146 non-null   float64\n",
            " 4   R           3146 non-null   float64\n",
            " 5   F           3146 non-null   float64\n",
            " 6   M           3146 non-null   float64\n",
            " 7   Cluster     3146 non-null   int32  \n",
            "dtypes: float64(5), int32(1), int64(2)\n",
            "memory usage: 184.5 KB\n"
          ],
          "name": "stdout"
        }
      ]
    },
    {
      "cell_type": "code",
      "metadata": {
        "colab": {
          "base_uri": "https://localhost:8080/"
        },
        "id": "pZbLwLV3oMAz",
        "outputId": "d0c3216d-9da0-4f64-e644-1b7c4720b99e"
      },
      "source": [
        "# Grouping the customers by cluster\n",
        "\n",
        "RFM_1.groupby('Cluster').CustomerID.count()"
      ],
      "execution_count": 93,
      "outputs": [
        {
          "output_type": "execute_result",
          "data": {
            "text/plain": [
              "Cluster\n",
              "1     727\n",
              "2     771\n",
              "3    1648\n",
              "Name: CustomerID, dtype: int64"
            ]
          },
          "metadata": {
            "tags": []
          },
          "execution_count": 93
        }
      ]
    },
    {
      "cell_type": "code",
      "metadata": {
        "colab": {
          "base_uri": "https://localhost:8080/",
          "height": 171
        },
        "id": "syyXu2D0oOiy",
        "outputId": "a3a483af-0a89-467f-c662-ec6e7eb8e518"
      },
      "source": [
        "# Exploring the mean of the recency variable for each cluster\n",
        "\n",
        "Clusters_Recency = pd.DataFrame(RFM_1.groupby('Cluster').Recency.mean())\n",
        "\n",
        "Clusters_Recency"
      ],
      "execution_count": 94,
      "outputs": [
        {
          "output_type": "execute_result",
          "data": {
            "text/html": [
              "<div>\n",
              "<style scoped>\n",
              "    .dataframe tbody tr th:only-of-type {\n",
              "        vertical-align: middle;\n",
              "    }\n",
              "\n",
              "    .dataframe tbody tr th {\n",
              "        vertical-align: top;\n",
              "    }\n",
              "\n",
              "    .dataframe thead th {\n",
              "        text-align: right;\n",
              "    }\n",
              "</style>\n",
              "<table border=\"1\" class=\"dataframe\">\n",
              "  <thead>\n",
              "    <tr style=\"text-align: right;\">\n",
              "      <th></th>\n",
              "      <th>Recency</th>\n",
              "    </tr>\n",
              "    <tr>\n",
              "      <th>Cluster</th>\n",
              "      <th></th>\n",
              "    </tr>\n",
              "  </thead>\n",
              "  <tbody>\n",
              "    <tr>\n",
              "      <th>1</th>\n",
              "      <td>35.914718</td>\n",
              "    </tr>\n",
              "    <tr>\n",
              "      <th>2</th>\n",
              "      <td>217.079118</td>\n",
              "    </tr>\n",
              "    <tr>\n",
              "      <th>3</th>\n",
              "      <td>47.211165</td>\n",
              "    </tr>\n",
              "  </tbody>\n",
              "</table>\n",
              "</div>"
            ],
            "text/plain": [
              "            Recency\n",
              "Cluster            \n",
              "1         35.914718\n",
              "2        217.079118\n",
              "3         47.211165"
            ]
          },
          "metadata": {
            "tags": []
          },
          "execution_count": 94
        }
      ]
    },
    {
      "cell_type": "code",
      "metadata": {
        "colab": {
          "base_uri": "https://localhost:8080/",
          "height": 171
        },
        "id": "n9nFGD_QoRGY",
        "outputId": "bf8c667a-0e9e-486d-8c62-cbce55fcbba1"
      },
      "source": [
        "# Exploring the mean of the frequency variable for each cluster\n",
        "\n",
        "Clusters_Frequency = pd.DataFrame(RFM_1.groupby('Cluster').Frequency.mean())\n",
        "\n",
        "Clusters_Frequency"
      ],
      "execution_count": 95,
      "outputs": [
        {
          "output_type": "execute_result",
          "data": {
            "text/html": [
              "<div>\n",
              "<style scoped>\n",
              "    .dataframe tbody tr th:only-of-type {\n",
              "        vertical-align: middle;\n",
              "    }\n",
              "\n",
              "    .dataframe tbody tr th {\n",
              "        vertical-align: top;\n",
              "    }\n",
              "\n",
              "    .dataframe thead th {\n",
              "        text-align: right;\n",
              "    }\n",
              "</style>\n",
              "<table border=\"1\" class=\"dataframe\">\n",
              "  <thead>\n",
              "    <tr style=\"text-align: right;\">\n",
              "      <th></th>\n",
              "      <th>Frequency</th>\n",
              "    </tr>\n",
              "    <tr>\n",
              "      <th>Cluster</th>\n",
              "      <th></th>\n",
              "    </tr>\n",
              "  </thead>\n",
              "  <tbody>\n",
              "    <tr>\n",
              "      <th>1</th>\n",
              "      <td>5.605227</td>\n",
              "    </tr>\n",
              "    <tr>\n",
              "      <th>2</th>\n",
              "      <td>1.474708</td>\n",
              "    </tr>\n",
              "    <tr>\n",
              "      <th>3</th>\n",
              "      <td>2.060680</td>\n",
              "    </tr>\n",
              "  </tbody>\n",
              "</table>\n",
              "</div>"
            ],
            "text/plain": [
              "         Frequency\n",
              "Cluster           \n",
              "1         5.605227\n",
              "2         1.474708\n",
              "3         2.060680"
            ]
          },
          "metadata": {
            "tags": []
          },
          "execution_count": 95
        }
      ]
    },
    {
      "cell_type": "code",
      "metadata": {
        "colab": {
          "base_uri": "https://localhost:8080/",
          "height": 171
        },
        "id": "PkMYrGDRoTwT",
        "outputId": "256265ba-b4d4-46bf-b538-ca95495acb43"
      },
      "source": [
        "# Exploring the mean of the monetary variable for each cluster\n",
        "\n",
        "Clusters_Monetary = pd.DataFrame(RFM_1.groupby('Cluster').Monetary.mean())\n",
        "\n",
        "Clusters_Monetary"
      ],
      "execution_count": 96,
      "outputs": [
        {
          "output_type": "execute_result",
          "data": {
            "text/html": [
              "<div>\n",
              "<style scoped>\n",
              "    .dataframe tbody tr th:only-of-type {\n",
              "        vertical-align: middle;\n",
              "    }\n",
              "\n",
              "    .dataframe tbody tr th {\n",
              "        vertical-align: top;\n",
              "    }\n",
              "\n",
              "    .dataframe thead th {\n",
              "        text-align: right;\n",
              "    }\n",
              "</style>\n",
              "<table border=\"1\" class=\"dataframe\">\n",
              "  <thead>\n",
              "    <tr style=\"text-align: right;\">\n",
              "      <th></th>\n",
              "      <th>Monetary</th>\n",
              "    </tr>\n",
              "    <tr>\n",
              "      <th>Cluster</th>\n",
              "      <th></th>\n",
              "    </tr>\n",
              "  </thead>\n",
              "  <tbody>\n",
              "    <tr>\n",
              "      <th>1</th>\n",
              "      <td>126.256314</td>\n",
              "    </tr>\n",
              "    <tr>\n",
              "      <th>2</th>\n",
              "      <td>32.217756</td>\n",
              "    </tr>\n",
              "    <tr>\n",
              "      <th>3</th>\n",
              "      <td>32.518004</td>\n",
              "    </tr>\n",
              "  </tbody>\n",
              "</table>\n",
              "</div>"
            ],
            "text/plain": [
              "           Monetary\n",
              "Cluster            \n",
              "1        126.256314\n",
              "2         32.217756\n",
              "3         32.518004"
            ]
          },
          "metadata": {
            "tags": []
          },
          "execution_count": 96
        }
      ]
    },
    {
      "cell_type": "code",
      "metadata": {
        "colab": {
          "base_uri": "https://localhost:8080/",
          "height": 171
        },
        "id": "OQG_7HHcoWYV",
        "outputId": "25064391-3b3d-490d-9f94-1bce20c52a11"
      },
      "source": [
        "Clusters_R = pd.DataFrame(RFM_1.groupby('Cluster').R.mean())\n",
        "\n",
        "Clusters_R"
      ],
      "execution_count": 97,
      "outputs": [
        {
          "output_type": "execute_result",
          "data": {
            "text/html": [
              "<div>\n",
              "<style scoped>\n",
              "    .dataframe tbody tr th:only-of-type {\n",
              "        vertical-align: middle;\n",
              "    }\n",
              "\n",
              "    .dataframe tbody tr th {\n",
              "        vertical-align: top;\n",
              "    }\n",
              "\n",
              "    .dataframe thead th {\n",
              "        text-align: right;\n",
              "    }\n",
              "</style>\n",
              "<table border=\"1\" class=\"dataframe\">\n",
              "  <thead>\n",
              "    <tr style=\"text-align: right;\">\n",
              "      <th></th>\n",
              "      <th>R</th>\n",
              "    </tr>\n",
              "    <tr>\n",
              "      <th>Cluster</th>\n",
              "      <th></th>\n",
              "    </tr>\n",
              "  </thead>\n",
              "  <tbody>\n",
              "    <tr>\n",
              "      <th>1</th>\n",
              "      <td>0.112993</td>\n",
              "    </tr>\n",
              "    <tr>\n",
              "      <th>2</th>\n",
              "      <td>0.699285</td>\n",
              "    </tr>\n",
              "    <tr>\n",
              "      <th>3</th>\n",
              "      <td>0.149551</td>\n",
              "    </tr>\n",
              "  </tbody>\n",
              "</table>\n",
              "</div>"
            ],
            "text/plain": [
              "                R\n",
              "Cluster          \n",
              "1        0.112993\n",
              "2        0.699285\n",
              "3        0.149551"
            ]
          },
          "metadata": {
            "tags": []
          },
          "execution_count": 97
        }
      ]
    },
    {
      "cell_type": "code",
      "metadata": {
        "colab": {
          "base_uri": "https://localhost:8080/",
          "height": 171
        },
        "id": "bWndB8bJoY-F",
        "outputId": "35eb48e8-cc0d-4b28-8749-453603cdb9d0"
      },
      "source": [
        "Clusters_F = pd.DataFrame(RFM_1.groupby('Cluster').F.mean())\n",
        "\n",
        "Clusters_F"
      ],
      "execution_count": 98,
      "outputs": [
        {
          "output_type": "execute_result",
          "data": {
            "text/html": [
              "<div>\n",
              "<style scoped>\n",
              "    .dataframe tbody tr th:only-of-type {\n",
              "        vertical-align: middle;\n",
              "    }\n",
              "\n",
              "    .dataframe tbody tr th {\n",
              "        vertical-align: top;\n",
              "    }\n",
              "\n",
              "    .dataframe thead th {\n",
              "        text-align: right;\n",
              "    }\n",
              "</style>\n",
              "<table border=\"1\" class=\"dataframe\">\n",
              "  <thead>\n",
              "    <tr style=\"text-align: right;\">\n",
              "      <th></th>\n",
              "      <th>F</th>\n",
              "    </tr>\n",
              "    <tr>\n",
              "      <th>Cluster</th>\n",
              "      <th></th>\n",
              "    </tr>\n",
              "  </thead>\n",
              "  <tbody>\n",
              "    <tr>\n",
              "      <th>1</th>\n",
              "      <td>0.460523</td>\n",
              "    </tr>\n",
              "    <tr>\n",
              "      <th>2</th>\n",
              "      <td>0.047471</td>\n",
              "    </tr>\n",
              "    <tr>\n",
              "      <th>3</th>\n",
              "      <td>0.106068</td>\n",
              "    </tr>\n",
              "  </tbody>\n",
              "</table>\n",
              "</div>"
            ],
            "text/plain": [
              "                F\n",
              "Cluster          \n",
              "1        0.460523\n",
              "2        0.047471\n",
              "3        0.106068"
            ]
          },
          "metadata": {
            "tags": []
          },
          "execution_count": 98
        }
      ]
    },
    {
      "cell_type": "code",
      "metadata": {
        "colab": {
          "base_uri": "https://localhost:8080/",
          "height": 171
        },
        "id": "nQOO4fwyobwU",
        "outputId": "56b9ddc0-af47-4688-bd36-5409a01e3ccb"
      },
      "source": [
        "Clusters_M = pd.DataFrame(RFM_1.groupby('Cluster').M.mean())\n",
        "\n",
        "Clusters_M"
      ],
      "execution_count": 99,
      "outputs": [
        {
          "output_type": "execute_result",
          "data": {
            "text/html": [
              "<div>\n",
              "<style scoped>\n",
              "    .dataframe tbody tr th:only-of-type {\n",
              "        vertical-align: middle;\n",
              "    }\n",
              "\n",
              "    .dataframe tbody tr th {\n",
              "        vertical-align: top;\n",
              "    }\n",
              "\n",
              "    .dataframe thead th {\n",
              "        text-align: right;\n",
              "    }\n",
              "</style>\n",
              "<table border=\"1\" class=\"dataframe\">\n",
              "  <thead>\n",
              "    <tr style=\"text-align: right;\">\n",
              "      <th></th>\n",
              "      <th>M</th>\n",
              "    </tr>\n",
              "    <tr>\n",
              "      <th>Cluster</th>\n",
              "      <th></th>\n",
              "    </tr>\n",
              "  </thead>\n",
              "  <tbody>\n",
              "    <tr>\n",
              "      <th>1</th>\n",
              "      <td>0.554453</td>\n",
              "    </tr>\n",
              "    <tr>\n",
              "      <th>2</th>\n",
              "      <td>0.140204</td>\n",
              "    </tr>\n",
              "    <tr>\n",
              "      <th>3</th>\n",
              "      <td>0.141527</td>\n",
              "    </tr>\n",
              "  </tbody>\n",
              "</table>\n",
              "</div>"
            ],
            "text/plain": [
              "                M\n",
              "Cluster          \n",
              "1        0.554453\n",
              "2        0.140204\n",
              "3        0.141527"
            ]
          },
          "metadata": {
            "tags": []
          },
          "execution_count": 99
        }
      ]
    },
    {
      "cell_type": "code",
      "metadata": {
        "colab": {
          "base_uri": "https://localhost:8080/",
          "height": 171
        },
        "id": "GzcKbvv-od-2",
        "outputId": "fea9ff73-d44a-49a2-de39-7998de50d914"
      },
      "source": [
        "# CLuster centroids\n",
        "\n",
        "clusters_1 = pd.concat([Clusters_Recency, Clusters_Frequency, Clusters_Monetary, Cluster_R, Cluster_F, Cluster_M], axis = 1)\n",
        "\n",
        "clusters_1"
      ],
      "execution_count": 100,
      "outputs": [
        {
          "output_type": "execute_result",
          "data": {
            "text/html": [
              "<div>\n",
              "<style scoped>\n",
              "    .dataframe tbody tr th:only-of-type {\n",
              "        vertical-align: middle;\n",
              "    }\n",
              "\n",
              "    .dataframe tbody tr th {\n",
              "        vertical-align: top;\n",
              "    }\n",
              "\n",
              "    .dataframe thead th {\n",
              "        text-align: right;\n",
              "    }\n",
              "</style>\n",
              "<table border=\"1\" class=\"dataframe\">\n",
              "  <thead>\n",
              "    <tr style=\"text-align: right;\">\n",
              "      <th></th>\n",
              "      <th>Recency</th>\n",
              "      <th>Frequency</th>\n",
              "      <th>Monetary</th>\n",
              "      <th>R</th>\n",
              "      <th>F</th>\n",
              "      <th>M</th>\n",
              "    </tr>\n",
              "    <tr>\n",
              "      <th>Cluster</th>\n",
              "      <th></th>\n",
              "      <th></th>\n",
              "      <th></th>\n",
              "      <th></th>\n",
              "      <th></th>\n",
              "      <th></th>\n",
              "    </tr>\n",
              "  </thead>\n",
              "  <tbody>\n",
              "    <tr>\n",
              "      <th>1</th>\n",
              "      <td>35.914718</td>\n",
              "      <td>5.605227</td>\n",
              "      <td>126.256314</td>\n",
              "      <td>0.162863</td>\n",
              "      <td>0.470723</td>\n",
              "      <td>0.612858</td>\n",
              "    </tr>\n",
              "    <tr>\n",
              "      <th>2</th>\n",
              "      <td>217.079118</td>\n",
              "      <td>1.474708</td>\n",
              "      <td>32.217756</td>\n",
              "      <td>0.654499</td>\n",
              "      <td>0.059053</td>\n",
              "      <td>0.125889</td>\n",
              "    </tr>\n",
              "    <tr>\n",
              "      <th>3</th>\n",
              "      <td>47.211165</td>\n",
              "      <td>2.060680</td>\n",
              "      <td>32.518004</td>\n",
              "      <td>0.128235</td>\n",
              "      <td>0.132295</td>\n",
              "      <td>0.167563</td>\n",
              "    </tr>\n",
              "  </tbody>\n",
              "</table>\n",
              "</div>"
            ],
            "text/plain": [
              "            Recency  Frequency    Monetary         R         F         M\n",
              "Cluster                                                                 \n",
              "1         35.914718   5.605227  126.256314  0.162863  0.470723  0.612858\n",
              "2        217.079118   1.474708   32.217756  0.654499  0.059053  0.125889\n",
              "3         47.211165   2.060680   32.518004  0.128235  0.132295  0.167563"
            ]
          },
          "metadata": {
            "tags": []
          },
          "execution_count": 100
        }
      ]
    },
    {
      "cell_type": "code",
      "metadata": {
        "colab": {
          "base_uri": "https://localhost:8080/",
          "height": 355
        },
        "id": "NbBIGXsLohQG",
        "outputId": "99b07e9f-0761-446b-d305-ec87914e0b6d"
      },
      "source": [
        "# Creating 3 new dataframes, one for each cluster\n",
        "\n",
        "cluster_1 = RFM_1[RFM_1['Cluster']==1]\n",
        "cluster_2 = RFM_1[RFM_1['Cluster']==2]\n",
        "cluster_3 = RFM_1[RFM_1['Cluster']==3]\n",
        "cluster_1.head(10)"
      ],
      "execution_count": 101,
      "outputs": [
        {
          "output_type": "execute_result",
          "data": {
            "text/html": [
              "<div>\n",
              "<style scoped>\n",
              "    .dataframe tbody tr th:only-of-type {\n",
              "        vertical-align: middle;\n",
              "    }\n",
              "\n",
              "    .dataframe tbody tr th {\n",
              "        vertical-align: top;\n",
              "    }\n",
              "\n",
              "    .dataframe thead th {\n",
              "        text-align: right;\n",
              "    }\n",
              "</style>\n",
              "<table border=\"1\" class=\"dataframe\">\n",
              "  <thead>\n",
              "    <tr style=\"text-align: right;\">\n",
              "      <th></th>\n",
              "      <th>CustomerID</th>\n",
              "      <th>Recency</th>\n",
              "      <th>Frequency</th>\n",
              "      <th>Monetary</th>\n",
              "      <th>R</th>\n",
              "      <th>F</th>\n",
              "      <th>M</th>\n",
              "      <th>Cluster</th>\n",
              "    </tr>\n",
              "  </thead>\n",
              "  <tbody>\n",
              "    <tr>\n",
              "      <th>0</th>\n",
              "      <td>12749.0</td>\n",
              "      <td>4</td>\n",
              "      <td>5</td>\n",
              "      <td>98.35</td>\n",
              "      <td>0.009709</td>\n",
              "      <td>0.4</td>\n",
              "      <td>0.431523</td>\n",
              "      <td>1</td>\n",
              "    </tr>\n",
              "    <tr>\n",
              "      <th>5</th>\n",
              "      <td>12826.0</td>\n",
              "      <td>3</td>\n",
              "      <td>7</td>\n",
              "      <td>122.80</td>\n",
              "      <td>0.006472</td>\n",
              "      <td>0.6</td>\n",
              "      <td>0.539227</td>\n",
              "      <td>1</td>\n",
              "    </tr>\n",
              "    <tr>\n",
              "      <th>7</th>\n",
              "      <td>12828.0</td>\n",
              "      <td>3</td>\n",
              "      <td>6</td>\n",
              "      <td>154.80</td>\n",
              "      <td>0.006472</td>\n",
              "      <td>0.5</td>\n",
              "      <td>0.680190</td>\n",
              "      <td>1</td>\n",
              "    </tr>\n",
              "    <tr>\n",
              "      <th>15</th>\n",
              "      <td>12840.0</td>\n",
              "      <td>144</td>\n",
              "      <td>4</td>\n",
              "      <td>138.60</td>\n",
              "      <td>0.462783</td>\n",
              "      <td>0.3</td>\n",
              "      <td>0.608828</td>\n",
              "      <td>1</td>\n",
              "    </tr>\n",
              "    <tr>\n",
              "      <th>17</th>\n",
              "      <td>12843.0</td>\n",
              "      <td>66</td>\n",
              "      <td>8</td>\n",
              "      <td>123.20</td>\n",
              "      <td>0.210356</td>\n",
              "      <td>0.7</td>\n",
              "      <td>0.540989</td>\n",
              "      <td>1</td>\n",
              "    </tr>\n",
              "    <tr>\n",
              "      <th>23</th>\n",
              "      <td>12853.0</td>\n",
              "      <td>135</td>\n",
              "      <td>6</td>\n",
              "      <td>202.20</td>\n",
              "      <td>0.433657</td>\n",
              "      <td>0.5</td>\n",
              "      <td>0.888992</td>\n",
              "      <td>1</td>\n",
              "    </tr>\n",
              "    <tr>\n",
              "      <th>24</th>\n",
              "      <td>12854.0</td>\n",
              "      <td>79</td>\n",
              "      <td>3</td>\n",
              "      <td>158.30</td>\n",
              "      <td>0.252427</td>\n",
              "      <td>0.2</td>\n",
              "      <td>0.695608</td>\n",
              "      <td>1</td>\n",
              "    </tr>\n",
              "    <tr>\n",
              "      <th>25</th>\n",
              "      <td>12856.0</td>\n",
              "      <td>8</td>\n",
              "      <td>6</td>\n",
              "      <td>44.58</td>\n",
              "      <td>0.022654</td>\n",
              "      <td>0.5</td>\n",
              "      <td>0.194661</td>\n",
              "      <td>1</td>\n",
              "    </tr>\n",
              "    <tr>\n",
              "      <th>28</th>\n",
              "      <td>12867.0</td>\n",
              "      <td>27</td>\n",
              "      <td>7</td>\n",
              "      <td>53.74</td>\n",
              "      <td>0.084142</td>\n",
              "      <td>0.6</td>\n",
              "      <td>0.235012</td>\n",
              "      <td>1</td>\n",
              "    </tr>\n",
              "    <tr>\n",
              "      <th>30</th>\n",
              "      <td>12871.0</td>\n",
              "      <td>85</td>\n",
              "      <td>2</td>\n",
              "      <td>178.20</td>\n",
              "      <td>0.271845</td>\n",
              "      <td>0.1</td>\n",
              "      <td>0.783269</td>\n",
              "      <td>1</td>\n",
              "    </tr>\n",
              "  </tbody>\n",
              "</table>\n",
              "</div>"
            ],
            "text/plain": [
              "    CustomerID  Recency  Frequency  Monetary         R    F         M  Cluster\n",
              "0      12749.0        4          5     98.35  0.009709  0.4  0.431523        1\n",
              "5      12826.0        3          7    122.80  0.006472  0.6  0.539227        1\n",
              "7      12828.0        3          6    154.80  0.006472  0.5  0.680190        1\n",
              "15     12840.0      144          4    138.60  0.462783  0.3  0.608828        1\n",
              "17     12843.0       66          8    123.20  0.210356  0.7  0.540989        1\n",
              "23     12853.0      135          6    202.20  0.433657  0.5  0.888992        1\n",
              "24     12854.0       79          3    158.30  0.252427  0.2  0.695608        1\n",
              "25     12856.0        8          6     44.58  0.022654  0.5  0.194661        1\n",
              "28     12867.0       27          7     53.74  0.084142  0.6  0.235012        1\n",
              "30     12871.0       85          2    178.20  0.271845  0.1  0.783269        1"
            ]
          },
          "metadata": {
            "tags": []
          },
          "execution_count": 101
        }
      ]
    },
    {
      "cell_type": "code",
      "metadata": {
        "colab": {
          "base_uri": "https://localhost:8080/",
          "height": 385
        },
        "id": "lZFv4nYUokR8",
        "outputId": "56654f86-a274-4239-f60f-e4b26631a433"
      },
      "source": [
        "# Categorical boxplot for the clusters based on the recency variable\n",
        "\n",
        "g = sns.catplot(x='Cluster', y='Recency', data=RFM_1, kind='box')"
      ],
      "execution_count": 102,
      "outputs": [
        {
          "output_type": "display_data",
          "data": {
            "image/png": "[encoded data removed]",
            "text/plain": [
              "<Figure size 360x360 with 1 Axes>"
            ]
          },
          "metadata": {
            "tags": [],
            "needs_background": "light"
          }
        }
      ]
    },
    {
      "cell_type": "code",
      "metadata": {
        "colab": {
          "base_uri": "https://localhost:8080/",
          "height": 385
        },
        "id": "gfwGdPALolKa",
        "outputId": "892289b6-ec09-4b61-a3d4-5c2178b20533"
      },
      "source": [
        "# Categorical barplot for the clusters based on the recency variable\n",
        "\n",
        "g = sns.catplot(x='Cluster', y='Recency', data=RFM_1, kind='bar')"
      ],
      "execution_count": 103,
      "outputs": [
        {
          "output_type": "display_data",
          "data": {
            "image/png": "[encoded data removed]",
            "text/plain": [
              "<Figure size 360x360 with 1 Axes>"
            ]
          },
          "metadata": {
            "tags": [],
            "needs_background": "light"
          }
        }
      ]
    },
    {
      "cell_type": "code",
      "metadata": {
        "colab": {
          "base_uri": "https://localhost:8080/",
          "height": 385
        },
        "id": "L4tQ3vpGopdC",
        "outputId": "c111bd57-6406-40eb-9930-4403b9fa171a"
      },
      "source": [
        "# Categorical boxplot for the clusters based on the frequency variable\n",
        "\n",
        "g = sns.catplot(x='Cluster', y='Frequency', data=RFM_1, kind='box')"
      ],
      "execution_count": 104,
      "outputs": [
        {
          "output_type": "display_data",
          "data": {
            "image/png": "[encoded data removed]",
            "text/plain": [
              "<Figure size 360x360 with 1 Axes>"
            ]
          },
          "metadata": {
            "tags": [],
            "needs_background": "light"
          }
        }
      ]
    },
    {
      "cell_type": "code",
      "metadata": {
        "colab": {
          "base_uri": "https://localhost:8080/",
          "height": 385
        },
        "id": "6N_CLIP-oqLD",
        "outputId": "31a3de64-d5d3-4b47-a465-dcef33178022"
      },
      "source": [
        "# Categorical barplot for the clusters based on the frequency variable\n",
        "\n",
        "g = sns.catplot(x='Cluster', y='Frequency', data=RFM_1, kind='bar')"
      ],
      "execution_count": 105,
      "outputs": [
        {
          "output_type": "display_data",
          "data": {
            "image/png": "[encoded data removed]",
            "text/plain": [
              "<Figure size 360x360 with 1 Axes>"
            ]
          },
          "metadata": {
            "tags": [],
            "needs_background": "light"
          }
        }
      ]
    },
    {
      "cell_type": "code",
      "metadata": {
        "colab": {
          "base_uri": "https://localhost:8080/",
          "height": 385
        },
        "id": "wCZ3BSWyot--",
        "outputId": "f5817497-7d37-4a96-a03f-00b2d5652556"
      },
      "source": [
        "# # Categorical boxplot for the clusters based on the monetary variable\n",
        "\n",
        "g = sns.catplot(x='Cluster', y='Monetary', data=RFM_1, kind='box')"
      ],
      "execution_count": 106,
      "outputs": [
        {
          "output_type": "display_data",
          "data": {
            "image/png": "[encoded data removed]",
            "text/plain": [
              "<Figure size 360x360 with 1 Axes>"
            ]
          },
          "metadata": {
            "tags": [],
            "needs_background": "light"
          }
        }
      ]
    },
    {
      "cell_type": "code",
      "metadata": {
        "colab": {
          "base_uri": "https://localhost:8080/",
          "height": 385
        },
        "id": "0lZupd00pG_3",
        "outputId": "c839b55b-8b27-4a37-f946-10831f5bfe21"
      },
      "source": [
        "# Categorical barplot for the clusters based on the monetary variable\n",
        "\n",
        "g = sns.catplot(x='Cluster', y='Monetary', data=RFM_1, kind='bar')"
      ],
      "execution_count": 107,
      "outputs": [
        {
          "output_type": "display_data",
          "data": {
            "image/png": "[encoded data removed]",
            "text/plain": [
              "<Figure size 360x360 with 1 Axes>"
            ]
          },
          "metadata": {
            "tags": [],
            "needs_background": "light"
          }
        }
      ]
    },
    {
      "cell_type": "code",
      "metadata": {
        "colab": {
          "base_uri": "https://localhost:8080/",
          "height": 385
        },
        "id": "ZQumEYlepJzb",
        "outputId": "aa786516-9aad-4304-fa68-ddb5aa2161a9"
      },
      "source": [
        "# Relational plot for the three clusters based on recency and frequency\n",
        "\n",
        "sns.relplot(x='Recency', y='Frequency', data=RFM_1, kind='scatter', \n",
        "            hue='Cluster', style='Cluster', alpha=0.7)\n",
        "plt.show()"
      ],
      "execution_count": 108,
      "outputs": [
        {
          "output_type": "display_data",
          "data": {
            "image/png": "[encoded data removed]",
            "text/plain": [
              "<Figure size 411.675x360 with 1 Axes>"
            ]
          },
          "metadata": {
            "tags": [],
            "needs_background": "light"
          }
        }
      ]
    },
    {
      "cell_type": "code",
      "metadata": {
        "colab": {
          "base_uri": "https://localhost:8080/",
          "height": 385
        },
        "id": "eLY24BebpMrr",
        "outputId": "ea70dd79-5784-4caa-afff-5c64d42115b9"
      },
      "source": [
        "# Relational plot for the three clusters based on recency and monetary\n",
        "\n",
        "sns.relplot(x='Recency', y='Monetary', data=RFM_1, kind='scatter', \n",
        "            hue='Cluster', style='Cluster', alpha=0.7)\n",
        "plt.show()"
      ],
      "execution_count": 109,
      "outputs": [
        {
          "output_type": "display_data",
          "data": {
            "image/png": "[encoded data removed]",
            "text/plain": [
              "<Figure size 411.675x360 with 1 Axes>"
            ]
          },
          "metadata": {
            "tags": [],
            "needs_background": "light"
          }
        }
      ]
    },
    {
      "cell_type": "code",
      "metadata": {
        "colab": {
          "base_uri": "https://localhost:8080/",
          "height": 385
        },
        "id": "PyhniYvXpO0W",
        "outputId": "c7a11595-6645-4a1c-e44d-37bad88c71fa"
      },
      "source": [
        "# Relational plot for the three clusters based on frequency and monetary\n",
        "\n",
        "sns.relplot(x='Frequency', y='Monetary', data=RFM_1, kind='scatter', \n",
        "            hue='Cluster', style='Cluster', alpha=0.7)\n",
        "plt.show()"
      ],
      "execution_count": 110,
      "outputs": [
        {
          "output_type": "display_data",
          "data": {
            "image/png": "[encoded data removed]",
            "text/plain": [
              "<Figure size 411.675x360 with 1 Axes>"
            ]
          },
          "metadata": {
            "tags": [],
            "needs_background": "light"
          }
        }
      ]
    },
    {
      "cell_type": "code",
      "metadata": {
        "colab": {
          "base_uri": "https://localhost:8080/",
          "height": 672
        },
        "id": "CE-JnTeapWRX",
        "outputId": "0f37331f-e553-4f5a-f058-256a1963b891"
      },
      "source": [
        "# Exploring the pairplot between recency, frequency and monetary \n",
        "\n",
        "sns.pairplot(RFM_1, vars=['Recency', 'Frequency', 'Monetary'], hue='Cluster',\n",
        "             diag_kind='auto', diag_kws={'alpha': 0.4}, corner=False, palette='husl', plot_kws={'alpha':0.4}, height=3, aspect=1)"
      ],
      "execution_count": 111,
      "outputs": [
        {
          "output_type": "execute_result",
          "data": {
            "text/plain": [
              "<seaborn.axisgrid.PairGrid at 0x7fd4e4296250>"
            ]
          },
          "metadata": {
            "tags": []
          },
          "execution_count": 111
        },
        {
          "output_type": "display_data",
          "data": {
            "image/png": "[encoded data removed]",
            "text/plain": [
              "<Figure size 699.675x648 with 12 Axes>"
            ]
          },
          "metadata": {
            "tags": [],
            "needs_background": "light"
          }
        }
      ]
    },
    {
      "cell_type": "code",
      "metadata": {
        "colab": {
          "base_uri": "https://localhost:8080/"
        },
        "id": "Rk-q2ziVpY_d",
        "outputId": "ac3aa0b6-7ae8-44f5-e3c7-39fbff16e3ea"
      },
      "source": [
        "RFM_1.Recency.mean()"
      ],
      "execution_count": 112,
      "outputs": [
        {
          "output_type": "execute_result",
          "data": {
            "text/plain": [
              "86.23076923076923"
            ]
          },
          "metadata": {
            "tags": []
          },
          "execution_count": 112
        }
      ]
    },
    {
      "cell_type": "code",
      "metadata": {
        "colab": {
          "base_uri": "https://localhost:8080/"
        },
        "id": "nBqeYz9lpZ3R",
        "outputId": "47923142-d4bd-4a7a-e41c-70b1d4023126"
      },
      "source": [
        "RFM_1.Frequency.mean()"
      ],
      "execution_count": 113,
      "outputs": [
        {
          "output_type": "execute_result",
          "data": {
            "text/plain": [
              "2.7361729179911"
            ]
          },
          "metadata": {
            "tags": []
          },
          "execution_count": 113
        }
      ]
    },
    {
      "cell_type": "code",
      "metadata": {
        "colab": {
          "base_uri": "https://localhost:8080/"
        },
        "id": "zVwCTNaXpd2D",
        "outputId": "50d0cb2b-a028-4576-ecd8-8c6c631bd71c"
      },
      "source": [
        "RFM_1.Monetary.mean()"
      ],
      "execution_count": 114,
      "outputs": [
        {
          "output_type": "execute_result",
          "data": {
            "text/plain": [
              "54.10613477431657"
            ]
          },
          "metadata": {
            "tags": []
          },
          "execution_count": 114
        }
      ]
    }
  ]
}