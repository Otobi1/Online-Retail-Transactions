{
  "nbformat": 4,
  "nbformat_minor": 0,
  "metadata": {
    "colab": {
      "name": "Online Retail Transactions - EDA",
      "provenance": [],
      "authorship_tag": "ABX9TyNEP/748SK/TYrY1zyuNalK",
      "include_colab_link": true
    },
    "kernelspec": {
      "name": "python3",
      "display_name": "Python 3"
    },
    "language_info": {
      "name": "python"
    }
  },
  "cells": [
    {
      "cell_type": "markdown",
      "metadata": {
        "id": "view-in-github",
        "colab_type": "text"
      },
      "source": [
        "<a href=\"https://colab.research.google.com/github/Otobi1/Online-Retail-Transactions/blob/master/Online_Retail_Transactions_EDA.ipynb\" target=\"_parent\"><img src=\"https://colab.research.google.com/assets/colab-badge.svg\" alt=\"Open In Colab\"/></a>"
      ]
    },
    {
      "cell_type": "code",
      "metadata": {
        "colab": {
          "base_uri": "https://localhost:8080/"
        },
        "id": "ntuOVewjRPaf",
        "outputId": "6edb543a-1670-4701-cfe1-3badaabed154"
      },
      "source": [
        "# Installing lifetimes and jcopml quietly (without the install logs)\n",
        "\n",
        "!pip install lifetimes --quiet # (https://pypi.org/project/Lifetimes/ ) provides some details on what this is used for, particularly for ecommerce, predicting CLV\n",
        "!pip install jcopml --quiet # (https://pypi.org/project/jcopml/)"
      ],
      "execution_count": 1,
      "outputs": [
        {
          "output_type": "stream",
          "text": [
            "\u001b[K     |████████████████████████████████| 593kB 4.3MB/s \n",
            "\u001b[K     |████████████████████████████████| 102kB 4.4MB/s \n",
            "\u001b[?25h  Building wheel for jcopml (setup.py) ... \u001b[?25l\u001b[?25hdone\n"
          ],
          "name": "stdout"
        }
      ]
    },
    {
      "cell_type": "code",
      "metadata": {
        "colab": {
          "base_uri": "https://localhost:8080/"
        },
        "id": "26dMV0A2_1KL",
        "outputId": "536a10c7-739f-4728-ad35-afe7e5fd5bc3"
      },
      "source": [
        "# Importing the necessary libraries \n",
        "\n",
        "import pandas as pd\n",
        "import numpy as np\n",
        "import csv\n",
        "import matplotlib.pyplot as plt\n",
        "from pandas.plotting import scatter_matrix\n",
        "from matplotlib.image import imread\n",
        "import seaborn as sns\n",
        "from sklearn.cluster import KMeans, SpectralClustering\n",
        "from sklearn.preprocessing import StandardScaler\n",
        "from sklearn.metrics import silhouette_samples, silhouette_score\n",
        "from sklearn.metrics.pairwise import  cosine_similarity\n",
        "import datetime as dt\n",
        "from lifetimes.utils import summary_data_from_transaction_data\n",
        "from jcopml.plot import plot_missing_value\n",
        "\n",
        "%matplotlib inline\n",
        "sns.set_context('notebook')\n",
        "plt.style.use('fivethirtyeight')\n",
        "from warnings import filterwarnings\n",
        "filterwarnings('ignore')\n",
        "\n",
        "print ('Libraries successfully imported!')"
      ],
      "execution_count": 2,
      "outputs": [
        {
          "output_type": "stream",
          "text": [
            "Libraries successfully imported!\n"
          ],
          "name": "stdout"
        }
      ]
    },
    {
      "cell_type": "code",
      "metadata": {
        "colab": {
          "base_uri": "https://localhost:8080/"
        },
        "id": "W0ffW_sL_pob",
        "outputId": "f282e6e6-1bb2-4e67-e93b-e568a4bfbcaf"
      },
      "source": [
        "# Downloading the dataset from the UCI Data Repo\n",
        "\n",
        "!wget https://archive.ics.uci.edu/ml/machine-learning-databases/00502/online_retail_II.xlsx\n",
        "\n",
        "# Data is on two tabs in the spreadsheet"
      ],
      "execution_count": 3,
      "outputs": [
        {
          "output_type": "stream",
          "text": [
            "--2021-06-23 18:38:31--  https://archive.ics.uci.edu/ml/machine-learning-databases/00502/online_retail_II.xlsx\n",
            "Resolving archive.ics.uci.edu (archive.ics.uci.edu)... 128.195.10.252\n",
            "Connecting to archive.ics.uci.edu (archive.ics.uci.edu)|128.195.10.252|:443... connected.\n",
            "HTTP request sent, awaiting response... 200 OK\n",
            "Length: 45622278 (44M) [application/x-httpd-php]\n",
            "Saving to: ‘online_retail_II.xlsx’\n",
            "\n",
            "online_retail_II.xl 100%[===================>]  43.51M  15.2MB/s    in 2.9s    \n",
            "\n",
            "2021-06-23 18:38:34 (15.2 MB/s) - ‘online_retail_II.xlsx’ saved [45622278/45622278]\n",
            "\n"
          ],
          "name": "stdout"
        }
      ]
    },
    {
      "cell_type": "code",
      "metadata": {
        "id": "llx0czMB_v1C"
      },
      "source": [
        "# Reading the data from the first tab of the spreadsheet. \n",
        "\n",
        "df_09_10 = pd.read_excel('online_retail_II.xlsx', 'Year 2009-2010', index_col=None, na_values=['NA'])\n",
        "\n",
        "# Making a copy of the original dataset from the first tab.\n",
        "\n",
        "data_09_10 = df_09_10.copy()"
      ],
      "execution_count": 4,
      "outputs": []
    },
    {
      "cell_type": "code",
      "metadata": {
        "colab": {
          "base_uri": "https://localhost:8080/",
          "height": 204
        },
        "id": "3M1iXZmGDxGX",
        "outputId": "3d863f50-d3d6-4bfc-c975-c360d4de406c"
      },
      "source": [
        "# Exploring the first 5 observations.\n",
        "\n",
        "data_09_10.head()"
      ],
      "execution_count": 5,
      "outputs": [
        {
          "output_type": "execute_result",
          "data": {
            "text/html": [
              "<div>\n",
              "<style scoped>\n",
              "    .dataframe tbody tr th:only-of-type {\n",
              "        vertical-align: middle;\n",
              "    }\n",
              "\n",
              "    .dataframe tbody tr th {\n",
              "        vertical-align: top;\n",
              "    }\n",
              "\n",
              "    .dataframe thead th {\n",
              "        text-align: right;\n",
              "    }\n",
              "</style>\n",
              "<table border=\"1\" class=\"dataframe\">\n",
              "  <thead>\n",
              "    <tr style=\"text-align: right;\">\n",
              "      <th></th>\n",
              "      <th>Invoice</th>\n",
              "      <th>StockCode</th>\n",
              "      <th>Description</th>\n",
              "      <th>Quantity</th>\n",
              "      <th>InvoiceDate</th>\n",
              "      <th>Price</th>\n",
              "      <th>Customer ID</th>\n",
              "      <th>Country</th>\n",
              "    </tr>\n",
              "  </thead>\n",
              "  <tbody>\n",
              "    <tr>\n",
              "      <th>0</th>\n",
              "      <td>489434</td>\n",
              "      <td>85048</td>\n",
              "      <td>15CM CHRISTMAS GLASS BALL 20 LIGHTS</td>\n",
              "      <td>12</td>\n",
              "      <td>2009-12-01 07:45:00</td>\n",
              "      <td>6.95</td>\n",
              "      <td>13085.0</td>\n",
              "      <td>United Kingdom</td>\n",
              "    </tr>\n",
              "    <tr>\n",
              "      <th>1</th>\n",
              "      <td>489434</td>\n",
              "      <td>79323P</td>\n",
              "      <td>PINK CHERRY LIGHTS</td>\n",
              "      <td>12</td>\n",
              "      <td>2009-12-01 07:45:00</td>\n",
              "      <td>6.75</td>\n",
              "      <td>13085.0</td>\n",
              "      <td>United Kingdom</td>\n",
              "    </tr>\n",
              "    <tr>\n",
              "      <th>2</th>\n",
              "      <td>489434</td>\n",
              "      <td>79323W</td>\n",
              "      <td>WHITE CHERRY LIGHTS</td>\n",
              "      <td>12</td>\n",
              "      <td>2009-12-01 07:45:00</td>\n",
              "      <td>6.75</td>\n",
              "      <td>13085.0</td>\n",
              "      <td>United Kingdom</td>\n",
              "    </tr>\n",
              "    <tr>\n",
              "      <th>3</th>\n",
              "      <td>489434</td>\n",
              "      <td>22041</td>\n",
              "      <td>RECORD FRAME 7\" SINGLE SIZE</td>\n",
              "      <td>48</td>\n",
              "      <td>2009-12-01 07:45:00</td>\n",
              "      <td>2.10</td>\n",
              "      <td>13085.0</td>\n",
              "      <td>United Kingdom</td>\n",
              "    </tr>\n",
              "    <tr>\n",
              "      <th>4</th>\n",
              "      <td>489434</td>\n",
              "      <td>21232</td>\n",
              "      <td>STRAWBERRY CERAMIC TRINKET BOX</td>\n",
              "      <td>24</td>\n",
              "      <td>2009-12-01 07:45:00</td>\n",
              "      <td>1.25</td>\n",
              "      <td>13085.0</td>\n",
              "      <td>United Kingdom</td>\n",
              "    </tr>\n",
              "  </tbody>\n",
              "</table>\n",
              "</div>"
            ],
            "text/plain": [
              "  Invoice StockCode  ... Customer ID         Country\n",
              "0  489434     85048  ...     13085.0  United Kingdom\n",
              "1  489434    79323P  ...     13085.0  United Kingdom\n",
              "2  489434    79323W  ...     13085.0  United Kingdom\n",
              "3  489434     22041  ...     13085.0  United Kingdom\n",
              "4  489434     21232  ...     13085.0  United Kingdom\n",
              "\n",
              "[5 rows x 8 columns]"
            ]
          },
          "metadata": {
            "tags": []
          },
          "execution_count": 5
        }
      ]
    },
    {
      "cell_type": "code",
      "metadata": {
        "colab": {
          "base_uri": "https://localhost:8080/"
        },
        "id": "NUG_jEqWHKda",
        "outputId": "499702c4-54d1-4fbb-dcf5-efd7f7c68d9a"
      },
      "source": [
        "# Checking the dimensions of the dataset in the first tab\n",
        "\n",
        "data_09_10.shape"
      ],
      "execution_count": 6,
      "outputs": [
        {
          "output_type": "execute_result",
          "data": {
            "text/plain": [
              "(525461, 8)"
            ]
          },
          "metadata": {
            "tags": []
          },
          "execution_count": 6
        }
      ]
    },
    {
      "cell_type": "code",
      "metadata": {
        "id": "b2wm1AopZEIm"
      },
      "source": [
        "# Reading the data from the second tab of the spreadsheet\n",
        "\n",
        "df_10_11 = pd.read_excel('online_retail_II.xlsx', 'Year 2010-2011', index_col=None, na_values=['NA'])\n",
        "\n",
        "# Making a copy of the original dataset from the second tab\n",
        "\n",
        "data_10_11 = df_10_11.copy()"
      ],
      "execution_count": 7,
      "outputs": []
    },
    {
      "cell_type": "code",
      "metadata": {
        "colab": {
          "base_uri": "https://localhost:8080/",
          "height": 204
        },
        "id": "t9o4u7XVaQqK",
        "outputId": "27eb672b-b85c-4712-c164-b27bf001a164"
      },
      "source": [
        "# Checking the first 5 observations in the dataset from the second tab\n",
        "\n",
        "data_10_11.head()"
      ],
      "execution_count": 8,
      "outputs": [
        {
          "output_type": "execute_result",
          "data": {
            "text/html": [
              "<div>\n",
              "<style scoped>\n",
              "    .dataframe tbody tr th:only-of-type {\n",
              "        vertical-align: middle;\n",
              "    }\n",
              "\n",
              "    .dataframe tbody tr th {\n",
              "        vertical-align: top;\n",
              "    }\n",
              "\n",
              "    .dataframe thead th {\n",
              "        text-align: right;\n",
              "    }\n",
              "</style>\n",
              "<table border=\"1\" class=\"dataframe\">\n",
              "  <thead>\n",
              "    <tr style=\"text-align: right;\">\n",
              "      <th></th>\n",
              "      <th>Invoice</th>\n",
              "      <th>StockCode</th>\n",
              "      <th>Description</th>\n",
              "      <th>Quantity</th>\n",
              "      <th>InvoiceDate</th>\n",
              "      <th>Price</th>\n",
              "      <th>Customer ID</th>\n",
              "      <th>Country</th>\n",
              "    </tr>\n",
              "  </thead>\n",
              "  <tbody>\n",
              "    <tr>\n",
              "      <th>0</th>\n",
              "      <td>536365</td>\n",
              "      <td>85123A</td>\n",
              "      <td>WHITE HANGING HEART T-LIGHT HOLDER</td>\n",
              "      <td>6</td>\n",
              "      <td>2010-12-01 08:26:00</td>\n",
              "      <td>2.55</td>\n",
              "      <td>17850.0</td>\n",
              "      <td>United Kingdom</td>\n",
              "    </tr>\n",
              "    <tr>\n",
              "      <th>1</th>\n",
              "      <td>536365</td>\n",
              "      <td>71053</td>\n",
              "      <td>WHITE METAL LANTERN</td>\n",
              "      <td>6</td>\n",
              "      <td>2010-12-01 08:26:00</td>\n",
              "      <td>3.39</td>\n",
              "      <td>17850.0</td>\n",
              "      <td>United Kingdom</td>\n",
              "    </tr>\n",
              "    <tr>\n",
              "      <th>2</th>\n",
              "      <td>536365</td>\n",
              "      <td>84406B</td>\n",
              "      <td>CREAM CUPID HEARTS COAT HANGER</td>\n",
              "      <td>8</td>\n",
              "      <td>2010-12-01 08:26:00</td>\n",
              "      <td>2.75</td>\n",
              "      <td>17850.0</td>\n",
              "      <td>United Kingdom</td>\n",
              "    </tr>\n",
              "    <tr>\n",
              "      <th>3</th>\n",
              "      <td>536365</td>\n",
              "      <td>84029G</td>\n",
              "      <td>KNITTED UNION FLAG HOT WATER BOTTLE</td>\n",
              "      <td>6</td>\n",
              "      <td>2010-12-01 08:26:00</td>\n",
              "      <td>3.39</td>\n",
              "      <td>17850.0</td>\n",
              "      <td>United Kingdom</td>\n",
              "    </tr>\n",
              "    <tr>\n",
              "      <th>4</th>\n",
              "      <td>536365</td>\n",
              "      <td>84029E</td>\n",
              "      <td>RED WOOLLY HOTTIE WHITE HEART.</td>\n",
              "      <td>6</td>\n",
              "      <td>2010-12-01 08:26:00</td>\n",
              "      <td>3.39</td>\n",
              "      <td>17850.0</td>\n",
              "      <td>United Kingdom</td>\n",
              "    </tr>\n",
              "  </tbody>\n",
              "</table>\n",
              "</div>"
            ],
            "text/plain": [
              "  Invoice StockCode  ... Customer ID         Country\n",
              "0  536365    85123A  ...     17850.0  United Kingdom\n",
              "1  536365     71053  ...     17850.0  United Kingdom\n",
              "2  536365    84406B  ...     17850.0  United Kingdom\n",
              "3  536365    84029G  ...     17850.0  United Kingdom\n",
              "4  536365    84029E  ...     17850.0  United Kingdom\n",
              "\n",
              "[5 rows x 8 columns]"
            ]
          },
          "metadata": {
            "tags": []
          },
          "execution_count": 8
        }
      ]
    },
    {
      "cell_type": "code",
      "metadata": {
        "colab": {
          "base_uri": "https://localhost:8080/"
        },
        "id": "b3ryH4GzHgCu",
        "outputId": "fbc41e91-4fbb-499e-88ea-aa32a189f1e0"
      },
      "source": [
        "# Exploring the dimensions of the dataset in the second tab\n",
        "\n",
        "data_10_11.shape"
      ],
      "execution_count": 9,
      "outputs": [
        {
          "output_type": "execute_result",
          "data": {
            "text/plain": [
              "(541910, 8)"
            ]
          },
          "metadata": {
            "tags": []
          },
          "execution_count": 9
        }
      ]
    },
    {
      "cell_type": "code",
      "metadata": {
        "id": "KtU_F2Q5IPBY"
      },
      "source": [
        "# Merging the datasets from the two tabs into one single dataframe\n",
        "\n",
        "# Placing both dataframes into a list\n",
        "\n",
        "total_data = [data_09_10, data_10_11]\n",
        "\n",
        "# Concatenating the two datasets - merging it into a single dataset\n",
        "\n",
        "retail_data = pd.concat(total_data)\n",
        "\n",
        "# Making a copy of the final dataset\n",
        "\n",
        "final_retail_data = retail_data.copy()"
      ],
      "execution_count": 10,
      "outputs": []
    },
    {
      "cell_type": "code",
      "metadata": {
        "colab": {
          "base_uri": "https://localhost:8080/",
          "height": 204
        },
        "id": "dqpubcbZIioc",
        "outputId": "884a62f9-51d2-44ae-de00-e56eea2a58b9"
      },
      "source": [
        "# First 5 observations of the dataset\n",
        "\n",
        "final_retail_data.head()"
      ],
      "execution_count": 11,
      "outputs": [
        {
          "output_type": "execute_result",
          "data": {
            "text/html": [
              "<div>\n",
              "<style scoped>\n",
              "    .dataframe tbody tr th:only-of-type {\n",
              "        vertical-align: middle;\n",
              "    }\n",
              "\n",
              "    .dataframe tbody tr th {\n",
              "        vertical-align: top;\n",
              "    }\n",
              "\n",
              "    .dataframe thead th {\n",
              "        text-align: right;\n",
              "    }\n",
              "</style>\n",
              "<table border=\"1\" class=\"dataframe\">\n",
              "  <thead>\n",
              "    <tr style=\"text-align: right;\">\n",
              "      <th></th>\n",
              "      <th>Invoice</th>\n",
              "      <th>StockCode</th>\n",
              "      <th>Description</th>\n",
              "      <th>Quantity</th>\n",
              "      <th>InvoiceDate</th>\n",
              "      <th>Price</th>\n",
              "      <th>Customer ID</th>\n",
              "      <th>Country</th>\n",
              "    </tr>\n",
              "  </thead>\n",
              "  <tbody>\n",
              "    <tr>\n",
              "      <th>0</th>\n",
              "      <td>489434</td>\n",
              "      <td>85048</td>\n",
              "      <td>15CM CHRISTMAS GLASS BALL 20 LIGHTS</td>\n",
              "      <td>12</td>\n",
              "      <td>2009-12-01 07:45:00</td>\n",
              "      <td>6.95</td>\n",
              "      <td>13085.0</td>\n",
              "      <td>United Kingdom</td>\n",
              "    </tr>\n",
              "    <tr>\n",
              "      <th>1</th>\n",
              "      <td>489434</td>\n",
              "      <td>79323P</td>\n",
              "      <td>PINK CHERRY LIGHTS</td>\n",
              "      <td>12</td>\n",
              "      <td>2009-12-01 07:45:00</td>\n",
              "      <td>6.75</td>\n",
              "      <td>13085.0</td>\n",
              "      <td>United Kingdom</td>\n",
              "    </tr>\n",
              "    <tr>\n",
              "      <th>2</th>\n",
              "      <td>489434</td>\n",
              "      <td>79323W</td>\n",
              "      <td>WHITE CHERRY LIGHTS</td>\n",
              "      <td>12</td>\n",
              "      <td>2009-12-01 07:45:00</td>\n",
              "      <td>6.75</td>\n",
              "      <td>13085.0</td>\n",
              "      <td>United Kingdom</td>\n",
              "    </tr>\n",
              "    <tr>\n",
              "      <th>3</th>\n",
              "      <td>489434</td>\n",
              "      <td>22041</td>\n",
              "      <td>RECORD FRAME 7\" SINGLE SIZE</td>\n",
              "      <td>48</td>\n",
              "      <td>2009-12-01 07:45:00</td>\n",
              "      <td>2.10</td>\n",
              "      <td>13085.0</td>\n",
              "      <td>United Kingdom</td>\n",
              "    </tr>\n",
              "    <tr>\n",
              "      <th>4</th>\n",
              "      <td>489434</td>\n",
              "      <td>21232</td>\n",
              "      <td>STRAWBERRY CERAMIC TRINKET BOX</td>\n",
              "      <td>24</td>\n",
              "      <td>2009-12-01 07:45:00</td>\n",
              "      <td>1.25</td>\n",
              "      <td>13085.0</td>\n",
              "      <td>United Kingdom</td>\n",
              "    </tr>\n",
              "  </tbody>\n",
              "</table>\n",
              "</div>"
            ],
            "text/plain": [
              "  Invoice StockCode  ... Customer ID         Country\n",
              "0  489434     85048  ...     13085.0  United Kingdom\n",
              "1  489434    79323P  ...     13085.0  United Kingdom\n",
              "2  489434    79323W  ...     13085.0  United Kingdom\n",
              "3  489434     22041  ...     13085.0  United Kingdom\n",
              "4  489434     21232  ...     13085.0  United Kingdom\n",
              "\n",
              "[5 rows x 8 columns]"
            ]
          },
          "metadata": {
            "tags": []
          },
          "execution_count": 11
        }
      ]
    },
    {
      "cell_type": "code",
      "metadata": {
        "colab": {
          "base_uri": "https://localhost:8080/"
        },
        "id": "31Q5FI-PI8Jx",
        "outputId": "81737b61-4917-4b51-ccb8-da4c1edd4877"
      },
      "source": [
        "# Checking the dimensions of the final dataframe.\n",
        "\n",
        "final_retail_data.shape"
      ],
      "execution_count": 12,
      "outputs": [
        {
          "output_type": "execute_result",
          "data": {
            "text/plain": [
              "(1067371, 8)"
            ]
          },
          "metadata": {
            "tags": []
          },
          "execution_count": 12
        }
      ]
    },
    {
      "cell_type": "code",
      "metadata": {
        "colab": {
          "base_uri": "https://localhost:8080/"
        },
        "id": "Rvm3FK5CJtNL",
        "outputId": "4c78fbe9-3be3-44c6-9751-85b476c51fd1"
      },
      "source": [
        "# Exploring the details of the dataset, including the variable types.\n",
        "\n",
        "final_retail_data.info()"
      ],
      "execution_count": 13,
      "outputs": [
        {
          "output_type": "stream",
          "text": [
            "<class 'pandas.core.frame.DataFrame'>\n",
            "Int64Index: 1067371 entries, 0 to 541909\n",
            "Data columns (total 8 columns):\n",
            " #   Column       Non-Null Count    Dtype         \n",
            "---  ------       --------------    -----         \n",
            " 0   Invoice      1067371 non-null  object        \n",
            " 1   StockCode    1067371 non-null  object        \n",
            " 2   Description  1062989 non-null  object        \n",
            " 3   Quantity     1067371 non-null  int64         \n",
            " 4   InvoiceDate  1067371 non-null  datetime64[ns]\n",
            " 5   Price        1067371 non-null  float64       \n",
            " 6   Customer ID  824364 non-null   float64       \n",
            " 7   Country      1067371 non-null  object        \n",
            "dtypes: datetime64[ns](1), float64(2), int64(1), object(4)\n",
            "memory usage: 73.3+ MB\n"
          ],
          "name": "stdout"
        }
      ]
    },
    {
      "cell_type": "code",
      "metadata": {
        "colab": {
          "base_uri": "https://localhost:8080/"
        },
        "id": "ujTDPIp4Ke6c",
        "outputId": "329cab44-01f2-49bf-b9ff-469656d8864f"
      },
      "source": [
        "# Checking the observations with the null entries or missing values \n",
        "\n",
        "final_retail_data.isnull().sum()\n",
        "\n",
        "# Inference, 4382 Observations with missing descriptions and 243007 Observations with missing Customer ID"
      ],
      "execution_count": 14,
      "outputs": [
        {
          "output_type": "execute_result",
          "data": {
            "text/plain": [
              "Invoice             0\n",
              "StockCode           0\n",
              "Description      4382\n",
              "Quantity            0\n",
              "InvoiceDate         0\n",
              "Price               0\n",
              "Customer ID    243007\n",
              "Country             0\n",
              "dtype: int64"
            ]
          },
          "metadata": {
            "tags": []
          },
          "execution_count": 14
        }
      ]
    },
    {
      "cell_type": "code",
      "metadata": {
        "colab": {
          "base_uri": "https://localhost:8080/",
          "height": 204
        },
        "id": "yCL1F-fhLl7i",
        "outputId": "f3a4fbcf-048d-4255-a5cf-c04d0d92faf6"
      },
      "source": [
        "# Exploring the observations with null values\n",
        "\n",
        "final_retail_data[pd.isnull(final_retail_data).any(axis=1)].head()"
      ],
      "execution_count": 15,
      "outputs": [
        {
          "output_type": "execute_result",
          "data": {
            "text/html": [
              "<div>\n",
              "<style scoped>\n",
              "    .dataframe tbody tr th:only-of-type {\n",
              "        vertical-align: middle;\n",
              "    }\n",
              "\n",
              "    .dataframe tbody tr th {\n",
              "        vertical-align: top;\n",
              "    }\n",
              "\n",
              "    .dataframe thead th {\n",
              "        text-align: right;\n",
              "    }\n",
              "</style>\n",
              "<table border=\"1\" class=\"dataframe\">\n",
              "  <thead>\n",
              "    <tr style=\"text-align: right;\">\n",
              "      <th></th>\n",
              "      <th>Invoice</th>\n",
              "      <th>StockCode</th>\n",
              "      <th>Description</th>\n",
              "      <th>Quantity</th>\n",
              "      <th>InvoiceDate</th>\n",
              "      <th>Price</th>\n",
              "      <th>Customer ID</th>\n",
              "      <th>Country</th>\n",
              "    </tr>\n",
              "  </thead>\n",
              "  <tbody>\n",
              "    <tr>\n",
              "      <th>263</th>\n",
              "      <td>489464</td>\n",
              "      <td>21733</td>\n",
              "      <td>85123a mixed</td>\n",
              "      <td>-96</td>\n",
              "      <td>2009-12-01 10:52:00</td>\n",
              "      <td>0.00</td>\n",
              "      <td>NaN</td>\n",
              "      <td>United Kingdom</td>\n",
              "    </tr>\n",
              "    <tr>\n",
              "      <th>283</th>\n",
              "      <td>489463</td>\n",
              "      <td>71477</td>\n",
              "      <td>short</td>\n",
              "      <td>-240</td>\n",
              "      <td>2009-12-01 10:52:00</td>\n",
              "      <td>0.00</td>\n",
              "      <td>NaN</td>\n",
              "      <td>United Kingdom</td>\n",
              "    </tr>\n",
              "    <tr>\n",
              "      <th>284</th>\n",
              "      <td>489467</td>\n",
              "      <td>85123A</td>\n",
              "      <td>21733 mixed</td>\n",
              "      <td>-192</td>\n",
              "      <td>2009-12-01 10:53:00</td>\n",
              "      <td>0.00</td>\n",
              "      <td>NaN</td>\n",
              "      <td>United Kingdom</td>\n",
              "    </tr>\n",
              "    <tr>\n",
              "      <th>470</th>\n",
              "      <td>489521</td>\n",
              "      <td>21646</td>\n",
              "      <td>NaN</td>\n",
              "      <td>-50</td>\n",
              "      <td>2009-12-01 11:44:00</td>\n",
              "      <td>0.00</td>\n",
              "      <td>NaN</td>\n",
              "      <td>United Kingdom</td>\n",
              "    </tr>\n",
              "    <tr>\n",
              "      <th>577</th>\n",
              "      <td>489525</td>\n",
              "      <td>85226C</td>\n",
              "      <td>BLUE PULL BACK RACING CAR</td>\n",
              "      <td>1</td>\n",
              "      <td>2009-12-01 11:49:00</td>\n",
              "      <td>0.55</td>\n",
              "      <td>NaN</td>\n",
              "      <td>United Kingdom</td>\n",
              "    </tr>\n",
              "  </tbody>\n",
              "</table>\n",
              "</div>"
            ],
            "text/plain": [
              "    Invoice StockCode  ... Customer ID         Country\n",
              "263  489464     21733  ...         NaN  United Kingdom\n",
              "283  489463     71477  ...         NaN  United Kingdom\n",
              "284  489467    85123A  ...         NaN  United Kingdom\n",
              "470  489521     21646  ...         NaN  United Kingdom\n",
              "577  489525    85226C  ...         NaN  United Kingdom\n",
              "\n",
              "[5 rows x 8 columns]"
            ]
          },
          "metadata": {
            "tags": []
          },
          "execution_count": 15
        }
      ]
    },
    {
      "cell_type": "code",
      "metadata": {
        "colab": {
          "base_uri": "https://localhost:8080/"
        },
        "id": "5648gCfBNZcd",
        "outputId": "b229985a-350c-431f-efb0-d3e8bc06e23f"
      },
      "source": [
        "# Dimensions of the observations with null/missing values \n",
        "\n",
        "final_retail_data[pd.isnull(final_retail_data).any(axis=1)].shape"
      ],
      "execution_count": 16,
      "outputs": [
        {
          "output_type": "execute_result",
          "data": {
            "text/plain": [
              "(243007, 8)"
            ]
          },
          "metadata": {
            "tags": []
          },
          "execution_count": 16
        }
      ]
    },
    {
      "cell_type": "code",
      "metadata": {
        "colab": {
          "base_uri": "https://localhost:8080/",
          "height": 818
        },
        "id": "2L4qBt1kOyc1",
        "outputId": "e0bf84b6-3895-4319-f247-36650ae4fa5b"
      },
      "source": [
        "# Exploring the missing values in the dataset and their distribution using the plot_missing_value function from jcopml library\n",
        "\n",
        "plot_missing_value(final_retail_data, return_df = True)\n",
        "\n",
        "# Here, we can see the absolute number of missing values per variable and the proportion so we can decide how to handle the missing values\n",
        "# Also visually presented, including the distribution."
      ],
      "execution_count": 17,
      "outputs": [
        {
          "output_type": "execute_result",
          "data": {
            "text/html": [
              "<div>\n",
              "<style scoped>\n",
              "    .dataframe tbody tr th:only-of-type {\n",
              "        vertical-align: middle;\n",
              "    }\n",
              "\n",
              "    .dataframe tbody tr th {\n",
              "        vertical-align: top;\n",
              "    }\n",
              "\n",
              "    .dataframe thead th {\n",
              "        text-align: right;\n",
              "    }\n",
              "</style>\n",
              "<table border=\"1\" class=\"dataframe\">\n",
              "  <thead>\n",
              "    <tr style=\"text-align: right;\">\n",
              "      <th></th>\n",
              "      <th>missing_value</th>\n",
              "      <th>%</th>\n",
              "    </tr>\n",
              "  </thead>\n",
              "  <tbody>\n",
              "    <tr>\n",
              "      <th>Invoice</th>\n",
              "      <td>0</td>\n",
              "      <td>0.00</td>\n",
              "    </tr>\n",
              "    <tr>\n",
              "      <th>StockCode</th>\n",
              "      <td>0</td>\n",
              "      <td>0.00</td>\n",
              "    </tr>\n",
              "    <tr>\n",
              "      <th>Description</th>\n",
              "      <td>4382</td>\n",
              "      <td>0.41</td>\n",
              "    </tr>\n",
              "    <tr>\n",
              "      <th>Quantity</th>\n",
              "      <td>0</td>\n",
              "      <td>0.00</td>\n",
              "    </tr>\n",
              "    <tr>\n",
              "      <th>InvoiceDate</th>\n",
              "      <td>0</td>\n",
              "      <td>0.00</td>\n",
              "    </tr>\n",
              "    <tr>\n",
              "      <th>Price</th>\n",
              "      <td>0</td>\n",
              "      <td>0.00</td>\n",
              "    </tr>\n",
              "    <tr>\n",
              "      <th>Customer ID</th>\n",
              "      <td>243007</td>\n",
              "      <td>22.77</td>\n",
              "    </tr>\n",
              "    <tr>\n",
              "      <th>Country</th>\n",
              "      <td>0</td>\n",
              "      <td>0.00</td>\n",
              "    </tr>\n",
              "  </tbody>\n",
              "</table>\n",
              "</div>"
            ],
            "text/plain": [
              "             missing_value      %\n",
              "Invoice                  0   0.00\n",
              "StockCode                0   0.00\n",
              "Description           4382   0.41\n",
              "Quantity                 0   0.00\n",
              "InvoiceDate              0   0.00\n",
              "Price                    0   0.00\n",
              "Customer ID         243007  22.77\n",
              "Country                  0   0.00"
            ]
          },
          "metadata": {
            "tags": []
          },
          "execution_count": 17
        },
        {
          "output_type": "display_data",
          "data": {
            "image/png": "[encoded data removed]",
            "text/plain": [
              "<Figure size 1080x576 with 1 Axes>"
            ]
          },
          "metadata": {
            "tags": []
          }
        }
      ]
    },
    {
      "cell_type": "code",
      "metadata": {
        "colab": {
          "base_uri": "https://localhost:8080/",
          "height": 297
        },
        "id": "Sxv3XibIS-Y7",
        "outputId": "1c0de653-c2d8-4ace-fb85-3c96b920b107"
      },
      "source": [
        "# Exploring the descriptives of the numerical features \n",
        "\n",
        "final_retail_data.describe()"
      ],
      "execution_count": 18,
      "outputs": [
        {
          "output_type": "execute_result",
          "data": {
            "text/html": [
              "<div>\n",
              "<style scoped>\n",
              "    .dataframe tbody tr th:only-of-type {\n",
              "        vertical-align: middle;\n",
              "    }\n",
              "\n",
              "    .dataframe tbody tr th {\n",
              "        vertical-align: top;\n",
              "    }\n",
              "\n",
              "    .dataframe thead th {\n",
              "        text-align: right;\n",
              "    }\n",
              "</style>\n",
              "<table border=\"1\" class=\"dataframe\">\n",
              "  <thead>\n",
              "    <tr style=\"text-align: right;\">\n",
              "      <th></th>\n",
              "      <th>Quantity</th>\n",
              "      <th>Price</th>\n",
              "      <th>Customer ID</th>\n",
              "    </tr>\n",
              "  </thead>\n",
              "  <tbody>\n",
              "    <tr>\n",
              "      <th>count</th>\n",
              "      <td>1.067371e+06</td>\n",
              "      <td>1.067371e+06</td>\n",
              "      <td>824364.000000</td>\n",
              "    </tr>\n",
              "    <tr>\n",
              "      <th>mean</th>\n",
              "      <td>9.938898e+00</td>\n",
              "      <td>4.649388e+00</td>\n",
              "      <td>15324.638504</td>\n",
              "    </tr>\n",
              "    <tr>\n",
              "      <th>std</th>\n",
              "      <td>1.727058e+02</td>\n",
              "      <td>1.235531e+02</td>\n",
              "      <td>1697.464450</td>\n",
              "    </tr>\n",
              "    <tr>\n",
              "      <th>min</th>\n",
              "      <td>-8.099500e+04</td>\n",
              "      <td>-5.359436e+04</td>\n",
              "      <td>12346.000000</td>\n",
              "    </tr>\n",
              "    <tr>\n",
              "      <th>25%</th>\n",
              "      <td>1.000000e+00</td>\n",
              "      <td>1.250000e+00</td>\n",
              "      <td>13975.000000</td>\n",
              "    </tr>\n",
              "    <tr>\n",
              "      <th>50%</th>\n",
              "      <td>3.000000e+00</td>\n",
              "      <td>2.100000e+00</td>\n",
              "      <td>15255.000000</td>\n",
              "    </tr>\n",
              "    <tr>\n",
              "      <th>75%</th>\n",
              "      <td>1.000000e+01</td>\n",
              "      <td>4.150000e+00</td>\n",
              "      <td>16797.000000</td>\n",
              "    </tr>\n",
              "    <tr>\n",
              "      <th>max</th>\n",
              "      <td>8.099500e+04</td>\n",
              "      <td>3.897000e+04</td>\n",
              "      <td>18287.000000</td>\n",
              "    </tr>\n",
              "  </tbody>\n",
              "</table>\n",
              "</div>"
            ],
            "text/plain": [
              "           Quantity         Price    Customer ID\n",
              "count  1.067371e+06  1.067371e+06  824364.000000\n",
              "mean   9.938898e+00  4.649388e+00   15324.638504\n",
              "std    1.727058e+02  1.235531e+02    1697.464450\n",
              "min   -8.099500e+04 -5.359436e+04   12346.000000\n",
              "25%    1.000000e+00  1.250000e+00   13975.000000\n",
              "50%    3.000000e+00  2.100000e+00   15255.000000\n",
              "75%    1.000000e+01  4.150000e+00   16797.000000\n",
              "max    8.099500e+04  3.897000e+04   18287.000000"
            ]
          },
          "metadata": {
            "tags": []
          },
          "execution_count": 18
        }
      ]
    },
    {
      "cell_type": "code",
      "metadata": {
        "colab": {
          "base_uri": "https://localhost:8080/"
        },
        "id": "c47KjVipUJsJ",
        "outputId": "3bd3f4e9-c474-4ca7-ccdc-78abcedb423c"
      },
      "source": [
        "# Exploring the outliers in the quantity variable\n",
        "\n",
        "Q1_quan = final_retail_data['Quantity'].quantile(0.25)\n",
        "Q3_quan = final_retail_data['Quantity'].quantile(0.75)\n",
        "\n",
        "IQR_quan = Q3_quan - Q1_quan\n",
        "\n",
        "LB_quan = float(Q1_quan) - (1.5 * IQR_quan)\n",
        "UB_quan = float(Q3_quan) + (1.5 * IQR_quan)\n",
        "\n",
        "print ('Q1 = {}'.format(Q1_quan))\n",
        "print ('Q3 = {}'.format(Q3_quan))\n",
        "\n",
        "print ('IQR = Q3 - Q1 = {}'.format(IQR_quan))\n",
        "print ('lower bound = Q1 - 1.5 * IGR = {}'.format(LB_quan))\n",
        "print ('upper bound = Q3 + 1.5 * IGR = {}'.format(UB_quan))"
      ],
      "execution_count": 19,
      "outputs": [
        {
          "output_type": "stream",
          "text": [
            "Q1 = 1.0\n",
            "Q3 = 10.0\n",
            "IQR = Q3 - Q1 = 9.0\n",
            "lower bound = Q1 - 1.5 * IGR = -12.5\n",
            "upper bound = Q3 + 1.5 * IGR = 23.5\n"
          ],
          "name": "stdout"
        }
      ]
    },
    {
      "cell_type": "code",
      "metadata": {
        "colab": {
          "base_uri": "https://localhost:8080/"
        },
        "id": "yqPI3OP_YQ4K",
        "outputId": "2f2b5008-ad15-46b4-fdcf-442a5fc16ea8"
      },
      "source": [
        "# Exploring the outliers in the price  \n",
        "\n",
        "Q1_price = final_retail_data['Price'].quantile(0.25)\n",
        "Q3_price = final_retail_data['Price'].quantile(0.75)\n",
        "\n",
        "IQR_price = Q3_price - Q1_price\n",
        "\n",
        "LB_price = float(Q1_price) - (1.5 * IQR_price)\n",
        "UB_price = float(Q3_price) + (1.5 * IQR_price)\n",
        "\n",
        "print ('Q1 = {}'.format(Q1_price))\n",
        "print ('Q3 = {}'.format(Q3_price))\n",
        "\n",
        "print ('IQR = Q3 - Q1 = {}'.format(IQR_price))\n",
        "print ('lower bound = Q1 - 1.5 * IQR = {}'.format(LB_price))\n",
        "print ('upper bound = Q1 - 1.5 * IQR = {}'.format(UB_price))"
      ],
      "execution_count": 21,
      "outputs": [
        {
          "output_type": "stream",
          "text": [
            "Q1 = 1.25\n",
            "Q3 = 4.15\n",
            "IQR = Q3 - Q1 = 2.9000000000000004\n",
            "lower bound = Q1 - 1.5 * IQR = -3.1000000000000005\n",
            "upper bound = Q1 - 1.5 * IQR = 8.5\n"
          ],
          "name": "stdout"
        }
      ]
    },
    {
      "cell_type": "code",
      "metadata": {
        "colab": {
          "base_uri": "https://localhost:8080/",
          "height": 316
        },
        "id": "3mUP_kN0Zvzg",
        "outputId": "3280fc54-6118-45ee-d3df-868b656c5819"
      },
      "source": [
        "# Plotting Quantity by Price\n",
        "\n",
        "sns.scatterplot(final_retail_data['Price'], final_retail_data['Quantity'])\n",
        "plt.title('Quantity by Price', fontsize = 12);"
      ],
      "execution_count": 22,
      "outputs": [
        {
          "output_type": "display_data",
          "data": {
            "image/png": "[encoded data removed]",
            "text/plain": [
              "<Figure size 432x288 with 1 Axes>"
            ]
          },
          "metadata": {
            "tags": []
          }
        }
      ]
    },
    {
      "cell_type": "code",
      "metadata": {
        "colab": {
          "base_uri": "https://localhost:8080/",
          "height": 321
        },
        "id": "gpNnUlZFauxN",
        "outputId": "824bfd05-19f7-465a-8c54-6f3321d0c83c"
      },
      "source": [
        "# Plotting the quantity by the price without the outliers\n",
        "\n",
        "dx = final_retail_data[final_retail_data['Quantity'] > 0]\n",
        "dy = final_retail_data[final_retail_data['Price'] > 0]\n",
        "\n",
        "filtered_quantity = dx.query('(@Q1_quan - 1.5 * @IQR_quan) <= Quantity <= (@Q3_quan + 1.5 * @IQR_quan)')\n",
        "\n",
        "filtered_price = dy.query('(@Q1_price - 1.5 * @IQR_price) <= Price <= (@Q3_price + 1.5 * @IQR_price)')\n",
        "\n",
        "filtered_quantity = filtered_quantity.reset_index(drop=True)\n",
        "filtered_price = filtered_price.reset_index(drop=True)\n",
        "\n",
        "sns.scatterplot(filtered_price['Price'], filtered_quantity['Quantity'])\n",
        "plt.title('Quantity x Price', fontsize = 20);"
      ],
      "execution_count": 23,
      "outputs": [
        {
          "output_type": "display_data",
          "data": {
            "image/png": "[encoded data removed]",
            "text/plain": [
              "<Figure size 432x288 with 1 Axes>"
            ]
          },
          "metadata": {
            "tags": []
          }
        }
      ]
    },
    {
      "cell_type": "code",
      "metadata": {
        "colab": {
          "base_uri": "https://localhost:8080/",
          "height": 334
        },
        "id": "btxwvU7SMb5J",
        "outputId": "9b9ac488-557a-4868-ccdc-57e73e077780"
      },
      "source": [
        "# Plotting the quantity by the price with an increased scope, considering some of the outliers\n",
        "# 1st quantile at 0.5 and the third quantile at 0.95\n",
        "\n",
        "Q1_quan_custom = final_retail_data['Quantity'].quantile(0.5)\n",
        "Q3_quan_custom = final_retail_data['Quantity'].quantile(0.95)\n",
        "IQR_quan_custom = Q3_quan_custom - Q1_quan_custom\n",
        "\n",
        "Q1_price_custom = final_retail_data['Price'].quantile(0.5)\n",
        "Q3_price_custom = final_retail_data['Price'].quantile(0.95)\n",
        "IQR_price_custom = Q3_price_custom - Q1_price_custom\n",
        "\n",
        "dx = final_retail_data[final_retail_data['Quantity'] > 0]\n",
        "dy = final_retail_data[final_retail_data['Price'] > 0]\n",
        "\n",
        "filtered_quantity = dx.query('(@Q1_quan_custom - 1.5 * @IQR_quan_custom) <= Quantity <= (@Q3_quan_custom + 1.5 * @IQR_quan_custom)')\n",
        "filtered_price = dy.query('(@Q1_price_custom - 1.5 * @IQR_quan_custom) <= Price <= (@Q3_price_custom + 1.5 * @IQR_price_custom)')\n",
        "\n",
        "filtered_quantity = filtered_quantity.reset_index(drop = True)\n",
        "filtered_price = filtered_price.reset_index(drop = True)\n",
        "\n",
        "sns.scatterplot(filtered_price['Price'], filtered_quantity['Quantity'])\n",
        "plt.title('Quantity x Price', fontsize = 12)"
      ],
      "execution_count": 24,
      "outputs": [
        {
          "output_type": "execute_result",
          "data": {
            "text/plain": [
              "Text(0.5, 1.0, 'Quantity x Price')"
            ]
          },
          "metadata": {
            "tags": []
          },
          "execution_count": 24
        },
        {
          "output_type": "display_data",
          "data": {
            "image/png": "[encoded data removed]",
            "text/plain": [
              "<Figure size 432x288 with 1 Axes>"
            ]
          },
          "metadata": {
            "tags": []
          }
        }
      ]
    },
    {
      "cell_type": "code",
      "metadata": {
        "colab": {
          "base_uri": "https://localhost:8080/",
          "height": 311
        },
        "id": "zc9lKK8jRMSI",
        "outputId": "f19d32d7-7f76-4a0f-f14f-0b2ff61a03a8"
      },
      "source": [
        "# Distribution of quantity \n",
        "\n",
        "sns.distplot(final_retail_data['Quantity'])\n",
        "plt.title('Distribution of Quantity', fontsize = 12)\n",
        "plt.xlabel('Quantity', fontsize = 12)\n",
        "plt.ylabel('Count', fontsize = 12)\n",
        "plt.show()"
      ],
      "execution_count": 32,
      "outputs": [
        {
          "output_type": "display_data",
          "data": {
            "image/png": "[encoded data removed]",
            "text/plain": [
              "<Figure size 432x288 with 1 Axes>"
            ]
          },
          "metadata": {
            "tags": []
          }
        }
      ]
    },
    {
      "cell_type": "code",
      "metadata": {
        "colab": {
          "base_uri": "https://localhost:8080/",
          "height": 311
        },
        "id": "7JULgSxBRuMu",
        "outputId": "c9bd9311-4493-49c0-97c4-d40528d11a07"
      },
      "source": [
        "# Distribution of the price \n",
        "\n",
        "sns.distplot(final_retail_data['Price'])\n",
        "plt.title('Distribution of Price', fontsize = 12)\n",
        "plt.xlabel('Price', fontsize = 12)\n",
        "plt.ylabel('Count', fontsize = 12)\n",
        "plt.show()"
      ],
      "execution_count": 31,
      "outputs": [
        {
          "output_type": "display_data",
          "data": {
            "image/png": "[encoded data removed]",
            "text/plain": [
              "<Figure size 432x288 with 1 Axes>"
            ]
          },
          "metadata": {
            "tags": []
          }
        }
      ]
    },
    {
      "cell_type": "code",
      "metadata": {
        "colab": {
          "base_uri": "https://localhost:8080/",
          "height": 329
        },
        "id": "NZghmYacSFo8",
        "outputId": "2d2cd6df-9c84-49da-a1c8-c9b8a32a76e7"
      },
      "source": [
        "# Top 5[any number] of countries of customers \n",
        "\n",
        "x = final_retail_data['Country'].value_counts().head(5)\n",
        "sns.barplot(x = x.values, y = x.index, )\n",
        "plt.title('Top 5 countries', fontsize = 12)\n",
        "plt.xlabel('Count', fontsize = 12)\n",
        "plt.ylabel('Country Name', fontsize= 12)"
      ],
      "execution_count": 30,
      "outputs": [
        {
          "output_type": "execute_result",
          "data": {
            "text/plain": [
              "Text(0, 0.5, 'Country Name')"
            ]
          },
          "metadata": {
            "tags": []
          },
          "execution_count": 30
        },
        {
          "output_type": "display_data",
          "data": {
            "image/png": "[encoded data removed]",
            "text/plain": [
              "<Figure size 432x288 with 1 Axes>"
            ]
          },
          "metadata": {
            "tags": []
          }
        }
      ]
    },
    {
      "cell_type": "code",
      "metadata": {
        "colab": {
          "base_uri": "https://localhost:8080/",
          "height": 1000
        },
        "id": "aQRwXA6VTQ-K",
        "outputId": "cf88475a-4061-4e22-c975-9a3cc2d7c460"
      },
      "source": [
        "# Listing out the distribution of customers by country \n",
        "\n",
        "x = final_retail_data['Country'].nunique()\n",
        "print ('Total customer per country {}'.format(x))\n",
        "\n",
        "country = pd.DataFrame(final_retail_data['Country'].value_counts()).reset_index()\n",
        "\n",
        "country.columns = ['Country', 'Number of Customers']\n",
        "country"
      ],
      "execution_count": 33,
      "outputs": [
        {
          "output_type": "stream",
          "text": [
            "Total customer per country 43\n"
          ],
          "name": "stdout"
        },
        {
          "output_type": "execute_result",
          "data": {
            "text/html": [
              "<div>\n",
              "<style scoped>\n",
              "    .dataframe tbody tr th:only-of-type {\n",
              "        vertical-align: middle;\n",
              "    }\n",
              "\n",
              "    .dataframe tbody tr th {\n",
              "        vertical-align: top;\n",
              "    }\n",
              "\n",
              "    .dataframe thead th {\n",
              "        text-align: right;\n",
              "    }\n",
              "</style>\n",
              "<table border=\"1\" class=\"dataframe\">\n",
              "  <thead>\n",
              "    <tr style=\"text-align: right;\">\n",
              "      <th></th>\n",
              "      <th>Country</th>\n",
              "      <th>Number of Customers</th>\n",
              "    </tr>\n",
              "  </thead>\n",
              "  <tbody>\n",
              "    <tr>\n",
              "      <th>0</th>\n",
              "      <td>United Kingdom</td>\n",
              "      <td>981330</td>\n",
              "    </tr>\n",
              "    <tr>\n",
              "      <th>1</th>\n",
              "      <td>EIRE</td>\n",
              "      <td>17866</td>\n",
              "    </tr>\n",
              "    <tr>\n",
              "      <th>2</th>\n",
              "      <td>Germany</td>\n",
              "      <td>17624</td>\n",
              "    </tr>\n",
              "    <tr>\n",
              "      <th>3</th>\n",
              "      <td>France</td>\n",
              "      <td>14330</td>\n",
              "    </tr>\n",
              "    <tr>\n",
              "      <th>4</th>\n",
              "      <td>Netherlands</td>\n",
              "      <td>5140</td>\n",
              "    </tr>\n",
              "    <tr>\n",
              "      <th>5</th>\n",
              "      <td>Spain</td>\n",
              "      <td>3811</td>\n",
              "    </tr>\n",
              "    <tr>\n",
              "      <th>6</th>\n",
              "      <td>Switzerland</td>\n",
              "      <td>3189</td>\n",
              "    </tr>\n",
              "    <tr>\n",
              "      <th>7</th>\n",
              "      <td>Belgium</td>\n",
              "      <td>3123</td>\n",
              "    </tr>\n",
              "    <tr>\n",
              "      <th>8</th>\n",
              "      <td>Portugal</td>\n",
              "      <td>2620</td>\n",
              "    </tr>\n",
              "    <tr>\n",
              "      <th>9</th>\n",
              "      <td>Australia</td>\n",
              "      <td>1913</td>\n",
              "    </tr>\n",
              "    <tr>\n",
              "      <th>10</th>\n",
              "      <td>Channel Islands</td>\n",
              "      <td>1664</td>\n",
              "    </tr>\n",
              "    <tr>\n",
              "      <th>11</th>\n",
              "      <td>Italy</td>\n",
              "      <td>1534</td>\n",
              "    </tr>\n",
              "    <tr>\n",
              "      <th>12</th>\n",
              "      <td>Norway</td>\n",
              "      <td>1455</td>\n",
              "    </tr>\n",
              "    <tr>\n",
              "      <th>13</th>\n",
              "      <td>Sweden</td>\n",
              "      <td>1364</td>\n",
              "    </tr>\n",
              "    <tr>\n",
              "      <th>14</th>\n",
              "      <td>Cyprus</td>\n",
              "      <td>1176</td>\n",
              "    </tr>\n",
              "    <tr>\n",
              "      <th>15</th>\n",
              "      <td>Finland</td>\n",
              "      <td>1049</td>\n",
              "    </tr>\n",
              "    <tr>\n",
              "      <th>16</th>\n",
              "      <td>Austria</td>\n",
              "      <td>938</td>\n",
              "    </tr>\n",
              "    <tr>\n",
              "      <th>17</th>\n",
              "      <td>Denmark</td>\n",
              "      <td>817</td>\n",
              "    </tr>\n",
              "    <tr>\n",
              "      <th>18</th>\n",
              "      <td>Unspecified</td>\n",
              "      <td>756</td>\n",
              "    </tr>\n",
              "    <tr>\n",
              "      <th>19</th>\n",
              "      <td>Greece</td>\n",
              "      <td>663</td>\n",
              "    </tr>\n",
              "    <tr>\n",
              "      <th>20</th>\n",
              "      <td>Japan</td>\n",
              "      <td>582</td>\n",
              "    </tr>\n",
              "    <tr>\n",
              "      <th>21</th>\n",
              "      <td>Poland</td>\n",
              "      <td>535</td>\n",
              "    </tr>\n",
              "    <tr>\n",
              "      <th>22</th>\n",
              "      <td>USA</td>\n",
              "      <td>535</td>\n",
              "    </tr>\n",
              "    <tr>\n",
              "      <th>23</th>\n",
              "      <td>United Arab Emirates</td>\n",
              "      <td>500</td>\n",
              "    </tr>\n",
              "    <tr>\n",
              "      <th>24</th>\n",
              "      <td>Israel</td>\n",
              "      <td>371</td>\n",
              "    </tr>\n",
              "    <tr>\n",
              "      <th>25</th>\n",
              "      <td>Hong Kong</td>\n",
              "      <td>364</td>\n",
              "    </tr>\n",
              "    <tr>\n",
              "      <th>26</th>\n",
              "      <td>Singapore</td>\n",
              "      <td>346</td>\n",
              "    </tr>\n",
              "    <tr>\n",
              "      <th>27</th>\n",
              "      <td>Malta</td>\n",
              "      <td>299</td>\n",
              "    </tr>\n",
              "    <tr>\n",
              "      <th>28</th>\n",
              "      <td>Iceland</td>\n",
              "      <td>253</td>\n",
              "    </tr>\n",
              "    <tr>\n",
              "      <th>29</th>\n",
              "      <td>Canada</td>\n",
              "      <td>228</td>\n",
              "    </tr>\n",
              "    <tr>\n",
              "      <th>30</th>\n",
              "      <td>Lithuania</td>\n",
              "      <td>189</td>\n",
              "    </tr>\n",
              "    <tr>\n",
              "      <th>31</th>\n",
              "      <td>RSA</td>\n",
              "      <td>169</td>\n",
              "    </tr>\n",
              "    <tr>\n",
              "      <th>32</th>\n",
              "      <td>Bahrain</td>\n",
              "      <td>126</td>\n",
              "    </tr>\n",
              "    <tr>\n",
              "      <th>33</th>\n",
              "      <td>Brazil</td>\n",
              "      <td>94</td>\n",
              "    </tr>\n",
              "    <tr>\n",
              "      <th>34</th>\n",
              "      <td>Thailand</td>\n",
              "      <td>76</td>\n",
              "    </tr>\n",
              "    <tr>\n",
              "      <th>35</th>\n",
              "      <td>Korea</td>\n",
              "      <td>63</td>\n",
              "    </tr>\n",
              "    <tr>\n",
              "      <th>36</th>\n",
              "      <td>European Community</td>\n",
              "      <td>61</td>\n",
              "    </tr>\n",
              "    <tr>\n",
              "      <th>37</th>\n",
              "      <td>Lebanon</td>\n",
              "      <td>58</td>\n",
              "    </tr>\n",
              "    <tr>\n",
              "      <th>38</th>\n",
              "      <td>West Indies</td>\n",
              "      <td>54</td>\n",
              "    </tr>\n",
              "    <tr>\n",
              "      <th>39</th>\n",
              "      <td>Bermuda</td>\n",
              "      <td>34</td>\n",
              "    </tr>\n",
              "    <tr>\n",
              "      <th>40</th>\n",
              "      <td>Nigeria</td>\n",
              "      <td>32</td>\n",
              "    </tr>\n",
              "    <tr>\n",
              "      <th>41</th>\n",
              "      <td>Czech Republic</td>\n",
              "      <td>30</td>\n",
              "    </tr>\n",
              "    <tr>\n",
              "      <th>42</th>\n",
              "      <td>Saudi Arabia</td>\n",
              "      <td>10</td>\n",
              "    </tr>\n",
              "  </tbody>\n",
              "</table>\n",
              "</div>"
            ],
            "text/plain": [
              "                 Country  Number of Customers\n",
              "0         United Kingdom               981330\n",
              "1                   EIRE                17866\n",
              "2                Germany                17624\n",
              "3                 France                14330\n",
              "4            Netherlands                 5140\n",
              "5                  Spain                 3811\n",
              "6            Switzerland                 3189\n",
              "7                Belgium                 3123\n",
              "8               Portugal                 2620\n",
              "9              Australia                 1913\n",
              "10       Channel Islands                 1664\n",
              "11                 Italy                 1534\n",
              "12                Norway                 1455\n",
              "13                Sweden                 1364\n",
              "14                Cyprus                 1176\n",
              "15               Finland                 1049\n",
              "16               Austria                  938\n",
              "17               Denmark                  817\n",
              "18           Unspecified                  756\n",
              "19                Greece                  663\n",
              "20                 Japan                  582\n",
              "21                Poland                  535\n",
              "22                   USA                  535\n",
              "23  United Arab Emirates                  500\n",
              "24                Israel                  371\n",
              "25             Hong Kong                  364\n",
              "26             Singapore                  346\n",
              "27                 Malta                  299\n",
              "28               Iceland                  253\n",
              "29                Canada                  228\n",
              "30             Lithuania                  189\n",
              "31                   RSA                  169\n",
              "32               Bahrain                  126\n",
              "33                Brazil                   94\n",
              "34              Thailand                   76\n",
              "35                 Korea                   63\n",
              "36    European Community                   61\n",
              "37               Lebanon                   58\n",
              "38           West Indies                   54\n",
              "39               Bermuda                   34\n",
              "40               Nigeria                   32\n",
              "41        Czech Republic                   30\n",
              "42          Saudi Arabia                   10"
            ]
          },
          "metadata": {
            "tags": []
          },
          "execution_count": 33
        }
      ]
    },
    {
      "cell_type": "code",
      "metadata": {
        "colab": {
          "base_uri": "https://localhost:8080/",
          "height": 204
        },
        "id": "6VvPEYC0NeaU",
        "outputId": "0571ebb8-58cf-44a7-f71d-47c004f26773"
      },
      "source": [
        "# Dropping the observations with missing values \n",
        "\n",
        "final_retail_data = final_retail_data.dropna()\n",
        "\n",
        "final_retail_data.head()"
      ],
      "execution_count": 34,
      "outputs": [
        {
          "output_type": "execute_result",
          "data": {
            "text/html": [
              "<div>\n",
              "<style scoped>\n",
              "    .dataframe tbody tr th:only-of-type {\n",
              "        vertical-align: middle;\n",
              "    }\n",
              "\n",
              "    .dataframe tbody tr th {\n",
              "        vertical-align: top;\n",
              "    }\n",
              "\n",
              "    .dataframe thead th {\n",
              "        text-align: right;\n",
              "    }\n",
              "</style>\n",
              "<table border=\"1\" class=\"dataframe\">\n",
              "  <thead>\n",
              "    <tr style=\"text-align: right;\">\n",
              "      <th></th>\n",
              "      <th>Invoice</th>\n",
              "      <th>StockCode</th>\n",
              "      <th>Description</th>\n",
              "      <th>Quantity</th>\n",
              "      <th>InvoiceDate</th>\n",
              "      <th>Price</th>\n",
              "      <th>Customer ID</th>\n",
              "      <th>Country</th>\n",
              "    </tr>\n",
              "  </thead>\n",
              "  <tbody>\n",
              "    <tr>\n",
              "      <th>0</th>\n",
              "      <td>489434</td>\n",
              "      <td>85048</td>\n",
              "      <td>15CM CHRISTMAS GLASS BALL 20 LIGHTS</td>\n",
              "      <td>12</td>\n",
              "      <td>2009-12-01 07:45:00</td>\n",
              "      <td>6.95</td>\n",
              "      <td>13085.0</td>\n",
              "      <td>United Kingdom</td>\n",
              "    </tr>\n",
              "    <tr>\n",
              "      <th>1</th>\n",
              "      <td>489434</td>\n",
              "      <td>79323P</td>\n",
              "      <td>PINK CHERRY LIGHTS</td>\n",
              "      <td>12</td>\n",
              "      <td>2009-12-01 07:45:00</td>\n",
              "      <td>6.75</td>\n",
              "      <td>13085.0</td>\n",
              "      <td>United Kingdom</td>\n",
              "    </tr>\n",
              "    <tr>\n",
              "      <th>2</th>\n",
              "      <td>489434</td>\n",
              "      <td>79323W</td>\n",
              "      <td>WHITE CHERRY LIGHTS</td>\n",
              "      <td>12</td>\n",
              "      <td>2009-12-01 07:45:00</td>\n",
              "      <td>6.75</td>\n",
              "      <td>13085.0</td>\n",
              "      <td>United Kingdom</td>\n",
              "    </tr>\n",
              "    <tr>\n",
              "      <th>3</th>\n",
              "      <td>489434</td>\n",
              "      <td>22041</td>\n",
              "      <td>RECORD FRAME 7\" SINGLE SIZE</td>\n",
              "      <td>48</td>\n",
              "      <td>2009-12-01 07:45:00</td>\n",
              "      <td>2.10</td>\n",
              "      <td>13085.0</td>\n",
              "      <td>United Kingdom</td>\n",
              "    </tr>\n",
              "    <tr>\n",
              "      <th>4</th>\n",
              "      <td>489434</td>\n",
              "      <td>21232</td>\n",
              "      <td>STRAWBERRY CERAMIC TRINKET BOX</td>\n",
              "      <td>24</td>\n",
              "      <td>2009-12-01 07:45:00</td>\n",
              "      <td>1.25</td>\n",
              "      <td>13085.0</td>\n",
              "      <td>United Kingdom</td>\n",
              "    </tr>\n",
              "  </tbody>\n",
              "</table>\n",
              "</div>"
            ],
            "text/plain": [
              "  Invoice StockCode  ... Customer ID         Country\n",
              "0  489434     85048  ...     13085.0  United Kingdom\n",
              "1  489434    79323P  ...     13085.0  United Kingdom\n",
              "2  489434    79323W  ...     13085.0  United Kingdom\n",
              "3  489434     22041  ...     13085.0  United Kingdom\n",
              "4  489434     21232  ...     13085.0  United Kingdom\n",
              "\n",
              "[5 rows x 8 columns]"
            ]
          },
          "metadata": {
            "tags": []
          },
          "execution_count": 34
        }
      ]
    },
    {
      "cell_type": "code",
      "metadata": {
        "colab": {
          "base_uri": "https://localhost:8080/"
        },
        "id": "A0gRI4udN1tK",
        "outputId": "23700fd6-21a1-422a-db86-21fa1344aa52"
      },
      "source": [
        "# Dimensions of the remaining observations without observations with missing values\n",
        "\n",
        "final_retail_data.shape"
      ],
      "execution_count": 35,
      "outputs": [
        {
          "output_type": "execute_result",
          "data": {
            "text/plain": [
              "(824364, 8)"
            ]
          },
          "metadata": {
            "tags": []
          },
          "execution_count": 35
        }
      ]
    },
    {
      "cell_type": "code",
      "metadata": {
        "colab": {
          "base_uri": "https://localhost:8080/"
        },
        "id": "Vnbwat1hPGen",
        "outputId": "805d4a54-a03b-4711-c33e-ab83db359c84"
      },
      "source": [
        "# Checking the unique categories of the invoice variable\n",
        "\n",
        "final_retail_data['Invoice'].unique().shape\n",
        "\n",
        "# Inference, 44876 unique invoices in the whole dataset, which implies that the dataset focuses on the items purchased per individual\n",
        "# A sampling can be done by invoice"
      ],
      "execution_count": 36,
      "outputs": [
        {
          "output_type": "execute_result",
          "data": {
            "text/plain": [
              "(44876,)"
            ]
          },
          "metadata": {
            "tags": []
          },
          "execution_count": 36
        }
      ]
    },
    {
      "cell_type": "code",
      "metadata": {
        "colab": {
          "base_uri": "https://localhost:8080/"
        },
        "id": "9fAQmVMWRFOG",
        "outputId": "b2f12150-e750-44ee-ecdb-7bf37da230a1"
      },
      "source": [
        "# Exploring the unique customer, through the customer ID\n",
        "\n",
        "final_retail_data['Customer ID'].unique().shape\n",
        "\n",
        "# Inference, there are 5942 unique customers who have purchased various items 44876 times in total\n",
        "# A sampling can done by customer as well"
      ],
      "execution_count": 37,
      "outputs": [
        {
          "output_type": "execute_result",
          "data": {
            "text/plain": [
              "(5942,)"
            ]
          },
          "metadata": {
            "tags": []
          },
          "execution_count": 37
        }
      ]
    },
    {
      "cell_type": "code",
      "metadata": {
        "colab": {
          "base_uri": "https://localhost:8080/"
        },
        "id": "s2bLJwN0RDjy",
        "outputId": "d18be8c5-be76-4464-c070-0ca4820abe9f"
      },
      "source": [
        "# Exploring the unique invoices that have had the associated payments made \n",
        "\n",
        "final_retail_data['InvoiceDate'].unique().shape\n",
        "\n",
        "# Inference, overall, 41439 of 44876 invoices have been paid. \n",
        "# Leaving 3437 invoices yet to be paid"
      ],
      "execution_count": 38,
      "outputs": [
        {
          "output_type": "execute_result",
          "data": {
            "text/plain": [
              "(41439,)"
            ]
          },
          "metadata": {
            "tags": []
          },
          "execution_count": 38
        }
      ]
    },
    {
      "cell_type": "code",
      "metadata": {
        "colab": {
          "base_uri": "https://localhost:8080/"
        },
        "id": "1Cy_HysvRma-",
        "outputId": "bf74a4ab-e854-4368-d4b1-53ae0944aa51"
      },
      "source": [
        "# Checking the unique identifier for the items purchased\n",
        "\n",
        "final_retail_data['StockCode'].unique().shape\n",
        "\n",
        "# Inference, overall, there are about 4646 unique items that have been purchased by the customers "
      ],
      "execution_count": 39,
      "outputs": [
        {
          "output_type": "execute_result",
          "data": {
            "text/plain": [
              "(4646,)"
            ]
          },
          "metadata": {
            "tags": []
          },
          "execution_count": 39
        }
      ]
    },
    {
      "cell_type": "code",
      "metadata": {
        "colab": {
          "base_uri": "https://localhost:8080/"
        },
        "id": "ze6vBlvVaUW2",
        "outputId": "9e1a1909-e116-4e62-812a-f4dcbad5eb66"
      },
      "source": [
        "# checking the distribution of the date variable\n",
        "\n",
        "final_retail_data.InvoiceDate.describe(datetime_is_numeric=True)\n",
        "\n",
        "# Inference, overall, the dataset is distributed between 1st December 2009 and 9th December 2011"
      ],
      "execution_count": 40,
      "outputs": [
        {
          "output_type": "execute_result",
          "data": {
            "text/plain": [
              "count                           824364\n",
              "mean     2011-01-01 22:29:28.041644288\n",
              "min                2009-12-01 07:45:00\n",
              "25%                2010-07-06 11:58:00\n",
              "50%                2010-12-03 14:26:00\n",
              "75%                2011-07-27 15:14:00\n",
              "max                2011-12-09 12:50:00\n",
              "Name: InvoiceDate, dtype: object"
            ]
          },
          "metadata": {
            "tags": []
          },
          "execution_count": 40
        }
      ]
    },
    {
      "cell_type": "code",
      "metadata": {
        "colab": {
          "base_uri": "https://localhost:8080/",
          "height": 204
        },
        "id": "eRmtE0QC4iLA",
        "outputId": "d007458a-1f51-4ef0-dd51-a54e3c77584a"
      },
      "source": [
        "# Sorting the dataset by quantity to see the observations with the highest quantity\n",
        "\n",
        "final_retail_data.sort_values('Quantity', ascending=False).head() \n",
        "\n",
        "# You can switch out the head with \"tail\" to see the observations with the lowest quantity or even negative quantities. \n",
        "# In the brackets, you can input numbers to choose how many observations to be displayed"
      ],
      "execution_count": 41,
      "outputs": [
        {
          "output_type": "execute_result",
          "data": {
            "text/html": [
              "<div>\n",
              "<style scoped>\n",
              "    .dataframe tbody tr th:only-of-type {\n",
              "        vertical-align: middle;\n",
              "    }\n",
              "\n",
              "    .dataframe tbody tr th {\n",
              "        vertical-align: top;\n",
              "    }\n",
              "\n",
              "    .dataframe thead th {\n",
              "        text-align: right;\n",
              "    }\n",
              "</style>\n",
              "<table border=\"1\" class=\"dataframe\">\n",
              "  <thead>\n",
              "    <tr style=\"text-align: right;\">\n",
              "      <th></th>\n",
              "      <th>Invoice</th>\n",
              "      <th>StockCode</th>\n",
              "      <th>Description</th>\n",
              "      <th>Quantity</th>\n",
              "      <th>InvoiceDate</th>\n",
              "      <th>Price</th>\n",
              "      <th>Customer ID</th>\n",
              "      <th>Country</th>\n",
              "    </tr>\n",
              "  </thead>\n",
              "  <tbody>\n",
              "    <tr>\n",
              "      <th>540421</th>\n",
              "      <td>581483</td>\n",
              "      <td>23843</td>\n",
              "      <td>PAPER CRAFT , LITTLE BIRDIE</td>\n",
              "      <td>80995</td>\n",
              "      <td>2011-12-09 09:15:00</td>\n",
              "      <td>2.08</td>\n",
              "      <td>16446.0</td>\n",
              "      <td>United Kingdom</td>\n",
              "    </tr>\n",
              "    <tr>\n",
              "      <th>61619</th>\n",
              "      <td>541431</td>\n",
              "      <td>23166</td>\n",
              "      <td>MEDIUM CERAMIC TOP STORAGE JAR</td>\n",
              "      <td>74215</td>\n",
              "      <td>2011-01-18 10:01:00</td>\n",
              "      <td>1.04</td>\n",
              "      <td>12346.0</td>\n",
              "      <td>United Kingdom</td>\n",
              "    </tr>\n",
              "    <tr>\n",
              "      <th>90857</th>\n",
              "      <td>497946</td>\n",
              "      <td>37410</td>\n",
              "      <td>BLACK AND WHITE PAISLEY FLOWER MUG</td>\n",
              "      <td>19152</td>\n",
              "      <td>2010-02-15 11:57:00</td>\n",
              "      <td>0.10</td>\n",
              "      <td>13902.0</td>\n",
              "      <td>Denmark</td>\n",
              "    </tr>\n",
              "    <tr>\n",
              "      <th>127168</th>\n",
              "      <td>501534</td>\n",
              "      <td>21091</td>\n",
              "      <td>SET/6 WOODLAND PAPER PLATES</td>\n",
              "      <td>12960</td>\n",
              "      <td>2010-03-17 13:09:00</td>\n",
              "      <td>0.10</td>\n",
              "      <td>13902.0</td>\n",
              "      <td>Denmark</td>\n",
              "    </tr>\n",
              "    <tr>\n",
              "      <th>127166</th>\n",
              "      <td>501534</td>\n",
              "      <td>21099</td>\n",
              "      <td>SET/6 STRAWBERRY PAPER CUPS</td>\n",
              "      <td>12960</td>\n",
              "      <td>2010-03-17 13:09:00</td>\n",
              "      <td>0.10</td>\n",
              "      <td>13902.0</td>\n",
              "      <td>Denmark</td>\n",
              "    </tr>\n",
              "  </tbody>\n",
              "</table>\n",
              "</div>"
            ],
            "text/plain": [
              "       Invoice StockCode  ... Customer ID         Country\n",
              "540421  581483     23843  ...     16446.0  United Kingdom\n",
              "61619   541431     23166  ...     12346.0  United Kingdom\n",
              "90857   497946     37410  ...     13902.0         Denmark\n",
              "127168  501534     21091  ...     13902.0         Denmark\n",
              "127166  501534     21099  ...     13902.0         Denmark\n",
              "\n",
              "[5 rows x 8 columns]"
            ]
          },
          "metadata": {
            "tags": []
          },
          "execution_count": 41
        }
      ]
    },
    {
      "cell_type": "code",
      "metadata": {
        "colab": {
          "base_uri": "https://localhost:8080/",
          "height": 204
        },
        "id": "aax0eNH_4i8X",
        "outputId": "78708fc8-4fd1-4aab-fb20-8fd0941dc1ef"
      },
      "source": [
        "# Sorting the dataset by quantity to see the observations with the lowest (negative) quantity\n",
        "\n",
        "final_retail_data.sort_values('Quantity', ascending=False).tail() \n",
        "\n",
        "# In the brackets, you can input numbers to choose how many observations to be displayed"
      ],
      "execution_count": 42,
      "outputs": [
        {
          "output_type": "execute_result",
          "data": {
            "text/html": [
              "<div>\n",
              "<style scoped>\n",
              "    .dataframe tbody tr th:only-of-type {\n",
              "        vertical-align: middle;\n",
              "    }\n",
              "\n",
              "    .dataframe tbody tr th {\n",
              "        vertical-align: top;\n",
              "    }\n",
              "\n",
              "    .dataframe thead th {\n",
              "        text-align: right;\n",
              "    }\n",
              "</style>\n",
              "<table border=\"1\" class=\"dataframe\">\n",
              "  <thead>\n",
              "    <tr style=\"text-align: right;\">\n",
              "      <th></th>\n",
              "      <th>Invoice</th>\n",
              "      <th>StockCode</th>\n",
              "      <th>Description</th>\n",
              "      <th>Quantity</th>\n",
              "      <th>InvoiceDate</th>\n",
              "      <th>Price</th>\n",
              "      <th>Customer ID</th>\n",
              "      <th>Country</th>\n",
              "    </tr>\n",
              "  </thead>\n",
              "  <tbody>\n",
              "    <tr>\n",
              "      <th>359669</th>\n",
              "      <td>C524235</td>\n",
              "      <td>21088</td>\n",
              "      <td>SET/6 FRUIT SALAD PAPER CUPS</td>\n",
              "      <td>-7128</td>\n",
              "      <td>2010-09-28 11:02:00</td>\n",
              "      <td>0.08</td>\n",
              "      <td>14277.0</td>\n",
              "      <td>France</td>\n",
              "    </tr>\n",
              "    <tr>\n",
              "      <th>4268</th>\n",
              "      <td>C536757</td>\n",
              "      <td>84347</td>\n",
              "      <td>ROTATING SILVER ANGELS T-LIGHT HLDR</td>\n",
              "      <td>-9360</td>\n",
              "      <td>2010-12-02 14:23:00</td>\n",
              "      <td>0.03</td>\n",
              "      <td>15838.0</td>\n",
              "      <td>United Kingdom</td>\n",
              "    </tr>\n",
              "    <tr>\n",
              "      <th>507225</th>\n",
              "      <td>C536757</td>\n",
              "      <td>84347</td>\n",
              "      <td>ROTATING SILVER ANGELS T-LIGHT HLDR</td>\n",
              "      <td>-9360</td>\n",
              "      <td>2010-12-02 14:23:00</td>\n",
              "      <td>0.03</td>\n",
              "      <td>15838.0</td>\n",
              "      <td>United Kingdom</td>\n",
              "    </tr>\n",
              "    <tr>\n",
              "      <th>61624</th>\n",
              "      <td>C541433</td>\n",
              "      <td>23166</td>\n",
              "      <td>MEDIUM CERAMIC TOP STORAGE JAR</td>\n",
              "      <td>-74215</td>\n",
              "      <td>2011-01-18 10:17:00</td>\n",
              "      <td>1.04</td>\n",
              "      <td>12346.0</td>\n",
              "      <td>United Kingdom</td>\n",
              "    </tr>\n",
              "    <tr>\n",
              "      <th>540422</th>\n",
              "      <td>C581484</td>\n",
              "      <td>23843</td>\n",
              "      <td>PAPER CRAFT , LITTLE BIRDIE</td>\n",
              "      <td>-80995</td>\n",
              "      <td>2011-12-09 09:27:00</td>\n",
              "      <td>2.08</td>\n",
              "      <td>16446.0</td>\n",
              "      <td>United Kingdom</td>\n",
              "    </tr>\n",
              "  </tbody>\n",
              "</table>\n",
              "</div>"
            ],
            "text/plain": [
              "        Invoice StockCode  ... Customer ID         Country\n",
              "359669  C524235     21088  ...     14277.0          France\n",
              "4268    C536757     84347  ...     15838.0  United Kingdom\n",
              "507225  C536757     84347  ...     15838.0  United Kingdom\n",
              "61624   C541433     23166  ...     12346.0  United Kingdom\n",
              "540422  C581484     23843  ...     16446.0  United Kingdom\n",
              "\n",
              "[5 rows x 8 columns]"
            ]
          },
          "metadata": {
            "tags": []
          },
          "execution_count": 42
        }
      ]
    },
    {
      "cell_type": "code",
      "metadata": {
        "colab": {
          "base_uri": "https://localhost:8080/"
        },
        "id": "Hcv2xu1s4nZq",
        "outputId": "d71677b8-1cf1-422b-e68d-a7b5ff360c19"
      },
      "source": [
        "# Filtering out the obserrvations with negative quantities and exploring the dimensions\n",
        "\n",
        "final_retail_data[final_retail_data['Quantity'] < 0].shape\n",
        "\n",
        "# Inference, overall, there are 18744 observations with negative items purchased. \n",
        "# This could implies item returns"
      ],
      "execution_count": 43,
      "outputs": [
        {
          "output_type": "execute_result",
          "data": {
            "text/plain": [
              "(18744, 8)"
            ]
          },
          "metadata": {
            "tags": []
          },
          "execution_count": 43
        }
      ]
    },
    {
      "cell_type": "code",
      "metadata": {
        "colab": {
          "base_uri": "https://localhost:8080/",
          "height": 419
        },
        "id": "nFVoBJuh75tD",
        "outputId": "f0d520ae-0616-4670-ef31-a97399011367"
      },
      "source": [
        "# Mapping the transactions with negative quantities to a dataframe\n",
        "\n",
        "negative_quantity = final_retail_data[final_retail_data['Quantity'] < 0]\n",
        "\n",
        "negative_quantity"
      ],
      "execution_count": 44,
      "outputs": [
        {
          "output_type": "execute_result",
          "data": {
            "text/html": [
              "<div>\n",
              "<style scoped>\n",
              "    .dataframe tbody tr th:only-of-type {\n",
              "        vertical-align: middle;\n",
              "    }\n",
              "\n",
              "    .dataframe tbody tr th {\n",
              "        vertical-align: top;\n",
              "    }\n",
              "\n",
              "    .dataframe thead th {\n",
              "        text-align: right;\n",
              "    }\n",
              "</style>\n",
              "<table border=\"1\" class=\"dataframe\">\n",
              "  <thead>\n",
              "    <tr style=\"text-align: right;\">\n",
              "      <th></th>\n",
              "      <th>Invoice</th>\n",
              "      <th>StockCode</th>\n",
              "      <th>Description</th>\n",
              "      <th>Quantity</th>\n",
              "      <th>InvoiceDate</th>\n",
              "      <th>Price</th>\n",
              "      <th>Customer ID</th>\n",
              "      <th>Country</th>\n",
              "    </tr>\n",
              "  </thead>\n",
              "  <tbody>\n",
              "    <tr>\n",
              "      <th>178</th>\n",
              "      <td>C489449</td>\n",
              "      <td>22087</td>\n",
              "      <td>PAPER BUNTING WHITE LACE</td>\n",
              "      <td>-12</td>\n",
              "      <td>2009-12-01 10:33:00</td>\n",
              "      <td>2.95</td>\n",
              "      <td>16321.0</td>\n",
              "      <td>Australia</td>\n",
              "    </tr>\n",
              "    <tr>\n",
              "      <th>179</th>\n",
              "      <td>C489449</td>\n",
              "      <td>85206A</td>\n",
              "      <td>CREAM FELT EASTER EGG BASKET</td>\n",
              "      <td>-6</td>\n",
              "      <td>2009-12-01 10:33:00</td>\n",
              "      <td>1.65</td>\n",
              "      <td>16321.0</td>\n",
              "      <td>Australia</td>\n",
              "    </tr>\n",
              "    <tr>\n",
              "      <th>180</th>\n",
              "      <td>C489449</td>\n",
              "      <td>21895</td>\n",
              "      <td>POTTING SHED SOW 'N' GROW SET</td>\n",
              "      <td>-4</td>\n",
              "      <td>2009-12-01 10:33:00</td>\n",
              "      <td>4.25</td>\n",
              "      <td>16321.0</td>\n",
              "      <td>Australia</td>\n",
              "    </tr>\n",
              "    <tr>\n",
              "      <th>181</th>\n",
              "      <td>C489449</td>\n",
              "      <td>21896</td>\n",
              "      <td>POTTING SHED TWINE</td>\n",
              "      <td>-6</td>\n",
              "      <td>2009-12-01 10:33:00</td>\n",
              "      <td>2.10</td>\n",
              "      <td>16321.0</td>\n",
              "      <td>Australia</td>\n",
              "    </tr>\n",
              "    <tr>\n",
              "      <th>182</th>\n",
              "      <td>C489449</td>\n",
              "      <td>22083</td>\n",
              "      <td>PAPER CHAIN KIT RETRO SPOT</td>\n",
              "      <td>-12</td>\n",
              "      <td>2009-12-01 10:33:00</td>\n",
              "      <td>2.95</td>\n",
              "      <td>16321.0</td>\n",
              "      <td>Australia</td>\n",
              "    </tr>\n",
              "    <tr>\n",
              "      <th>...</th>\n",
              "      <td>...</td>\n",
              "      <td>...</td>\n",
              "      <td>...</td>\n",
              "      <td>...</td>\n",
              "      <td>...</td>\n",
              "      <td>...</td>\n",
              "      <td>...</td>\n",
              "      <td>...</td>\n",
              "    </tr>\n",
              "    <tr>\n",
              "      <th>540449</th>\n",
              "      <td>C581490</td>\n",
              "      <td>23144</td>\n",
              "      <td>ZINC T-LIGHT HOLDER STARS SMALL</td>\n",
              "      <td>-11</td>\n",
              "      <td>2011-12-09 09:57:00</td>\n",
              "      <td>0.83</td>\n",
              "      <td>14397.0</td>\n",
              "      <td>United Kingdom</td>\n",
              "    </tr>\n",
              "    <tr>\n",
              "      <th>541541</th>\n",
              "      <td>C581499</td>\n",
              "      <td>M</td>\n",
              "      <td>Manual</td>\n",
              "      <td>-1</td>\n",
              "      <td>2011-12-09 10:28:00</td>\n",
              "      <td>224.69</td>\n",
              "      <td>15498.0</td>\n",
              "      <td>United Kingdom</td>\n",
              "    </tr>\n",
              "    <tr>\n",
              "      <th>541715</th>\n",
              "      <td>C581568</td>\n",
              "      <td>21258</td>\n",
              "      <td>VICTORIAN SEWING BOX LARGE</td>\n",
              "      <td>-5</td>\n",
              "      <td>2011-12-09 11:57:00</td>\n",
              "      <td>10.95</td>\n",
              "      <td>15311.0</td>\n",
              "      <td>United Kingdom</td>\n",
              "    </tr>\n",
              "    <tr>\n",
              "      <th>541716</th>\n",
              "      <td>C581569</td>\n",
              "      <td>84978</td>\n",
              "      <td>HANGING HEART JAR T-LIGHT HOLDER</td>\n",
              "      <td>-1</td>\n",
              "      <td>2011-12-09 11:58:00</td>\n",
              "      <td>1.25</td>\n",
              "      <td>17315.0</td>\n",
              "      <td>United Kingdom</td>\n",
              "    </tr>\n",
              "    <tr>\n",
              "      <th>541717</th>\n",
              "      <td>C581569</td>\n",
              "      <td>20979</td>\n",
              "      <td>36 PENCILS TUBE RED RETROSPOT</td>\n",
              "      <td>-5</td>\n",
              "      <td>2011-12-09 11:58:00</td>\n",
              "      <td>1.25</td>\n",
              "      <td>17315.0</td>\n",
              "      <td>United Kingdom</td>\n",
              "    </tr>\n",
              "  </tbody>\n",
              "</table>\n",
              "<p>18744 rows × 8 columns</p>\n",
              "</div>"
            ],
            "text/plain": [
              "        Invoice StockCode  ... Customer ID         Country\n",
              "178     C489449     22087  ...     16321.0       Australia\n",
              "179     C489449    85206A  ...     16321.0       Australia\n",
              "180     C489449     21895  ...     16321.0       Australia\n",
              "181     C489449     21896  ...     16321.0       Australia\n",
              "182     C489449     22083  ...     16321.0       Australia\n",
              "...         ...       ...  ...         ...             ...\n",
              "540449  C581490     23144  ...     14397.0  United Kingdom\n",
              "541541  C581499         M  ...     15498.0  United Kingdom\n",
              "541715  C581568     21258  ...     15311.0  United Kingdom\n",
              "541716  C581569     84978  ...     17315.0  United Kingdom\n",
              "541717  C581569     20979  ...     17315.0  United Kingdom\n",
              "\n",
              "[18744 rows x 8 columns]"
            ]
          },
          "metadata": {
            "tags": []
          },
          "execution_count": 44
        }
      ]
    },
    {
      "cell_type": "code",
      "metadata": {
        "colab": {
          "base_uri": "https://localhost:8080/",
          "height": 359
        },
        "id": "cFJr-W_H4rys",
        "outputId": "d37d02af-2e89-4540-a702-6824d79191e3"
      },
      "source": [
        "# Sorting the dataset by price to see the observations with the highest price\n",
        "\n",
        "final_retail_data.sort_values('Price', ascending=False).head(10) \n",
        "\n",
        "# Interesting observation, some items seems to be purchased and returned. Seems to be the case for several items/transactions. "
      ],
      "execution_count": 45,
      "outputs": [
        {
          "output_type": "execute_result",
          "data": {
            "text/html": [
              "<div>\n",
              "<style scoped>\n",
              "    .dataframe tbody tr th:only-of-type {\n",
              "        vertical-align: middle;\n",
              "    }\n",
              "\n",
              "    .dataframe tbody tr th {\n",
              "        vertical-align: top;\n",
              "    }\n",
              "\n",
              "    .dataframe thead th {\n",
              "        text-align: right;\n",
              "    }\n",
              "</style>\n",
              "<table border=\"1\" class=\"dataframe\">\n",
              "  <thead>\n",
              "    <tr style=\"text-align: right;\">\n",
              "      <th></th>\n",
              "      <th>Invoice</th>\n",
              "      <th>StockCode</th>\n",
              "      <th>Description</th>\n",
              "      <th>Quantity</th>\n",
              "      <th>InvoiceDate</th>\n",
              "      <th>Price</th>\n",
              "      <th>Customer ID</th>\n",
              "      <th>Country</th>\n",
              "    </tr>\n",
              "  </thead>\n",
              "  <tbody>\n",
              "    <tr>\n",
              "      <th>222681</th>\n",
              "      <td>C556445</td>\n",
              "      <td>M</td>\n",
              "      <td>Manual</td>\n",
              "      <td>-1</td>\n",
              "      <td>2011-06-10 15:31:00</td>\n",
              "      <td>38970.00</td>\n",
              "      <td>15098.0</td>\n",
              "      <td>United Kingdom</td>\n",
              "    </tr>\n",
              "    <tr>\n",
              "      <th>241824</th>\n",
              "      <td>C512770</td>\n",
              "      <td>M</td>\n",
              "      <td>Manual</td>\n",
              "      <td>-1</td>\n",
              "      <td>2010-06-17 16:52:00</td>\n",
              "      <td>25111.09</td>\n",
              "      <td>17399.0</td>\n",
              "      <td>United Kingdom</td>\n",
              "    </tr>\n",
              "    <tr>\n",
              "      <th>135013</th>\n",
              "      <td>502263</td>\n",
              "      <td>M</td>\n",
              "      <td>Manual</td>\n",
              "      <td>1</td>\n",
              "      <td>2010-03-23 15:22:00</td>\n",
              "      <td>10953.50</td>\n",
              "      <td>12918.0</td>\n",
              "      <td>United Kingdom</td>\n",
              "    </tr>\n",
              "    <tr>\n",
              "      <th>135014</th>\n",
              "      <td>C502264</td>\n",
              "      <td>M</td>\n",
              "      <td>Manual</td>\n",
              "      <td>-1</td>\n",
              "      <td>2010-03-23 15:24:00</td>\n",
              "      <td>10953.50</td>\n",
              "      <td>12918.0</td>\n",
              "      <td>United Kingdom</td>\n",
              "    </tr>\n",
              "    <tr>\n",
              "      <th>135012</th>\n",
              "      <td>C502262</td>\n",
              "      <td>M</td>\n",
              "      <td>Manual</td>\n",
              "      <td>-1</td>\n",
              "      <td>2010-03-23 15:20:00</td>\n",
              "      <td>10953.50</td>\n",
              "      <td>12918.0</td>\n",
              "      <td>United Kingdom</td>\n",
              "    </tr>\n",
              "    <tr>\n",
              "      <th>372833</th>\n",
              "      <td>C525398</td>\n",
              "      <td>M</td>\n",
              "      <td>Manual</td>\n",
              "      <td>-1</td>\n",
              "      <td>2010-10-05 11:47:00</td>\n",
              "      <td>10468.80</td>\n",
              "      <td>14063.0</td>\n",
              "      <td>United Kingdom</td>\n",
              "    </tr>\n",
              "    <tr>\n",
              "      <th>358639</th>\n",
              "      <td>524159</td>\n",
              "      <td>M</td>\n",
              "      <td>Manual</td>\n",
              "      <td>1</td>\n",
              "      <td>2010-09-27 16:12:00</td>\n",
              "      <td>10468.80</td>\n",
              "      <td>14063.0</td>\n",
              "      <td>United Kingdom</td>\n",
              "    </tr>\n",
              "    <tr>\n",
              "      <th>342135</th>\n",
              "      <td>C522793</td>\n",
              "      <td>M</td>\n",
              "      <td>Manual</td>\n",
              "      <td>-1</td>\n",
              "      <td>2010-09-16 14:53:00</td>\n",
              "      <td>10468.80</td>\n",
              "      <td>14063.0</td>\n",
              "      <td>United Kingdom</td>\n",
              "    </tr>\n",
              "    <tr>\n",
              "      <th>74357</th>\n",
              "      <td>C496116</td>\n",
              "      <td>M</td>\n",
              "      <td>Manual</td>\n",
              "      <td>-1</td>\n",
              "      <td>2010-01-29 11:05:00</td>\n",
              "      <td>8985.60</td>\n",
              "      <td>17949.0</td>\n",
              "      <td>United Kingdom</td>\n",
              "    </tr>\n",
              "    <tr>\n",
              "      <th>74356</th>\n",
              "      <td>496115</td>\n",
              "      <td>M</td>\n",
              "      <td>Manual</td>\n",
              "      <td>1</td>\n",
              "      <td>2010-01-29 11:04:00</td>\n",
              "      <td>8985.60</td>\n",
              "      <td>17949.0</td>\n",
              "      <td>United Kingdom</td>\n",
              "    </tr>\n",
              "  </tbody>\n",
              "</table>\n",
              "</div>"
            ],
            "text/plain": [
              "        Invoice StockCode Description  ...     Price Customer ID         Country\n",
              "222681  C556445         M      Manual  ...  38970.00     15098.0  United Kingdom\n",
              "241824  C512770         M      Manual  ...  25111.09     17399.0  United Kingdom\n",
              "135013   502263         M      Manual  ...  10953.50     12918.0  United Kingdom\n",
              "135014  C502264         M      Manual  ...  10953.50     12918.0  United Kingdom\n",
              "135012  C502262         M      Manual  ...  10953.50     12918.0  United Kingdom\n",
              "372833  C525398         M      Manual  ...  10468.80     14063.0  United Kingdom\n",
              "358639   524159         M      Manual  ...  10468.80     14063.0  United Kingdom\n",
              "342135  C522793         M      Manual  ...  10468.80     14063.0  United Kingdom\n",
              "74357   C496116         M      Manual  ...   8985.60     17949.0  United Kingdom\n",
              "74356    496115         M      Manual  ...   8985.60     17949.0  United Kingdom\n",
              "\n",
              "[10 rows x 8 columns]"
            ]
          },
          "metadata": {
            "tags": []
          },
          "execution_count": 45
        }
      ]
    },
    {
      "cell_type": "code",
      "metadata": {
        "colab": {
          "base_uri": "https://localhost:8080/",
          "height": 359
        },
        "id": "1T-PUR1r4wWs",
        "outputId": "622175cc-105f-4f43-e5ba-177740580ab5"
      },
      "source": [
        "# Sorting the dataset by price to see the observations with the highest price\n",
        "\n",
        "final_retail_data.sort_values('Price', ascending=False).tail(10) \n",
        "\n",
        "# Several items with zero price and quantity specified, perhaps the case of a discount"
      ],
      "execution_count": 46,
      "outputs": [
        {
          "output_type": "execute_result",
          "data": {
            "text/html": [
              "<div>\n",
              "<style scoped>\n",
              "    .dataframe tbody tr th:only-of-type {\n",
              "        vertical-align: middle;\n",
              "    }\n",
              "\n",
              "    .dataframe tbody tr th {\n",
              "        vertical-align: top;\n",
              "    }\n",
              "\n",
              "    .dataframe thead th {\n",
              "        text-align: right;\n",
              "    }\n",
              "</style>\n",
              "<table border=\"1\" class=\"dataframe\">\n",
              "  <thead>\n",
              "    <tr style=\"text-align: right;\">\n",
              "      <th></th>\n",
              "      <th>Invoice</th>\n",
              "      <th>StockCode</th>\n",
              "      <th>Description</th>\n",
              "      <th>Quantity</th>\n",
              "      <th>InvoiceDate</th>\n",
              "      <th>Price</th>\n",
              "      <th>Customer ID</th>\n",
              "      <th>Country</th>\n",
              "    </tr>\n",
              "  </thead>\n",
              "  <tbody>\n",
              "    <tr>\n",
              "      <th>392008</th>\n",
              "      <td>527084</td>\n",
              "      <td>22630</td>\n",
              "      <td>DOLLY GIRL LUNCH BOX</td>\n",
              "      <td>64</td>\n",
              "      <td>2010-10-14 15:33:00</td>\n",
              "      <td>0.0</td>\n",
              "      <td>14646.0</td>\n",
              "      <td>Netherlands</td>\n",
              "    </tr>\n",
              "    <tr>\n",
              "      <th>33576</th>\n",
              "      <td>539263</td>\n",
              "      <td>22580</td>\n",
              "      <td>ADVENT CALENDAR GINGHAM SACK</td>\n",
              "      <td>4</td>\n",
              "      <td>2010-12-16 14:36:00</td>\n",
              "      <td>0.0</td>\n",
              "      <td>16560.0</td>\n",
              "      <td>United Kingdom</td>\n",
              "    </tr>\n",
              "    <tr>\n",
              "      <th>471776</th>\n",
              "      <td>533822</td>\n",
              "      <td>22845</td>\n",
              "      <td>VINTAGE CREAM CAT FOOD CONTAINER</td>\n",
              "      <td>1</td>\n",
              "      <td>2010-11-19 09:40:00</td>\n",
              "      <td>0.0</td>\n",
              "      <td>12647.0</td>\n",
              "      <td>Germany</td>\n",
              "    </tr>\n",
              "    <tr>\n",
              "      <th>89180</th>\n",
              "      <td>497843</td>\n",
              "      <td>TEST001</td>\n",
              "      <td>This is a test product.</td>\n",
              "      <td>5</td>\n",
              "      <td>2010-02-12 15:47:00</td>\n",
              "      <td>0.0</td>\n",
              "      <td>14827.0</td>\n",
              "      <td>United Kingdom</td>\n",
              "    </tr>\n",
              "    <tr>\n",
              "      <th>314748</th>\n",
              "      <td>564651</td>\n",
              "      <td>21786</td>\n",
              "      <td>POLKADOT RAIN HAT</td>\n",
              "      <td>144</td>\n",
              "      <td>2011-08-26 14:19:00</td>\n",
              "      <td>0.0</td>\n",
              "      <td>14646.0</td>\n",
              "      <td>Netherlands</td>\n",
              "    </tr>\n",
              "    <tr>\n",
              "      <th>439309</th>\n",
              "      <td>531361</td>\n",
              "      <td>21843</td>\n",
              "      <td>RED RETROSPOT CAKE STAND</td>\n",
              "      <td>2</td>\n",
              "      <td>2010-11-07 14:26:00</td>\n",
              "      <td>0.0</td>\n",
              "      <td>12820.0</td>\n",
              "      <td>United Kingdom</td>\n",
              "    </tr>\n",
              "    <tr>\n",
              "      <th>166143</th>\n",
              "      <td>505083</td>\n",
              "      <td>22376</td>\n",
              "      <td>AIRLINE BAG VINTAGE JET SET WHITE</td>\n",
              "      <td>1</td>\n",
              "      <td>2010-04-20 09:56:00</td>\n",
              "      <td>0.0</td>\n",
              "      <td>12623.0</td>\n",
              "      <td>Germany</td>\n",
              "    </tr>\n",
              "    <tr>\n",
              "      <th>420404</th>\n",
              "      <td>572893</td>\n",
              "      <td>21208</td>\n",
              "      <td>PASTEL COLOUR HONEYCOMB FAN</td>\n",
              "      <td>5</td>\n",
              "      <td>2011-10-26 14:36:00</td>\n",
              "      <td>0.0</td>\n",
              "      <td>18059.0</td>\n",
              "      <td>United Kingdom</td>\n",
              "    </tr>\n",
              "    <tr>\n",
              "      <th>479079</th>\n",
              "      <td>577129</td>\n",
              "      <td>22464</td>\n",
              "      <td>HANGING METAL HEART LANTERN</td>\n",
              "      <td>4</td>\n",
              "      <td>2011-11-17 19:52:00</td>\n",
              "      <td>0.0</td>\n",
              "      <td>15602.0</td>\n",
              "      <td>United Kingdom</td>\n",
              "    </tr>\n",
              "    <tr>\n",
              "      <th>436961</th>\n",
              "      <td>574252</td>\n",
              "      <td>M</td>\n",
              "      <td>Manual</td>\n",
              "      <td>1</td>\n",
              "      <td>2011-11-03 13:24:00</td>\n",
              "      <td>0.0</td>\n",
              "      <td>12437.0</td>\n",
              "      <td>France</td>\n",
              "    </tr>\n",
              "  </tbody>\n",
              "</table>\n",
              "</div>"
            ],
            "text/plain": [
              "       Invoice StockCode  ... Customer ID         Country\n",
              "392008  527084     22630  ...     14646.0     Netherlands\n",
              "33576   539263     22580  ...     16560.0  United Kingdom\n",
              "471776  533822     22845  ...     12647.0         Germany\n",
              "89180   497843   TEST001  ...     14827.0  United Kingdom\n",
              "314748  564651     21786  ...     14646.0     Netherlands\n",
              "439309  531361     21843  ...     12820.0  United Kingdom\n",
              "166143  505083     22376  ...     12623.0         Germany\n",
              "420404  572893     21208  ...     18059.0  United Kingdom\n",
              "479079  577129     22464  ...     15602.0  United Kingdom\n",
              "436961  574252         M  ...     12437.0          France\n",
              "\n",
              "[10 rows x 8 columns]"
            ]
          },
          "metadata": {
            "tags": []
          },
          "execution_count": 46
        }
      ]
    },
    {
      "cell_type": "code",
      "metadata": {
        "colab": {
          "base_uri": "https://localhost:8080/"
        },
        "id": "Z-2TNsKX41ct",
        "outputId": "bf2fa0f9-8af5-453d-9d50-5aa5885045a7"
      },
      "source": [
        "# Filtering out the obserrvations with negative quantities and exploring the dimensions\n",
        "\n",
        "final_retail_data[final_retail_data['Price'] == 0].shape\n",
        "\n",
        "# Inference, there are no items with the Price less than 0. (switch the operator)\n",
        "# Although there are 71 transactions with Price = 0"
      ],
      "execution_count": 47,
      "outputs": [
        {
          "output_type": "execute_result",
          "data": {
            "text/plain": [
              "(71, 8)"
            ]
          },
          "metadata": {
            "tags": []
          },
          "execution_count": 47
        }
      ]
    },
    {
      "cell_type": "code",
      "metadata": {
        "colab": {
          "base_uri": "https://localhost:8080/",
          "height": 419
        },
        "id": "kaSWLC5D7er2",
        "outputId": "9ca9d1f0-2832-4267-8a49-b19ff1b1e3cf"
      },
      "source": [
        "# Mapping the transactions for which the price was 0 to a dataframe\n",
        "\n",
        "zero_price_paid = final_retail_data[final_retail_data['Price'] == 0]\n",
        "\n",
        "zero_price_paid"
      ],
      "execution_count": 48,
      "outputs": [
        {
          "output_type": "execute_result",
          "data": {
            "text/html": [
              "<div>\n",
              "<style scoped>\n",
              "    .dataframe tbody tr th:only-of-type {\n",
              "        vertical-align: middle;\n",
              "    }\n",
              "\n",
              "    .dataframe tbody tr th {\n",
              "        vertical-align: top;\n",
              "    }\n",
              "\n",
              "    .dataframe thead th {\n",
              "        text-align: right;\n",
              "    }\n",
              "</style>\n",
              "<table border=\"1\" class=\"dataframe\">\n",
              "  <thead>\n",
              "    <tr style=\"text-align: right;\">\n",
              "      <th></th>\n",
              "      <th>Invoice</th>\n",
              "      <th>StockCode</th>\n",
              "      <th>Description</th>\n",
              "      <th>Quantity</th>\n",
              "      <th>InvoiceDate</th>\n",
              "      <th>Price</th>\n",
              "      <th>Customer ID</th>\n",
              "      <th>Country</th>\n",
              "    </tr>\n",
              "  </thead>\n",
              "  <tbody>\n",
              "    <tr>\n",
              "      <th>4674</th>\n",
              "      <td>489825</td>\n",
              "      <td>22076</td>\n",
              "      <td>6 RIBBONS EMPIRE</td>\n",
              "      <td>12</td>\n",
              "      <td>2009-12-02 13:34:00</td>\n",
              "      <td>0.0</td>\n",
              "      <td>16126.0</td>\n",
              "      <td>United Kingdom</td>\n",
              "    </tr>\n",
              "    <tr>\n",
              "      <th>6781</th>\n",
              "      <td>489998</td>\n",
              "      <td>48185</td>\n",
              "      <td>DOOR MAT FAIRY CAKE</td>\n",
              "      <td>2</td>\n",
              "      <td>2009-12-03 11:19:00</td>\n",
              "      <td>0.0</td>\n",
              "      <td>15658.0</td>\n",
              "      <td>United Kingdom</td>\n",
              "    </tr>\n",
              "    <tr>\n",
              "      <th>16107</th>\n",
              "      <td>490727</td>\n",
              "      <td>M</td>\n",
              "      <td>Manual</td>\n",
              "      <td>1</td>\n",
              "      <td>2009-12-07 16:38:00</td>\n",
              "      <td>0.0</td>\n",
              "      <td>17231.0</td>\n",
              "      <td>United Kingdom</td>\n",
              "    </tr>\n",
              "    <tr>\n",
              "      <th>18738</th>\n",
              "      <td>490961</td>\n",
              "      <td>22065</td>\n",
              "      <td>CHRISTMAS PUDDING TRINKET POT</td>\n",
              "      <td>1</td>\n",
              "      <td>2009-12-08 15:25:00</td>\n",
              "      <td>0.0</td>\n",
              "      <td>14108.0</td>\n",
              "      <td>United Kingdom</td>\n",
              "    </tr>\n",
              "    <tr>\n",
              "      <th>18739</th>\n",
              "      <td>490961</td>\n",
              "      <td>22142</td>\n",
              "      <td>CHRISTMAS CRAFT WHITE FAIRY</td>\n",
              "      <td>12</td>\n",
              "      <td>2009-12-08 15:25:00</td>\n",
              "      <td>0.0</td>\n",
              "      <td>14108.0</td>\n",
              "      <td>United Kingdom</td>\n",
              "    </tr>\n",
              "    <tr>\n",
              "      <th>...</th>\n",
              "      <td>...</td>\n",
              "      <td>...</td>\n",
              "      <td>...</td>\n",
              "      <td>...</td>\n",
              "      <td>...</td>\n",
              "      <td>...</td>\n",
              "      <td>...</td>\n",
              "      <td>...</td>\n",
              "    </tr>\n",
              "    <tr>\n",
              "      <th>479079</th>\n",
              "      <td>577129</td>\n",
              "      <td>22464</td>\n",
              "      <td>HANGING METAL HEART LANTERN</td>\n",
              "      <td>4</td>\n",
              "      <td>2011-11-17 19:52:00</td>\n",
              "      <td>0.0</td>\n",
              "      <td>15602.0</td>\n",
              "      <td>United Kingdom</td>\n",
              "    </tr>\n",
              "    <tr>\n",
              "      <th>479553</th>\n",
              "      <td>577168</td>\n",
              "      <td>M</td>\n",
              "      <td>Manual</td>\n",
              "      <td>1</td>\n",
              "      <td>2011-11-18 10:42:00</td>\n",
              "      <td>0.0</td>\n",
              "      <td>12603.0</td>\n",
              "      <td>Germany</td>\n",
              "    </tr>\n",
              "    <tr>\n",
              "      <th>480649</th>\n",
              "      <td>577314</td>\n",
              "      <td>23407</td>\n",
              "      <td>SET OF 2 TRAYS HOME SWEET HOME</td>\n",
              "      <td>2</td>\n",
              "      <td>2011-11-18 13:23:00</td>\n",
              "      <td>0.0</td>\n",
              "      <td>12444.0</td>\n",
              "      <td>Norway</td>\n",
              "    </tr>\n",
              "    <tr>\n",
              "      <th>485985</th>\n",
              "      <td>577696</td>\n",
              "      <td>M</td>\n",
              "      <td>Manual</td>\n",
              "      <td>1</td>\n",
              "      <td>2011-11-21 11:57:00</td>\n",
              "      <td>0.0</td>\n",
              "      <td>16406.0</td>\n",
              "      <td>United Kingdom</td>\n",
              "    </tr>\n",
              "    <tr>\n",
              "      <th>502122</th>\n",
              "      <td>578841</td>\n",
              "      <td>84826</td>\n",
              "      <td>ASSTD DESIGN 3D PAPER STICKERS</td>\n",
              "      <td>12540</td>\n",
              "      <td>2011-11-25 15:57:00</td>\n",
              "      <td>0.0</td>\n",
              "      <td>13256.0</td>\n",
              "      <td>United Kingdom</td>\n",
              "    </tr>\n",
              "  </tbody>\n",
              "</table>\n",
              "<p>71 rows × 8 columns</p>\n",
              "</div>"
            ],
            "text/plain": [
              "       Invoice StockCode  ... Customer ID         Country\n",
              "4674    489825     22076  ...     16126.0  United Kingdom\n",
              "6781    489998     48185  ...     15658.0  United Kingdom\n",
              "16107   490727         M  ...     17231.0  United Kingdom\n",
              "18738   490961     22065  ...     14108.0  United Kingdom\n",
              "18739   490961     22142  ...     14108.0  United Kingdom\n",
              "...        ...       ...  ...         ...             ...\n",
              "479079  577129     22464  ...     15602.0  United Kingdom\n",
              "479553  577168         M  ...     12603.0         Germany\n",
              "480649  577314     23407  ...     12444.0          Norway\n",
              "485985  577696         M  ...     16406.0  United Kingdom\n",
              "502122  578841     84826  ...     13256.0  United Kingdom\n",
              "\n",
              "[71 rows x 8 columns]"
            ]
          },
          "metadata": {
            "tags": []
          },
          "execution_count": 48
        }
      ]
    },
    {
      "cell_type": "code",
      "metadata": {
        "colab": {
          "base_uri": "https://localhost:8080/",
          "height": 204
        },
        "id": "ZMFrvHlM8azN",
        "outputId": "4b7d1879-b104-455b-b909-c0ba552a2d59"
      },
      "source": [
        "# Removing transactions with negative quantities (returned items)\n",
        "\n",
        "qclean_final_retail_data = final_retail_data[final_retail_data['Quantity'] >= 0]\n",
        "\n",
        "clean_final_retail_data = qclean_final_retail_data[qclean_final_retail_data['Price'] > 0]\n",
        "\n",
        "clean_final_retail_data.head()"
      ],
      "execution_count": 49,
      "outputs": [
        {
          "output_type": "execute_result",
          "data": {
            "text/html": [
              "<div>\n",
              "<style scoped>\n",
              "    .dataframe tbody tr th:only-of-type {\n",
              "        vertical-align: middle;\n",
              "    }\n",
              "\n",
              "    .dataframe tbody tr th {\n",
              "        vertical-align: top;\n",
              "    }\n",
              "\n",
              "    .dataframe thead th {\n",
              "        text-align: right;\n",
              "    }\n",
              "</style>\n",
              "<table border=\"1\" class=\"dataframe\">\n",
              "  <thead>\n",
              "    <tr style=\"text-align: right;\">\n",
              "      <th></th>\n",
              "      <th>Invoice</th>\n",
              "      <th>StockCode</th>\n",
              "      <th>Description</th>\n",
              "      <th>Quantity</th>\n",
              "      <th>InvoiceDate</th>\n",
              "      <th>Price</th>\n",
              "      <th>Customer ID</th>\n",
              "      <th>Country</th>\n",
              "    </tr>\n",
              "  </thead>\n",
              "  <tbody>\n",
              "    <tr>\n",
              "      <th>0</th>\n",
              "      <td>489434</td>\n",
              "      <td>85048</td>\n",
              "      <td>15CM CHRISTMAS GLASS BALL 20 LIGHTS</td>\n",
              "      <td>12</td>\n",
              "      <td>2009-12-01 07:45:00</td>\n",
              "      <td>6.95</td>\n",
              "      <td>13085.0</td>\n",
              "      <td>United Kingdom</td>\n",
              "    </tr>\n",
              "    <tr>\n",
              "      <th>1</th>\n",
              "      <td>489434</td>\n",
              "      <td>79323P</td>\n",
              "      <td>PINK CHERRY LIGHTS</td>\n",
              "      <td>12</td>\n",
              "      <td>2009-12-01 07:45:00</td>\n",
              "      <td>6.75</td>\n",
              "      <td>13085.0</td>\n",
              "      <td>United Kingdom</td>\n",
              "    </tr>\n",
              "    <tr>\n",
              "      <th>2</th>\n",
              "      <td>489434</td>\n",
              "      <td>79323W</td>\n",
              "      <td>WHITE CHERRY LIGHTS</td>\n",
              "      <td>12</td>\n",
              "      <td>2009-12-01 07:45:00</td>\n",
              "      <td>6.75</td>\n",
              "      <td>13085.0</td>\n",
              "      <td>United Kingdom</td>\n",
              "    </tr>\n",
              "    <tr>\n",
              "      <th>3</th>\n",
              "      <td>489434</td>\n",
              "      <td>22041</td>\n",
              "      <td>RECORD FRAME 7\" SINGLE SIZE</td>\n",
              "      <td>48</td>\n",
              "      <td>2009-12-01 07:45:00</td>\n",
              "      <td>2.10</td>\n",
              "      <td>13085.0</td>\n",
              "      <td>United Kingdom</td>\n",
              "    </tr>\n",
              "    <tr>\n",
              "      <th>4</th>\n",
              "      <td>489434</td>\n",
              "      <td>21232</td>\n",
              "      <td>STRAWBERRY CERAMIC TRINKET BOX</td>\n",
              "      <td>24</td>\n",
              "      <td>2009-12-01 07:45:00</td>\n",
              "      <td>1.25</td>\n",
              "      <td>13085.0</td>\n",
              "      <td>United Kingdom</td>\n",
              "    </tr>\n",
              "  </tbody>\n",
              "</table>\n",
              "</div>"
            ],
            "text/plain": [
              "  Invoice StockCode  ... Customer ID         Country\n",
              "0  489434     85048  ...     13085.0  United Kingdom\n",
              "1  489434    79323P  ...     13085.0  United Kingdom\n",
              "2  489434    79323W  ...     13085.0  United Kingdom\n",
              "3  489434     22041  ...     13085.0  United Kingdom\n",
              "4  489434     21232  ...     13085.0  United Kingdom\n",
              "\n",
              "[5 rows x 8 columns]"
            ]
          },
          "metadata": {
            "tags": []
          },
          "execution_count": 49
        }
      ]
    },
    {
      "cell_type": "code",
      "metadata": {
        "colab": {
          "base_uri": "https://localhost:8080/"
        },
        "id": "Rba5mxRz-L3_",
        "outputId": "17e4a9a0-8290-4659-86e3-57e1a8885e2c"
      },
      "source": [
        "clean_final_retail_data.shape"
      ],
      "execution_count": 50,
      "outputs": [
        {
          "output_type": "execute_result",
          "data": {
            "text/plain": [
              "(805549, 8)"
            ]
          },
          "metadata": {
            "tags": []
          },
          "execution_count": 50
        }
      ]
    },
    {
      "cell_type": "code",
      "metadata": {
        "colab": {
          "base_uri": "https://localhost:8080/",
          "height": 450
        },
        "id": "v2Z6m1uaGPXQ",
        "outputId": "6ef36be4-3408-4c33-818f-ea2600e38742"
      },
      "source": [
        "# Grouping the invoices by the Invoice Date and aggregating the item quantity and price\n",
        "\n",
        "grouped_invoice_date = clean_final_retail_data.groupby('InvoiceDate').agg({'Quantity': np.sum, 'Price': np.sum})\n",
        "\n",
        "grouped_invoice_date"
      ],
      "execution_count": 51,
      "outputs": [
        {
          "output_type": "execute_result",
          "data": {
            "text/html": [
              "<div>\n",
              "<style scoped>\n",
              "    .dataframe tbody tr th:only-of-type {\n",
              "        vertical-align: middle;\n",
              "    }\n",
              "\n",
              "    .dataframe tbody tr th {\n",
              "        vertical-align: top;\n",
              "    }\n",
              "\n",
              "    .dataframe thead th {\n",
              "        text-align: right;\n",
              "    }\n",
              "</style>\n",
              "<table border=\"1\" class=\"dataframe\">\n",
              "  <thead>\n",
              "    <tr style=\"text-align: right;\">\n",
              "      <th></th>\n",
              "      <th>Quantity</th>\n",
              "      <th>Price</th>\n",
              "    </tr>\n",
              "    <tr>\n",
              "      <th>InvoiceDate</th>\n",
              "      <th></th>\n",
              "      <th></th>\n",
              "    </tr>\n",
              "  </thead>\n",
              "  <tbody>\n",
              "    <tr>\n",
              "      <th>2009-12-01 07:45:00</th>\n",
              "      <td>166</td>\n",
              "      <td>32.65</td>\n",
              "    </tr>\n",
              "    <tr>\n",
              "      <th>2009-12-01 07:46:00</th>\n",
              "      <td>60</td>\n",
              "      <td>10.50</td>\n",
              "    </tr>\n",
              "    <tr>\n",
              "      <th>2009-12-01 09:06:00</th>\n",
              "      <td>193</td>\n",
              "      <td>70.88</td>\n",
              "    </tr>\n",
              "    <tr>\n",
              "      <th>2009-12-01 09:08:00</th>\n",
              "      <td>145</td>\n",
              "      <td>83.45</td>\n",
              "    </tr>\n",
              "    <tr>\n",
              "      <th>2009-12-01 09:24:00</th>\n",
              "      <td>826</td>\n",
              "      <td>44.05</td>\n",
              "    </tr>\n",
              "    <tr>\n",
              "      <th>...</th>\n",
              "      <td>...</td>\n",
              "      <td>...</td>\n",
              "    </tr>\n",
              "    <tr>\n",
              "      <th>2011-12-09 12:23:00</th>\n",
              "      <td>76</td>\n",
              "      <td>3.30</td>\n",
              "    </tr>\n",
              "    <tr>\n",
              "      <th>2011-12-09 12:25:00</th>\n",
              "      <td>120</td>\n",
              "      <td>2.57</td>\n",
              "    </tr>\n",
              "    <tr>\n",
              "      <th>2011-12-09 12:31:00</th>\n",
              "      <td>278</td>\n",
              "      <td>37.78</td>\n",
              "    </tr>\n",
              "    <tr>\n",
              "      <th>2011-12-09 12:49:00</th>\n",
              "      <td>66</td>\n",
              "      <td>20.23</td>\n",
              "    </tr>\n",
              "    <tr>\n",
              "      <th>2011-12-09 12:50:00</th>\n",
              "      <td>106</td>\n",
              "      <td>62.50</td>\n",
              "    </tr>\n",
              "  </tbody>\n",
              "</table>\n",
              "<p>34585 rows × 2 columns</p>\n",
              "</div>"
            ],
            "text/plain": [
              "                     Quantity  Price\n",
              "InvoiceDate                         \n",
              "2009-12-01 07:45:00       166  32.65\n",
              "2009-12-01 07:46:00        60  10.50\n",
              "2009-12-01 09:06:00       193  70.88\n",
              "2009-12-01 09:08:00       145  83.45\n",
              "2009-12-01 09:24:00       826  44.05\n",
              "...                       ...    ...\n",
              "2011-12-09 12:23:00        76   3.30\n",
              "2011-12-09 12:25:00       120   2.57\n",
              "2011-12-09 12:31:00       278  37.78\n",
              "2011-12-09 12:49:00        66  20.23\n",
              "2011-12-09 12:50:00       106  62.50\n",
              "\n",
              "[34585 rows x 2 columns]"
            ]
          },
          "metadata": {
            "tags": []
          },
          "execution_count": 51
        }
      ]
    },
    {
      "cell_type": "code",
      "metadata": {
        "colab": {
          "base_uri": "https://localhost:8080/",
          "height": 297
        },
        "id": "-JTPULEAIVrE",
        "outputId": "40d7990b-9466-46f0-8d20-43468fd0ee21"
      },
      "source": [
        "# Checking the descriptive statistics for the aggregated quantity and price based on the grouped invoice date\n",
        "\n",
        "grouped_invoice_date.describe()"
      ],
      "execution_count": 53,
      "outputs": [
        {
          "output_type": "execute_result",
          "data": {
            "text/html": [
              "<div>\n",
              "<style scoped>\n",
              "    .dataframe tbody tr th:only-of-type {\n",
              "        vertical-align: middle;\n",
              "    }\n",
              "\n",
              "    .dataframe tbody tr th {\n",
              "        vertical-align: top;\n",
              "    }\n",
              "\n",
              "    .dataframe thead th {\n",
              "        text-align: right;\n",
              "    }\n",
              "</style>\n",
              "<table border=\"1\" class=\"dataframe\">\n",
              "  <thead>\n",
              "    <tr style=\"text-align: right;\">\n",
              "      <th></th>\n",
              "      <th>Quantity</th>\n",
              "      <th>Price</th>\n",
              "    </tr>\n",
              "  </thead>\n",
              "  <tbody>\n",
              "    <tr>\n",
              "      <th>count</th>\n",
              "      <td>34585.000000</td>\n",
              "      <td>34585.000000</td>\n",
              "    </tr>\n",
              "    <tr>\n",
              "      <th>mean</th>\n",
              "      <td>309.560995</td>\n",
              "      <td>74.686783</td>\n",
              "    </tr>\n",
              "    <tr>\n",
              "      <th>std</th>\n",
              "      <td>1279.329827</td>\n",
              "      <td>164.928220</td>\n",
              "    </tr>\n",
              "    <tr>\n",
              "      <th>min</th>\n",
              "      <td>1.000000</td>\n",
              "      <td>0.060000</td>\n",
              "    </tr>\n",
              "    <tr>\n",
              "      <th>25%</th>\n",
              "      <td>78.000000</td>\n",
              "      <td>21.100000</td>\n",
              "    </tr>\n",
              "    <tr>\n",
              "      <th>50%</th>\n",
              "      <td>165.000000</td>\n",
              "      <td>49.610000</td>\n",
              "    </tr>\n",
              "    <tr>\n",
              "      <th>75%</th>\n",
              "      <td>312.000000</td>\n",
              "      <td>93.060000</td>\n",
              "    </tr>\n",
              "    <tr>\n",
              "      <th>max</th>\n",
              "      <td>87167.000000</td>\n",
              "      <td>10953.500000</td>\n",
              "    </tr>\n",
              "  </tbody>\n",
              "</table>\n",
              "</div>"
            ],
            "text/plain": [
              "           Quantity         Price\n",
              "count  34585.000000  34585.000000\n",
              "mean     309.560995     74.686783\n",
              "std     1279.329827    164.928220\n",
              "min        1.000000      0.060000\n",
              "25%       78.000000     21.100000\n",
              "50%      165.000000     49.610000\n",
              "75%      312.000000     93.060000\n",
              "max    87167.000000  10953.500000"
            ]
          },
          "metadata": {
            "tags": []
          },
          "execution_count": 53
        }
      ]
    },
    {
      "cell_type": "code",
      "metadata": {
        "colab": {
          "base_uri": "https://localhost:8080/",
          "height": 450
        },
        "id": "jb0P_i9Qy3S1",
        "outputId": "15b6d5d5-2263-4d98-f5a2-7a00d56ae88f"
      },
      "source": [
        "# First ensure the InvoiceDate variable is of the datetime data type\n",
        "\n",
        "grouped_invoice_date.index = pd.to_datetime(grouped_invoice_date.index)\n",
        "\n",
        "# Extract the date alone (without the time part) into a new colum\n",
        "\n",
        "grouped_invoice_date['Date'] = grouped_invoice_date.index.date\n",
        "\n",
        "grouped_invoice_date"
      ],
      "execution_count": 54,
      "outputs": [
        {
          "output_type": "execute_result",
          "data": {
            "text/html": [
              "<div>\n",
              "<style scoped>\n",
              "    .dataframe tbody tr th:only-of-type {\n",
              "        vertical-align: middle;\n",
              "    }\n",
              "\n",
              "    .dataframe tbody tr th {\n",
              "        vertical-align: top;\n",
              "    }\n",
              "\n",
              "    .dataframe thead th {\n",
              "        text-align: right;\n",
              "    }\n",
              "</style>\n",
              "<table border=\"1\" class=\"dataframe\">\n",
              "  <thead>\n",
              "    <tr style=\"text-align: right;\">\n",
              "      <th></th>\n",
              "      <th>Quantity</th>\n",
              "      <th>Price</th>\n",
              "      <th>Date</th>\n",
              "    </tr>\n",
              "    <tr>\n",
              "      <th>InvoiceDate</th>\n",
              "      <th></th>\n",
              "      <th></th>\n",
              "      <th></th>\n",
              "    </tr>\n",
              "  </thead>\n",
              "  <tbody>\n",
              "    <tr>\n",
              "      <th>2009-12-01 07:45:00</th>\n",
              "      <td>166</td>\n",
              "      <td>32.65</td>\n",
              "      <td>2009-12-01</td>\n",
              "    </tr>\n",
              "    <tr>\n",
              "      <th>2009-12-01 07:46:00</th>\n",
              "      <td>60</td>\n",
              "      <td>10.50</td>\n",
              "      <td>2009-12-01</td>\n",
              "    </tr>\n",
              "    <tr>\n",
              "      <th>2009-12-01 09:06:00</th>\n",
              "      <td>193</td>\n",
              "      <td>70.88</td>\n",
              "      <td>2009-12-01</td>\n",
              "    </tr>\n",
              "    <tr>\n",
              "      <th>2009-12-01 09:08:00</th>\n",
              "      <td>145</td>\n",
              "      <td>83.45</td>\n",
              "      <td>2009-12-01</td>\n",
              "    </tr>\n",
              "    <tr>\n",
              "      <th>2009-12-01 09:24:00</th>\n",
              "      <td>826</td>\n",
              "      <td>44.05</td>\n",
              "      <td>2009-12-01</td>\n",
              "    </tr>\n",
              "    <tr>\n",
              "      <th>...</th>\n",
              "      <td>...</td>\n",
              "      <td>...</td>\n",
              "      <td>...</td>\n",
              "    </tr>\n",
              "    <tr>\n",
              "      <th>2011-12-09 12:23:00</th>\n",
              "      <td>76</td>\n",
              "      <td>3.30</td>\n",
              "      <td>2011-12-09</td>\n",
              "    </tr>\n",
              "    <tr>\n",
              "      <th>2011-12-09 12:25:00</th>\n",
              "      <td>120</td>\n",
              "      <td>2.57</td>\n",
              "      <td>2011-12-09</td>\n",
              "    </tr>\n",
              "    <tr>\n",
              "      <th>2011-12-09 12:31:00</th>\n",
              "      <td>278</td>\n",
              "      <td>37.78</td>\n",
              "      <td>2011-12-09</td>\n",
              "    </tr>\n",
              "    <tr>\n",
              "      <th>2011-12-09 12:49:00</th>\n",
              "      <td>66</td>\n",
              "      <td>20.23</td>\n",
              "      <td>2011-12-09</td>\n",
              "    </tr>\n",
              "    <tr>\n",
              "      <th>2011-12-09 12:50:00</th>\n",
              "      <td>106</td>\n",
              "      <td>62.50</td>\n",
              "      <td>2011-12-09</td>\n",
              "    </tr>\n",
              "  </tbody>\n",
              "</table>\n",
              "<p>34585 rows × 3 columns</p>\n",
              "</div>"
            ],
            "text/plain": [
              "                     Quantity  Price        Date\n",
              "InvoiceDate                                     \n",
              "2009-12-01 07:45:00       166  32.65  2009-12-01\n",
              "2009-12-01 07:46:00        60  10.50  2009-12-01\n",
              "2009-12-01 09:06:00       193  70.88  2009-12-01\n",
              "2009-12-01 09:08:00       145  83.45  2009-12-01\n",
              "2009-12-01 09:24:00       826  44.05  2009-12-01\n",
              "...                       ...    ...         ...\n",
              "2011-12-09 12:23:00        76   3.30  2011-12-09\n",
              "2011-12-09 12:25:00       120   2.57  2011-12-09\n",
              "2011-12-09 12:31:00       278  37.78  2011-12-09\n",
              "2011-12-09 12:49:00        66  20.23  2011-12-09\n",
              "2011-12-09 12:50:00       106  62.50  2011-12-09\n",
              "\n",
              "[34585 rows x 3 columns]"
            ]
          },
          "metadata": {
            "tags": []
          },
          "execution_count": 54
        }
      ]
    },
    {
      "cell_type": "code",
      "metadata": {
        "colab": {
          "base_uri": "https://localhost:8080/",
          "height": 450
        },
        "id": "XmqAm--CnJ1d",
        "outputId": "d7a8a1ed-b6d2-49c1-a901-5c32158c0170"
      },
      "source": [
        "# Grouping the Transactions by invoice into total transaction by date through the aggregation of the Quantity and the Price paid\n",
        "\n",
        "total_daily_transaction = grouped_invoice_date.groupby('Date').agg({'Quantity':np.sum, 'Price': np.sum})\n",
        "\n",
        "total_daily_transaction"
      ],
      "execution_count": 55,
      "outputs": [
        {
          "output_type": "execute_result",
          "data": {
            "text/html": [
              "<div>\n",
              "<style scoped>\n",
              "    .dataframe tbody tr th:only-of-type {\n",
              "        vertical-align: middle;\n",
              "    }\n",
              "\n",
              "    .dataframe tbody tr th {\n",
              "        vertical-align: top;\n",
              "    }\n",
              "\n",
              "    .dataframe thead th {\n",
              "        text-align: right;\n",
              "    }\n",
              "</style>\n",
              "<table border=\"1\" class=\"dataframe\">\n",
              "  <thead>\n",
              "    <tr style=\"text-align: right;\">\n",
              "      <th></th>\n",
              "      <th>Quantity</th>\n",
              "      <th>Price</th>\n",
              "    </tr>\n",
              "    <tr>\n",
              "      <th>Date</th>\n",
              "      <th></th>\n",
              "      <th></th>\n",
              "    </tr>\n",
              "  </thead>\n",
              "  <tbody>\n",
              "    <tr>\n",
              "      <th>2009-12-01</th>\n",
              "      <td>24437</td>\n",
              "      <td>7070.14</td>\n",
              "    </tr>\n",
              "    <tr>\n",
              "      <th>2009-12-02</th>\n",
              "      <td>29771</td>\n",
              "      <td>6857.51</td>\n",
              "    </tr>\n",
              "    <tr>\n",
              "      <th>2009-12-03</th>\n",
              "      <td>48031</td>\n",
              "      <td>7069.25</td>\n",
              "    </tr>\n",
              "    <tr>\n",
              "      <th>2009-12-04</th>\n",
              "      <td>20069</td>\n",
              "      <td>5408.13</td>\n",
              "    </tr>\n",
              "    <tr>\n",
              "      <th>2009-12-05</th>\n",
              "      <td>5119</td>\n",
              "      <td>1443.26</td>\n",
              "    </tr>\n",
              "    <tr>\n",
              "      <th>...</th>\n",
              "      <td>...</td>\n",
              "      <td>...</td>\n",
              "    </tr>\n",
              "    <tr>\n",
              "      <th>2011-12-05</th>\n",
              "      <td>38428</td>\n",
              "      <td>10688.02</td>\n",
              "    </tr>\n",
              "    <tr>\n",
              "      <th>2011-12-06</th>\n",
              "      <td>27827</td>\n",
              "      <td>6104.18</td>\n",
              "    </tr>\n",
              "    <tr>\n",
              "      <th>2011-12-07</th>\n",
              "      <td>41102</td>\n",
              "      <td>5549.63</td>\n",
              "    </tr>\n",
              "    <tr>\n",
              "      <th>2011-12-08</th>\n",
              "      <td>27551</td>\n",
              "      <td>6580.42</td>\n",
              "    </tr>\n",
              "    <tr>\n",
              "      <th>2011-12-09</th>\n",
              "      <td>90583</td>\n",
              "      <td>1554.75</td>\n",
              "    </tr>\n",
              "  </tbody>\n",
              "</table>\n",
              "<p>604 rows × 2 columns</p>\n",
              "</div>"
            ],
            "text/plain": [
              "            Quantity     Price\n",
              "Date                          \n",
              "2009-12-01     24437   7070.14\n",
              "2009-12-02     29771   6857.51\n",
              "2009-12-03     48031   7069.25\n",
              "2009-12-04     20069   5408.13\n",
              "2009-12-05      5119   1443.26\n",
              "...              ...       ...\n",
              "2011-12-05     38428  10688.02\n",
              "2011-12-06     27827   6104.18\n",
              "2011-12-07     41102   5549.63\n",
              "2011-12-08     27551   6580.42\n",
              "2011-12-09     90583   1554.75\n",
              "\n",
              "[604 rows x 2 columns]"
            ]
          },
          "metadata": {
            "tags": []
          },
          "execution_count": 55
        }
      ]
    },
    {
      "cell_type": "code",
      "metadata": {
        "colab": {
          "base_uri": "https://localhost:8080/",
          "height": 297
        },
        "id": "4JLsK9lt3_dg",
        "outputId": "70598503-1e49-4f61-b31b-5bdb16d2bd99"
      },
      "source": [
        "# Exploring the descriptives of the total daily transactions\n",
        "\n",
        "total_daily_transaction.describe()"
      ],
      "execution_count": 56,
      "outputs": [
        {
          "output_type": "execute_result",
          "data": {
            "text/html": [
              "<div>\n",
              "<style scoped>\n",
              "    .dataframe tbody tr th:only-of-type {\n",
              "        vertical-align: middle;\n",
              "    }\n",
              "\n",
              "    .dataframe tbody tr th {\n",
              "        vertical-align: top;\n",
              "    }\n",
              "\n",
              "    .dataframe thead th {\n",
              "        text-align: right;\n",
              "    }\n",
              "</style>\n",
              "<table border=\"1\" class=\"dataframe\">\n",
              "  <thead>\n",
              "    <tr style=\"text-align: right;\">\n",
              "      <th></th>\n",
              "      <th>Quantity</th>\n",
              "      <th>Price</th>\n",
              "    </tr>\n",
              "  </thead>\n",
              "  <tbody>\n",
              "    <tr>\n",
              "      <th>count</th>\n",
              "      <td>604.000000</td>\n",
              "      <td>604.000000</td>\n",
              "    </tr>\n",
              "    <tr>\n",
              "      <th>mean</th>\n",
              "      <td>17725.442053</td>\n",
              "      <td>4276.560262</td>\n",
              "    </tr>\n",
              "    <tr>\n",
              "      <th>std</th>\n",
              "      <td>12056.168495</td>\n",
              "      <td>2314.650160</td>\n",
              "    </tr>\n",
              "    <tr>\n",
              "      <th>min</th>\n",
              "      <td>2048.000000</td>\n",
              "      <td>633.090000</td>\n",
              "    </tr>\n",
              "    <tr>\n",
              "      <th>25%</th>\n",
              "      <td>11026.000000</td>\n",
              "      <td>2876.355000</td>\n",
              "    </tr>\n",
              "    <tr>\n",
              "      <th>50%</th>\n",
              "      <td>14998.500000</td>\n",
              "      <td>3701.775000</td>\n",
              "    </tr>\n",
              "    <tr>\n",
              "      <th>75%</th>\n",
              "      <td>21259.000000</td>\n",
              "      <td>5097.827500</td>\n",
              "    </tr>\n",
              "    <tr>\n",
              "      <th>max</th>\n",
              "      <td>124766.000000</td>\n",
              "      <td>20885.710000</td>\n",
              "    </tr>\n",
              "  </tbody>\n",
              "</table>\n",
              "</div>"
            ],
            "text/plain": [
              "            Quantity         Price\n",
              "count     604.000000    604.000000\n",
              "mean    17725.442053   4276.560262\n",
              "std     12056.168495   2314.650160\n",
              "min      2048.000000    633.090000\n",
              "25%     11026.000000   2876.355000\n",
              "50%     14998.500000   3701.775000\n",
              "75%     21259.000000   5097.827500\n",
              "max    124766.000000  20885.710000"
            ]
          },
          "metadata": {
            "tags": []
          },
          "execution_count": 56
        }
      ]
    },
    {
      "cell_type": "code",
      "metadata": {
        "colab": {
          "base_uri": "https://localhost:8080/",
          "height": 554
        },
        "id": "nFxUYYr92EPE",
        "outputId": "2e6d2e69-f6b9-4e57-be48-54150b9913a2"
      },
      "source": [
        "# Plotting the actual daily transaction prices and the quantities\n",
        "\n",
        "total_daily_transaction.Price.plot(figsize = (18,8), title = \"Transaction Price\")\n",
        "total_daily_transaction.Quantity.plot(figsize = (18, 8), title = \"Transaction Quantity\")\n",
        "plt.title(\"Transaction Quantity vs Price\")\n",
        "plt.legend()\n",
        "plt.show()"
      ],
      "execution_count": 57,
      "outputs": [
        {
          "output_type": "display_data",
          "data": {
            "image/png": "[encoded data removed]",
            "text/plain": [
              "<Figure size 1296x576 with 1 Axes>"
            ]
          },
          "metadata": {
            "tags": []
          }
        }
      ]
    },
    {
      "cell_type": "code",
      "metadata": {
        "colab": {
          "base_uri": "https://localhost:8080/",
          "height": 554
        },
        "id": "eq3SOHcv1GRh",
        "outputId": "7b157b74-a54c-4993-fa72-14d351a026c7"
      },
      "source": [
        "# Plotting the log of the daily transaction prices and the quantities\n",
        "\n",
        "np.log(total_daily_transaction.Price).plot(figsize = (18,8), title = \"Transaction Price\")\n",
        "np.log(total_daily_transaction.Quantity).plot(figsize = (18, 8), title = \"Transaction Quantity\")\n",
        "plt.title(\"Transaction Quantity vs Price\")\n",
        "plt.legend()\n",
        "plt.show()"
      ],
      "execution_count": 58,
      "outputs": [
        {
          "output_type": "display_data",
          "data": {
            "image/png": "[encoded data removed]",
            "text/plain": [
              "<Figure size 1296x576 with 1 Axes>"
            ]
          },
          "metadata": {
            "tags": []
          }
        }
      ]
    },
    {
      "cell_type": "code",
      "metadata": {
        "colab": {
          "base_uri": "https://localhost:8080/",
          "height": 300
        },
        "id": "iFVzJ8kzGYyG",
        "outputId": "358449f8-2a6d-4a56-e599-5b4be49e1f8f"
      },
      "source": [
        "# Checking for outliers in the daily sales quantity\n",
        "\n",
        "sns.boxplot(total_daily_transaction.Quantity)\n",
        "sns.set_palette(\"cubehelix\", 3)\n",
        "plt.show()"
      ],
      "execution_count": 59,
      "outputs": [
        {
          "output_type": "display_data",
          "data": {
            "image/png": "[encoded data removed]",
            "text/plain": [
              "<Figure size 432x288 with 1 Axes>"
            ]
          },
          "metadata": {
            "tags": []
          }
        }
      ]
    },
    {
      "cell_type": "code",
      "metadata": {
        "colab": {
          "base_uri": "https://localhost:8080/",
          "height": 300
        },
        "id": "JeRYLKpEH7io",
        "outputId": "8527f248-ddb8-4fb1-b11d-49a799d43463"
      },
      "source": [
        "# Checking for outliers in the daily transaction price\n",
        "\n",
        "sns.boxplot(total_daily_transaction.Price)\n",
        "sns.set_palette(\"cubehelix\", 3)\n",
        "plt.show()"
      ],
      "execution_count": 60,
      "outputs": [
        {
          "output_type": "display_data",
          "data": {
            "image/png": "[encoded data removed]",
            "text/plain": [
              "<Figure size 432x288 with 1 Axes>"
            ]
          },
          "metadata": {
            "tags": []
          }
        }
      ]
    },
    {
      "cell_type": "code",
      "metadata": {
        "colab": {
          "base_uri": "https://localhost:8080/",
          "height": 450
        },
        "id": "ABRcefNaIVQq",
        "outputId": "8d22003b-24d5-4327-cb92-753448a021d7"
      },
      "source": [
        "# Grouping the transactions by the unique customer ID, and summing up the quantity and the price\n",
        "\n",
        "grouped_customer = clean_final_retail_data.groupby('Customer ID').agg({'Quantity': np.sum, 'Price': np.sum})\n",
        "\n",
        "grouped_customer"
      ],
      "execution_count": 61,
      "outputs": [
        {
          "output_type": "execute_result",
          "data": {
            "text/html": [
              "<div>\n",
              "<style scoped>\n",
              "    .dataframe tbody tr th:only-of-type {\n",
              "        vertical-align: middle;\n",
              "    }\n",
              "\n",
              "    .dataframe tbody tr th {\n",
              "        vertical-align: top;\n",
              "    }\n",
              "\n",
              "    .dataframe thead th {\n",
              "        text-align: right;\n",
              "    }\n",
              "</style>\n",
              "<table border=\"1\" class=\"dataframe\">\n",
              "  <thead>\n",
              "    <tr style=\"text-align: right;\">\n",
              "      <th></th>\n",
              "      <th>Quantity</th>\n",
              "      <th>Price</th>\n",
              "    </tr>\n",
              "    <tr>\n",
              "      <th>Customer ID</th>\n",
              "      <th></th>\n",
              "      <th></th>\n",
              "    </tr>\n",
              "  </thead>\n",
              "  <tbody>\n",
              "    <tr>\n",
              "      <th>12346.0</th>\n",
              "      <td>74285</td>\n",
              "      <td>207.40</td>\n",
              "    </tr>\n",
              "    <tr>\n",
              "      <th>12347.0</th>\n",
              "      <td>3286</td>\n",
              "      <td>644.16</td>\n",
              "    </tr>\n",
              "    <tr>\n",
              "      <th>12348.0</th>\n",
              "      <td>2714</td>\n",
              "      <td>193.10</td>\n",
              "    </tr>\n",
              "    <tr>\n",
              "      <th>12349.0</th>\n",
              "      <td>1624</td>\n",
              "      <td>1480.44</td>\n",
              "    </tr>\n",
              "    <tr>\n",
              "      <th>12350.0</th>\n",
              "      <td>197</td>\n",
              "      <td>65.30</td>\n",
              "    </tr>\n",
              "    <tr>\n",
              "      <th>...</th>\n",
              "      <td>...</td>\n",
              "      <td>...</td>\n",
              "    </tr>\n",
              "    <tr>\n",
              "      <th>18283.0</th>\n",
              "      <td>1733</td>\n",
              "      <td>1719.75</td>\n",
              "    </tr>\n",
              "    <tr>\n",
              "      <th>18284.0</th>\n",
              "      <td>494</td>\n",
              "      <td>91.09</td>\n",
              "    </tr>\n",
              "    <tr>\n",
              "      <th>18285.0</th>\n",
              "      <td>145</td>\n",
              "      <td>100.20</td>\n",
              "    </tr>\n",
              "    <tr>\n",
              "      <th>18286.0</th>\n",
              "      <td>608</td>\n",
              "      <td>286.30</td>\n",
              "    </tr>\n",
              "    <tr>\n",
              "      <th>18287.0</th>\n",
              "      <td>3013</td>\n",
              "      <td>346.34</td>\n",
              "    </tr>\n",
              "  </tbody>\n",
              "</table>\n",
              "<p>5878 rows × 2 columns</p>\n",
              "</div>"
            ],
            "text/plain": [
              "             Quantity    Price\n",
              "Customer ID                   \n",
              "12346.0         74285   207.40\n",
              "12347.0          3286   644.16\n",
              "12348.0          2714   193.10\n",
              "12349.0          1624  1480.44\n",
              "12350.0           197    65.30\n",
              "...               ...      ...\n",
              "18283.0          1733  1719.75\n",
              "18284.0           494    91.09\n",
              "18285.0           145   100.20\n",
              "18286.0           608   286.30\n",
              "18287.0          3013   346.34\n",
              "\n",
              "[5878 rows x 2 columns]"
            ]
          },
          "metadata": {
            "tags": []
          },
          "execution_count": 61
        }
      ]
    },
    {
      "cell_type": "code",
      "metadata": {
        "colab": {
          "base_uri": "https://localhost:8080/",
          "height": 297
        },
        "id": "gvJ4Ic1cIvqK",
        "outputId": "52d5939a-fe59-431e-fef6-77653f2e99b0"
      },
      "source": [
        "# Exploring the descriptive statistics of the quantity and price by unique customer\n",
        "\n",
        "grouped_customer.describe()"
      ],
      "execution_count": 62,
      "outputs": [
        {
          "output_type": "execute_result",
          "data": {
            "text/html": [
              "<div>\n",
              "<style scoped>\n",
              "    .dataframe tbody tr th:only-of-type {\n",
              "        vertical-align: middle;\n",
              "    }\n",
              "\n",
              "    .dataframe tbody tr th {\n",
              "        vertical-align: top;\n",
              "    }\n",
              "\n",
              "    .dataframe thead th {\n",
              "        text-align: right;\n",
              "    }\n",
              "</style>\n",
              "<table border=\"1\" class=\"dataframe\">\n",
              "  <thead>\n",
              "    <tr style=\"text-align: right;\">\n",
              "      <th></th>\n",
              "      <th>Quantity</th>\n",
              "      <th>Price</th>\n",
              "    </tr>\n",
              "  </thead>\n",
              "  <tbody>\n",
              "    <tr>\n",
              "      <th>count</th>\n",
              "      <td>5878.000000</td>\n",
              "      <td>5878.000000</td>\n",
              "    </tr>\n",
              "    <tr>\n",
              "      <th>mean</th>\n",
              "      <td>1821.396223</td>\n",
              "      <td>439.442395</td>\n",
              "    </tr>\n",
              "    <tr>\n",
              "      <th>std</th>\n",
              "      <td>8963.011855</td>\n",
              "      <td>1341.938515</td>\n",
              "    </tr>\n",
              "    <tr>\n",
              "      <th>min</th>\n",
              "      <td>1.000000</td>\n",
              "      <td>0.170000</td>\n",
              "    </tr>\n",
              "    <tr>\n",
              "      <th>25%</th>\n",
              "      <td>190.000000</td>\n",
              "      <td>65.285000</td>\n",
              "    </tr>\n",
              "    <tr>\n",
              "      <th>50%</th>\n",
              "      <td>491.500000</td>\n",
              "      <td>168.575000</td>\n",
              "    </tr>\n",
              "    <tr>\n",
              "      <th>75%</th>\n",
              "      <td>1376.000000</td>\n",
              "      <td>442.737500</td>\n",
              "    </tr>\n",
              "    <tr>\n",
              "      <th>max</th>\n",
              "      <td>367193.000000</td>\n",
              "      <td>57753.060000</td>\n",
              "    </tr>\n",
              "  </tbody>\n",
              "</table>\n",
              "</div>"
            ],
            "text/plain": [
              "            Quantity         Price\n",
              "count    5878.000000   5878.000000\n",
              "mean     1821.396223    439.442395\n",
              "std      8963.011855   1341.938515\n",
              "min         1.000000      0.170000\n",
              "25%       190.000000     65.285000\n",
              "50%       491.500000    168.575000\n",
              "75%      1376.000000    442.737500\n",
              "max    367193.000000  57753.060000"
            ]
          },
          "metadata": {
            "tags": []
          },
          "execution_count": 62
        }
      ]
    },
    {
      "cell_type": "code",
      "metadata": {
        "colab": {
          "base_uri": "https://localhost:8080/",
          "height": 419
        },
        "id": "tzj-RHYhK3g2",
        "outputId": "8848e116-e0b9-42bf-d71d-333fc43605e9"
      },
      "source": [
        "# Grouping the dataset by invoice and aggregating the price per invoice, essentially invoice value\n",
        "\n",
        "grouped_invoice_df = clean_final_retail_data.groupby('Invoice')['Price'].sum().reset_index(name='InvoiceValue')\n",
        "\n",
        "grouped_invoice_df"
      ],
      "execution_count": 63,
      "outputs": [
        {
          "output_type": "execute_result",
          "data": {
            "text/html": [
              "<div>\n",
              "<style scoped>\n",
              "    .dataframe tbody tr th:only-of-type {\n",
              "        vertical-align: middle;\n",
              "    }\n",
              "\n",
              "    .dataframe tbody tr th {\n",
              "        vertical-align: top;\n",
              "    }\n",
              "\n",
              "    .dataframe thead th {\n",
              "        text-align: right;\n",
              "    }\n",
              "</style>\n",
              "<table border=\"1\" class=\"dataframe\">\n",
              "  <thead>\n",
              "    <tr style=\"text-align: right;\">\n",
              "      <th></th>\n",
              "      <th>Invoice</th>\n",
              "      <th>InvoiceValue</th>\n",
              "    </tr>\n",
              "  </thead>\n",
              "  <tbody>\n",
              "    <tr>\n",
              "      <th>0</th>\n",
              "      <td>489434</td>\n",
              "      <td>32.65</td>\n",
              "    </tr>\n",
              "    <tr>\n",
              "      <th>1</th>\n",
              "      <td>489435</td>\n",
              "      <td>10.50</td>\n",
              "    </tr>\n",
              "    <tr>\n",
              "      <th>2</th>\n",
              "      <td>489436</td>\n",
              "      <td>70.88</td>\n",
              "    </tr>\n",
              "    <tr>\n",
              "      <th>3</th>\n",
              "      <td>489437</td>\n",
              "      <td>83.45</td>\n",
              "    </tr>\n",
              "    <tr>\n",
              "      <th>4</th>\n",
              "      <td>489438</td>\n",
              "      <td>44.05</td>\n",
              "    </tr>\n",
              "    <tr>\n",
              "      <th>...</th>\n",
              "      <td>...</td>\n",
              "      <td>...</td>\n",
              "    </tr>\n",
              "    <tr>\n",
              "      <th>36964</th>\n",
              "      <td>581583</td>\n",
              "      <td>3.30</td>\n",
              "    </tr>\n",
              "    <tr>\n",
              "      <th>36965</th>\n",
              "      <td>581584</td>\n",
              "      <td>2.57</td>\n",
              "    </tr>\n",
              "    <tr>\n",
              "      <th>36966</th>\n",
              "      <td>581585</td>\n",
              "      <td>37.78</td>\n",
              "    </tr>\n",
              "    <tr>\n",
              "      <th>36967</th>\n",
              "      <td>581586</td>\n",
              "      <td>20.23</td>\n",
              "    </tr>\n",
              "    <tr>\n",
              "      <th>36968</th>\n",
              "      <td>581587</td>\n",
              "      <td>62.50</td>\n",
              "    </tr>\n",
              "  </tbody>\n",
              "</table>\n",
              "<p>36969 rows × 2 columns</p>\n",
              "</div>"
            ],
            "text/plain": [
              "       Invoice  InvoiceValue\n",
              "0       489434         32.65\n",
              "1       489435         10.50\n",
              "2       489436         70.88\n",
              "3       489437         83.45\n",
              "4       489438         44.05\n",
              "...        ...           ...\n",
              "36964   581583          3.30\n",
              "36965   581584          2.57\n",
              "36966   581585         37.78\n",
              "36967   581586         20.23\n",
              "36968   581587         62.50\n",
              "\n",
              "[36969 rows x 2 columns]"
            ]
          },
          "metadata": {
            "tags": []
          },
          "execution_count": 63
        }
      ]
    },
    {
      "cell_type": "code",
      "metadata": {
        "colab": {
          "base_uri": "https://localhost:8080/",
          "height": 419
        },
        "id": "HHjQ4nIgL6g8",
        "outputId": "db3b81d2-3ed1-4c7a-c4f3-69a7f61705ee"
      },
      "source": [
        "# Grouping the dataset by the invoicedate and aggregating the invoice value\n",
        "\n",
        "grouped_invoice_date_df = clean_final_retail_data.groupby('InvoiceDate')['Price'].sum().reset_index(name='InvoiceValue')\n",
        "\n",
        "grouped_invoice_date_df"
      ],
      "execution_count": 64,
      "outputs": [
        {
          "output_type": "execute_result",
          "data": {
            "text/html": [
              "<div>\n",
              "<style scoped>\n",
              "    .dataframe tbody tr th:only-of-type {\n",
              "        vertical-align: middle;\n",
              "    }\n",
              "\n",
              "    .dataframe tbody tr th {\n",
              "        vertical-align: top;\n",
              "    }\n",
              "\n",
              "    .dataframe thead th {\n",
              "        text-align: right;\n",
              "    }\n",
              "</style>\n",
              "<table border=\"1\" class=\"dataframe\">\n",
              "  <thead>\n",
              "    <tr style=\"text-align: right;\">\n",
              "      <th></th>\n",
              "      <th>InvoiceDate</th>\n",
              "      <th>InvoiceValue</th>\n",
              "    </tr>\n",
              "  </thead>\n",
              "  <tbody>\n",
              "    <tr>\n",
              "      <th>0</th>\n",
              "      <td>2009-12-01 07:45:00</td>\n",
              "      <td>32.65</td>\n",
              "    </tr>\n",
              "    <tr>\n",
              "      <th>1</th>\n",
              "      <td>2009-12-01 07:46:00</td>\n",
              "      <td>10.50</td>\n",
              "    </tr>\n",
              "    <tr>\n",
              "      <th>2</th>\n",
              "      <td>2009-12-01 09:06:00</td>\n",
              "      <td>70.88</td>\n",
              "    </tr>\n",
              "    <tr>\n",
              "      <th>3</th>\n",
              "      <td>2009-12-01 09:08:00</td>\n",
              "      <td>83.45</td>\n",
              "    </tr>\n",
              "    <tr>\n",
              "      <th>4</th>\n",
              "      <td>2009-12-01 09:24:00</td>\n",
              "      <td>44.05</td>\n",
              "    </tr>\n",
              "    <tr>\n",
              "      <th>...</th>\n",
              "      <td>...</td>\n",
              "      <td>...</td>\n",
              "    </tr>\n",
              "    <tr>\n",
              "      <th>34580</th>\n",
              "      <td>2011-12-09 12:23:00</td>\n",
              "      <td>3.30</td>\n",
              "    </tr>\n",
              "    <tr>\n",
              "      <th>34581</th>\n",
              "      <td>2011-12-09 12:25:00</td>\n",
              "      <td>2.57</td>\n",
              "    </tr>\n",
              "    <tr>\n",
              "      <th>34582</th>\n",
              "      <td>2011-12-09 12:31:00</td>\n",
              "      <td>37.78</td>\n",
              "    </tr>\n",
              "    <tr>\n",
              "      <th>34583</th>\n",
              "      <td>2011-12-09 12:49:00</td>\n",
              "      <td>20.23</td>\n",
              "    </tr>\n",
              "    <tr>\n",
              "      <th>34584</th>\n",
              "      <td>2011-12-09 12:50:00</td>\n",
              "      <td>62.50</td>\n",
              "    </tr>\n",
              "  </tbody>\n",
              "</table>\n",
              "<p>34585 rows × 2 columns</p>\n",
              "</div>"
            ],
            "text/plain": [
              "              InvoiceDate  InvoiceValue\n",
              "0     2009-12-01 07:45:00         32.65\n",
              "1     2009-12-01 07:46:00         10.50\n",
              "2     2009-12-01 09:06:00         70.88\n",
              "3     2009-12-01 09:08:00         83.45\n",
              "4     2009-12-01 09:24:00         44.05\n",
              "...                   ...           ...\n",
              "34580 2011-12-09 12:23:00          3.30\n",
              "34581 2011-12-09 12:25:00          2.57\n",
              "34582 2011-12-09 12:31:00         37.78\n",
              "34583 2011-12-09 12:49:00         20.23\n",
              "34584 2011-12-09 12:50:00         62.50\n",
              "\n",
              "[34585 rows x 2 columns]"
            ]
          },
          "metadata": {
            "tags": []
          },
          "execution_count": 64
        }
      ]
    },
    {
      "cell_type": "code",
      "metadata": {
        "colab": {
          "base_uri": "https://localhost:8080/",
          "height": 453
        },
        "id": "TUPiBmFoMBxi",
        "outputId": "44596efc-0fa6-45ce-8a1c-b28dec30d701"
      },
      "source": [
        "# Plotting the daily total invoice value for all transactions\n",
        "\n",
        "def plot_df(df, x, y, title = \"\", xlabel = \"Date\", ylabel = \"Value\", dpi = 100):\n",
        "  plt.figure(figsize = (16, 5), dpi=dpi)\n",
        "  plt.plot(x, y, color = \"tab:red\")\n",
        "  plt.gca().set(title = title, xlabel = xlabel, ylabel = ylabel)\n",
        "  plt.show()\n",
        "\n",
        "plot_df(grouped_invoice_date_df, x = grouped_invoice_date_df.InvoiceDate, y = grouped_invoice_date_df.InvoiceValue, title = \"Daily Invoice Value\")"
      ],
      "execution_count": 65,
      "outputs": [
        {
          "output_type": "display_data",
          "data": {
            "image/png": "[encoded data removed]",
            "text/plain": [
              "<Figure size 1600x500 with 1 Axes>"
            ]
          },
          "metadata": {
            "tags": []
          }
        }
      ]
    },
    {
      "cell_type": "code",
      "metadata": {
        "colab": {
          "base_uri": "https://localhost:8080/"
        },
        "id": "qT9GONHxN-9Z",
        "outputId": "f1a01dc1-48c2-46d7-89df-2bf86452a0db"
      },
      "source": [
        "# Exploring the number of days between the earliest entry and the last entry for the transactions\n",
        "\n",
        "grouped_invoice_date_df['InvoiceDate'].max() - grouped_invoice_date_df['InvoiceDate'].min()"
      ],
      "execution_count": 66,
      "outputs": [
        {
          "output_type": "execute_result",
          "data": {
            "text/plain": [
              "Timedelta('738 days 05:05:00')"
            ]
          },
          "metadata": {
            "tags": []
          },
          "execution_count": 66
        }
      ]
    },
    {
      "cell_type": "code",
      "metadata": {
        "colab": {
          "base_uri": "https://localhost:8080/",
          "height": 204
        },
        "id": "hSR1GdUTOWUr",
        "outputId": "3bce4cc3-2782-4984-d514-ffde13fbb525"
      },
      "source": [
        "# Extracting the invoice month from the grouped invoice dataset\n",
        "\n",
        "grouped_invoice_date_df['month'] = grouped_invoice_date_df['InvoiceDate'].dt.month\n",
        "\n",
        "grouped_invoice_date_df.head()\n",
        "\n",
        "\n",
        "## - Possible further action (PFA) \n",
        "# Extract year and month, group observations in the full dataset by year and month, \n",
        "# Same can be done for the quarter as well. \n",
        "# Explore variations and nuances within and between the various cycles "
      ],
      "execution_count": 68,
      "outputs": [
        {
          "output_type": "execute_result",
          "data": {
            "text/html": [
              "<div>\n",
              "<style scoped>\n",
              "    .dataframe tbody tr th:only-of-type {\n",
              "        vertical-align: middle;\n",
              "    }\n",
              "\n",
              "    .dataframe tbody tr th {\n",
              "        vertical-align: top;\n",
              "    }\n",
              "\n",
              "    .dataframe thead th {\n",
              "        text-align: right;\n",
              "    }\n",
              "</style>\n",
              "<table border=\"1\" class=\"dataframe\">\n",
              "  <thead>\n",
              "    <tr style=\"text-align: right;\">\n",
              "      <th></th>\n",
              "      <th>InvoiceDate</th>\n",
              "      <th>InvoiceValue</th>\n",
              "      <th>month</th>\n",
              "    </tr>\n",
              "  </thead>\n",
              "  <tbody>\n",
              "    <tr>\n",
              "      <th>0</th>\n",
              "      <td>2009-12-01 07:45:00</td>\n",
              "      <td>32.65</td>\n",
              "      <td>12</td>\n",
              "    </tr>\n",
              "    <tr>\n",
              "      <th>1</th>\n",
              "      <td>2009-12-01 07:46:00</td>\n",
              "      <td>10.50</td>\n",
              "      <td>12</td>\n",
              "    </tr>\n",
              "    <tr>\n",
              "      <th>2</th>\n",
              "      <td>2009-12-01 09:06:00</td>\n",
              "      <td>70.88</td>\n",
              "      <td>12</td>\n",
              "    </tr>\n",
              "    <tr>\n",
              "      <th>3</th>\n",
              "      <td>2009-12-01 09:08:00</td>\n",
              "      <td>83.45</td>\n",
              "      <td>12</td>\n",
              "    </tr>\n",
              "    <tr>\n",
              "      <th>4</th>\n",
              "      <td>2009-12-01 09:24:00</td>\n",
              "      <td>44.05</td>\n",
              "      <td>12</td>\n",
              "    </tr>\n",
              "  </tbody>\n",
              "</table>\n",
              "</div>"
            ],
            "text/plain": [
              "          InvoiceDate  InvoiceValue  month\n",
              "0 2009-12-01 07:45:00         32.65     12\n",
              "1 2009-12-01 07:46:00         10.50     12\n",
              "2 2009-12-01 09:06:00         70.88     12\n",
              "3 2009-12-01 09:08:00         83.45     12\n",
              "4 2009-12-01 09:24:00         44.05     12"
            ]
          },
          "metadata": {
            "tags": []
          },
          "execution_count": 68
        }
      ]
    },
    {
      "cell_type": "code",
      "metadata": {
        "id": "I4ac__slQMdi"
      },
      "source": [
        "# Datasets extracted from the overall database\n",
        "\n",
        "# Merged dataset from the two dataframes from the spreadsheets\n",
        "final_retail_data\n",
        "\n",
        "# Cleaned final retail dataset, excluding negative quantity transactions (returned merchandise) and transactions for which no price was paid (discounts/bonanza/stolen)\n",
        "clean_final_retail_data\n",
        "\n",
        "# Total retail transactions grouped by the day\n",
        "total_daily_transaction\n",
        "\n",
        "# Transaction with negative (returned) quantities \n",
        "negative_quantity\n",
        "\n",
        "# Transactions with zero prices\n",
        "zero_price_paid\n",
        "\n",
        "# Transactions grouped by the invoice dates, essentially the date payments are made \n",
        "grouped_invoice_date_df\n",
        "\n",
        "# Transactions grouped by the invoices raise, differentiated from invoice date, interpreted to be date when payments are made \n",
        "grouped_invoice_df\n",
        "\n",
        "# Transactions grouped by customers. \n",
        "grouped_customer\n",
        "\n",
        "##### There will be more"
      ],
      "execution_count": null,
      "outputs": []
    },
    {
      "cell_type": "code",
      "metadata": {
        "colab": {
          "base_uri": "https://localhost:8080/"
        },
        "id": "0jOL-FHGg0a5",
        "outputId": "11821a55-ede5-4380-91a1-11f915223a6b"
      },
      "source": [
        "from google.colab import drive # for more on writing and reading files through colab https://towardsdatascience.com/reading-and-writing-files-with-google-colaboratory-f0c234683946\n",
        "drive.mount(\"/drive\")"
      ],
      "execution_count": null,
      "outputs": [
        {
          "output_type": "stream",
          "text": [
            "Mounted at /drive\n"
          ],
          "name": "stdout"
        }
      ]
    },
    {
      "cell_type": "code",
      "metadata": {
        "id": "oJ34rRS8g5oI"
      },
      "source": [
        "# Exporting the data to a csv file \n",
        "\n",
        "clean_final_retail_data.to_csv(\"/drive/My Drive/Colab Notebooks/clean_final_retail_data.csv\", index = False)"
      ],
      "execution_count": null,
      "outputs": []
    },
    {
      "cell_type": "code",
      "metadata": {
        "id": "v1240MicTq00"
      },
      "source": [
        ""
      ],
      "execution_count": null,
      "outputs": []
    }
  ]
}